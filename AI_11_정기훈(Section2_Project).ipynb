{
  "cells": [
    {
      "cell_type": "markdown",
      "metadata": {
        "id": "view-in-github",
        "colab_type": "text"
      },
      "source": [
        "<a href=\"https://colab.research.google.com/github/Jeong-ki-hun/Section2_Project/blob/main/%08AI_11_%EC%A0%95%EA%B8%B0%ED%9B%88(Section2_Project).ipynb\" target=\"_parent\"><img src=\"https://colab.research.google.com/assets/colab-badge.svg\" alt=\"Open In Colab\"/></a>"
      ]
    },
    {
      "cell_type": "code",
      "source": [
        "!pip install category_encoders\n",
        "!pip install shap\n",
        "!pip install pandas_profiling\n",
        "!pip install eli5\n",
        "!pip install pdpbox\n",
        "!pip install matplotlib.pyplot"
      ],
      "metadata": {
        "colab": {
          "base_uri": "https://localhost:8080/",
          "height": 1000
        },
        "id": "ZQYWQ35vcTyb",
        "outputId": "b33d0aa9-6eb2-4e57-e060-166a0f462b39"
      },
      "execution_count": 1,
      "outputs": [
        {
          "output_type": "stream",
          "name": "stdout",
          "text": [
            "Looking in indexes: https://pypi.org/simple, https://us-python.pkg.dev/colab-wheels/public/simple/\n",
            "Collecting category_encoders\n",
            "  Downloading category_encoders-2.5.0-py2.py3-none-any.whl (69 kB)\n",
            "\u001b[K     |████████████████████████████████| 69 kB 6.1 MB/s \n",
            "\u001b[?25hRequirement already satisfied: scikit-learn>=0.20.0 in /usr/local/lib/python3.7/dist-packages (from category_encoders) (1.0.2)\n",
            "Requirement already satisfied: statsmodels>=0.9.0 in /usr/local/lib/python3.7/dist-packages (from category_encoders) (0.10.2)\n",
            "Requirement already satisfied: pandas>=1.0.5 in /usr/local/lib/python3.7/dist-packages (from category_encoders) (1.3.5)\n",
            "Requirement already satisfied: numpy>=1.14.0 in /usr/local/lib/python3.7/dist-packages (from category_encoders) (1.21.6)\n",
            "Requirement already satisfied: scipy>=1.0.0 in /usr/local/lib/python3.7/dist-packages (from category_encoders) (1.7.3)\n",
            "Requirement already satisfied: patsy>=0.5.1 in /usr/local/lib/python3.7/dist-packages (from category_encoders) (0.5.2)\n",
            "Requirement already satisfied: pytz>=2017.3 in /usr/local/lib/python3.7/dist-packages (from pandas>=1.0.5->category_encoders) (2022.2)\n",
            "Requirement already satisfied: python-dateutil>=2.7.3 in /usr/local/lib/python3.7/dist-packages (from pandas>=1.0.5->category_encoders) (2.8.2)\n",
            "Requirement already satisfied: six in /usr/local/lib/python3.7/dist-packages (from patsy>=0.5.1->category_encoders) (1.15.0)\n",
            "Requirement already satisfied: threadpoolctl>=2.0.0 in /usr/local/lib/python3.7/dist-packages (from scikit-learn>=0.20.0->category_encoders) (3.1.0)\n",
            "Requirement already satisfied: joblib>=0.11 in /usr/local/lib/python3.7/dist-packages (from scikit-learn>=0.20.0->category_encoders) (1.1.0)\n",
            "Installing collected packages: category-encoders\n",
            "Successfully installed category-encoders-2.5.0\n",
            "Looking in indexes: https://pypi.org/simple, https://us-python.pkg.dev/colab-wheels/public/simple/\n",
            "Collecting shap\n",
            "  Downloading shap-0.41.0-cp37-cp37m-manylinux_2_12_x86_64.manylinux2010_x86_64.whl (569 kB)\n",
            "\u001b[K     |████████████████████████████████| 569 kB 26.9 MB/s \n",
            "\u001b[?25hRequirement already satisfied: numpy in /usr/local/lib/python3.7/dist-packages (from shap) (1.21.6)\n",
            "Requirement already satisfied: pandas in /usr/local/lib/python3.7/dist-packages (from shap) (1.3.5)\n",
            "Collecting slicer==0.0.7\n",
            "  Downloading slicer-0.0.7-py3-none-any.whl (14 kB)\n",
            "Requirement already satisfied: scikit-learn in /usr/local/lib/python3.7/dist-packages (from shap) (1.0.2)\n",
            "Requirement already satisfied: scipy in /usr/local/lib/python3.7/dist-packages (from shap) (1.7.3)\n",
            "Requirement already satisfied: tqdm>4.25.0 in /usr/local/lib/python3.7/dist-packages (from shap) (4.64.0)\n",
            "Requirement already satisfied: cloudpickle in /usr/local/lib/python3.7/dist-packages (from shap) (1.3.0)\n",
            "Requirement already satisfied: packaging>20.9 in /usr/local/lib/python3.7/dist-packages (from shap) (21.3)\n",
            "Requirement already satisfied: numba in /usr/local/lib/python3.7/dist-packages (from shap) (0.56.0)\n",
            "Requirement already satisfied: pyparsing!=3.0.5,>=2.0.2 in /usr/local/lib/python3.7/dist-packages (from packaging>20.9->shap) (3.0.9)\n",
            "Requirement already satisfied: importlib-metadata in /usr/local/lib/python3.7/dist-packages (from numba->shap) (4.12.0)\n",
            "Requirement already satisfied: llvmlite<0.40,>=0.39.0dev0 in /usr/local/lib/python3.7/dist-packages (from numba->shap) (0.39.0)\n",
            "Requirement already satisfied: setuptools in /usr/local/lib/python3.7/dist-packages (from numba->shap) (57.4.0)\n",
            "Requirement already satisfied: zipp>=0.5 in /usr/local/lib/python3.7/dist-packages (from importlib-metadata->numba->shap) (3.8.1)\n",
            "Requirement already satisfied: typing-extensions>=3.6.4 in /usr/local/lib/python3.7/dist-packages (from importlib-metadata->numba->shap) (4.1.1)\n",
            "Requirement already satisfied: pytz>=2017.3 in /usr/local/lib/python3.7/dist-packages (from pandas->shap) (2022.2)\n",
            "Requirement already satisfied: python-dateutil>=2.7.3 in /usr/local/lib/python3.7/dist-packages (from pandas->shap) (2.8.2)\n",
            "Requirement already satisfied: six>=1.5 in /usr/local/lib/python3.7/dist-packages (from python-dateutil>=2.7.3->pandas->shap) (1.15.0)\n",
            "Requirement already satisfied: joblib>=0.11 in /usr/local/lib/python3.7/dist-packages (from scikit-learn->shap) (1.1.0)\n",
            "Requirement already satisfied: threadpoolctl>=2.0.0 in /usr/local/lib/python3.7/dist-packages (from scikit-learn->shap) (3.1.0)\n",
            "Installing collected packages: slicer, shap\n",
            "Successfully installed shap-0.41.0 slicer-0.0.7\n",
            "Looking in indexes: https://pypi.org/simple, https://us-python.pkg.dev/colab-wheels/public/simple/\n",
            "Requirement already satisfied: pandas_profiling in /usr/local/lib/python3.7/dist-packages (1.4.1)\n",
            "Requirement already satisfied: jinja2>=2.8 in /usr/local/lib/python3.7/dist-packages (from pandas_profiling) (2.11.3)\n",
            "Requirement already satisfied: matplotlib>=1.4 in /usr/local/lib/python3.7/dist-packages (from pandas_profiling) (3.2.2)\n",
            "Requirement already satisfied: six>=1.9 in /usr/local/lib/python3.7/dist-packages (from pandas_profiling) (1.15.0)\n",
            "Requirement already satisfied: pandas>=0.19 in /usr/local/lib/python3.7/dist-packages (from pandas_profiling) (1.3.5)\n",
            "Requirement already satisfied: MarkupSafe>=0.23 in /usr/local/lib/python3.7/dist-packages (from jinja2>=2.8->pandas_profiling) (2.0.1)\n",
            "Requirement already satisfied: python-dateutil>=2.1 in /usr/local/lib/python3.7/dist-packages (from matplotlib>=1.4->pandas_profiling) (2.8.2)\n",
            "Requirement already satisfied: kiwisolver>=1.0.1 in /usr/local/lib/python3.7/dist-packages (from matplotlib>=1.4->pandas_profiling) (1.4.4)\n",
            "Requirement already satisfied: pyparsing!=2.0.4,!=2.1.2,!=2.1.6,>=2.0.1 in /usr/local/lib/python3.7/dist-packages (from matplotlib>=1.4->pandas_profiling) (3.0.9)\n",
            "Requirement already satisfied: cycler>=0.10 in /usr/local/lib/python3.7/dist-packages (from matplotlib>=1.4->pandas_profiling) (0.11.0)\n",
            "Requirement already satisfied: numpy>=1.11 in /usr/local/lib/python3.7/dist-packages (from matplotlib>=1.4->pandas_profiling) (1.21.6)\n",
            "Requirement already satisfied: typing-extensions in /usr/local/lib/python3.7/dist-packages (from kiwisolver>=1.0.1->matplotlib>=1.4->pandas_profiling) (4.1.1)\n",
            "Requirement already satisfied: pytz>=2017.3 in /usr/local/lib/python3.7/dist-packages (from pandas>=0.19->pandas_profiling) (2022.2)\n",
            "Looking in indexes: https://pypi.org/simple, https://us-python.pkg.dev/colab-wheels/public/simple/\n",
            "Collecting eli5\n",
            "  Downloading eli5-0.13.0.tar.gz (216 kB)\n",
            "\u001b[K     |████████████████████████████████| 216 kB 29.9 MB/s \n",
            "\u001b[?25hRequirement already satisfied: attrs>17.1.0 in /usr/local/lib/python3.7/dist-packages (from eli5) (22.1.0)\n",
            "Collecting jinja2>=3.0.0\n",
            "  Downloading Jinja2-3.1.2-py3-none-any.whl (133 kB)\n",
            "\u001b[K     |████████████████████████████████| 133 kB 56.6 MB/s \n",
            "\u001b[?25hRequirement already satisfied: numpy>=1.9.0 in /usr/local/lib/python3.7/dist-packages (from eli5) (1.21.6)\n",
            "Requirement already satisfied: scipy in /usr/local/lib/python3.7/dist-packages (from eli5) (1.7.3)\n",
            "Requirement already satisfied: six in /usr/local/lib/python3.7/dist-packages (from eli5) (1.15.0)\n",
            "Requirement already satisfied: scikit-learn>=0.20 in /usr/local/lib/python3.7/dist-packages (from eli5) (1.0.2)\n",
            "Requirement already satisfied: graphviz in /usr/local/lib/python3.7/dist-packages (from eli5) (0.10.1)\n",
            "Requirement already satisfied: tabulate>=0.7.7 in /usr/local/lib/python3.7/dist-packages (from eli5) (0.8.10)\n",
            "Requirement already satisfied: MarkupSafe>=2.0 in /usr/local/lib/python3.7/dist-packages (from jinja2>=3.0.0->eli5) (2.0.1)\n",
            "Requirement already satisfied: joblib>=0.11 in /usr/local/lib/python3.7/dist-packages (from scikit-learn>=0.20->eli5) (1.1.0)\n",
            "Requirement already satisfied: threadpoolctl>=2.0.0 in /usr/local/lib/python3.7/dist-packages (from scikit-learn>=0.20->eli5) (3.1.0)\n",
            "Building wheels for collected packages: eli5\n",
            "  Building wheel for eli5 (setup.py) ... \u001b[?25l\u001b[?25hdone\n",
            "  Created wheel for eli5: filename=eli5-0.13.0-py2.py3-none-any.whl size=107748 sha256=fea2e1096890c17f2cec0422b606b043e1e44ece2eec44a9f33b7cf5323b7b5f\n",
            "  Stored in directory: /root/.cache/pip/wheels/cc/3c/96/3ead31a8e6c20fc0f1a707fde2e05d49a80b1b4b30096573be\n",
            "Successfully built eli5\n",
            "Installing collected packages: jinja2, eli5\n",
            "  Attempting uninstall: jinja2\n",
            "    Found existing installation: Jinja2 2.11.3\n",
            "    Uninstalling Jinja2-2.11.3:\n",
            "      Successfully uninstalled Jinja2-2.11.3\n",
            "\u001b[31mERROR: pip's dependency resolver does not currently take into account all the packages that are installed. This behaviour is the source of the following dependency conflicts.\n",
            "flask 1.1.4 requires Jinja2<3.0,>=2.10.1, but you have jinja2 3.1.2 which is incompatible.\u001b[0m\n",
            "Successfully installed eli5-0.13.0 jinja2-3.1.2\n",
            "Looking in indexes: https://pypi.org/simple, https://us-python.pkg.dev/colab-wheels/public/simple/\n",
            "Collecting pdpbox\n",
            "  Downloading PDPbox-0.2.1.tar.gz (34.0 MB)\n",
            "\u001b[K     |████████████████████████████████| 34.0 MB 238 kB/s \n",
            "\u001b[?25hRequirement already satisfied: pandas in /usr/local/lib/python3.7/dist-packages (from pdpbox) (1.3.5)\n",
            "Requirement already satisfied: numpy in /usr/local/lib/python3.7/dist-packages (from pdpbox) (1.21.6)\n",
            "Requirement already satisfied: scipy in /usr/local/lib/python3.7/dist-packages (from pdpbox) (1.7.3)\n",
            "Requirement already satisfied: joblib in /usr/local/lib/python3.7/dist-packages (from pdpbox) (1.1.0)\n",
            "Requirement already satisfied: psutil in /usr/local/lib/python3.7/dist-packages (from pdpbox) (5.4.8)\n",
            "Collecting matplotlib==3.1.1\n",
            "  Downloading matplotlib-3.1.1-cp37-cp37m-manylinux1_x86_64.whl (13.1 MB)\n",
            "\u001b[K     |████████████████████████████████| 13.1 MB 52.6 MB/s \n",
            "\u001b[?25hRequirement already satisfied: sklearn in /usr/local/lib/python3.7/dist-packages (from pdpbox) (0.0)\n",
            "Requirement already satisfied: pyparsing!=2.0.4,!=2.1.2,!=2.1.6,>=2.0.1 in /usr/local/lib/python3.7/dist-packages (from matplotlib==3.1.1->pdpbox) (3.0.9)\n",
            "Requirement already satisfied: python-dateutil>=2.1 in /usr/local/lib/python3.7/dist-packages (from matplotlib==3.1.1->pdpbox) (2.8.2)\n",
            "Requirement already satisfied: cycler>=0.10 in /usr/local/lib/python3.7/dist-packages (from matplotlib==3.1.1->pdpbox) (0.11.0)\n",
            "Requirement already satisfied: kiwisolver>=1.0.1 in /usr/local/lib/python3.7/dist-packages (from matplotlib==3.1.1->pdpbox) (1.4.4)\n",
            "Requirement already satisfied: typing-extensions in /usr/local/lib/python3.7/dist-packages (from kiwisolver>=1.0.1->matplotlib==3.1.1->pdpbox) (4.1.1)\n",
            "Requirement already satisfied: six>=1.5 in /usr/local/lib/python3.7/dist-packages (from python-dateutil>=2.1->matplotlib==3.1.1->pdpbox) (1.15.0)\n",
            "Requirement already satisfied: pytz>=2017.3 in /usr/local/lib/python3.7/dist-packages (from pandas->pdpbox) (2022.2)\n",
            "Requirement already satisfied: scikit-learn in /usr/local/lib/python3.7/dist-packages (from sklearn->pdpbox) (1.0.2)\n",
            "Requirement already satisfied: threadpoolctl>=2.0.0 in /usr/local/lib/python3.7/dist-packages (from scikit-learn->sklearn->pdpbox) (3.1.0)\n",
            "Building wheels for collected packages: pdpbox\n",
            "  Building wheel for pdpbox (setup.py) ... \u001b[?25l\u001b[?25hdone\n",
            "  Created wheel for pdpbox: filename=PDPbox-0.2.1-py3-none-any.whl size=35758224 sha256=6886240bfc7fcd128fc64736c83e793e3e69c4dc01fbf955e5ce90f157fc8543\n",
            "  Stored in directory: /root/.cache/pip/wheels/f4/d0/1a/b80035625c53131f52906a6fc4dd690d8efd2bf8af6a4015eb\n",
            "Successfully built pdpbox\n",
            "Installing collected packages: matplotlib, pdpbox\n",
            "  Attempting uninstall: matplotlib\n",
            "    Found existing installation: matplotlib 3.2.2\n",
            "    Uninstalling matplotlib-3.2.2:\n",
            "      Successfully uninstalled matplotlib-3.2.2\n",
            "Successfully installed matplotlib-3.1.1 pdpbox-0.2.1\n"
          ]
        },
        {
          "output_type": "display_data",
          "data": {
            "application/vnd.colab-display-data+json": {
              "pip_warning": {
                "packages": [
                  "matplotlib",
                  "mpl_toolkits"
                ]
              }
            }
          },
          "metadata": {}
        },
        {
          "output_type": "stream",
          "name": "stdout",
          "text": [
            "Looking in indexes: https://pypi.org/simple, https://us-python.pkg.dev/colab-wheels/public/simple/\n",
            "\u001b[31mERROR: Could not find a version that satisfies the requirement matplotlib.pyplot (from versions: none)\u001b[0m\n",
            "\u001b[31mERROR: No matching distribution found for matplotlib.pyplot\u001b[0m\n"
          ]
        }
      ]
    },
    {
      "cell_type": "markdown",
      "source": [
        "# 라이브러리 호출"
      ],
      "metadata": {
        "id": "evMTWrZ2GOeX"
      }
    },
    {
      "cell_type": "code",
      "execution_count": 2,
      "metadata": {
        "id": "437nQj7McNkQ",
        "colab": {
          "base_uri": "https://localhost:8080/"
        },
        "outputId": "4ab3ab6d-024d-4017-fd3c-8c1ea98387e4"
      },
      "outputs": [
        {
          "output_type": "stream",
          "name": "stderr",
          "text": [
            "/usr/local/lib/python3.7/dist-packages/statsmodels/tools/_testing.py:19: FutureWarning: pandas.util.testing is deprecated. Use the functions in the public API at pandas.testing instead.\n",
            "  import pandas.util.testing as tm\n"
          ]
        }
      ],
      "source": [
        "import pandas as pd\n",
        "import numpy as np\n",
        "import seaborn as sns\n",
        "import matplotlib.pyplot as plt\n",
        "%matplotlib inline\n",
        "plt.style.use('ggplot')\n",
        "plt.rc('font', family='NanumBarunGothic') \n",
        "sns.set_style(\"whitegrid\")\n",
        "\n",
        "from sklearn.model_selection import train_test_split\n",
        "from sklearn.model_selection import RandomizedSearchCV\n",
        "from sklearn.preprocessing import LabelEncoder\n",
        "from sklearn.linear_model import Ridge, Lasso, ElasticNet\n",
        "from sklearn.ensemble import RandomForestRegressor\n",
        "from sklearn.tree import DecisionTreeRegressor\n",
        "from sklearn.metrics import r2_score\n",
        "from sklearn.model_selection import RandomizedSearchCV\n",
        "from category_encoders import OrdinalEncoder, OneHotEncoder\n",
        "from scipy.stats import randint\n",
        "import shap\n",
        "from pdpbox.pdp import pdp_interact_plot,pdp_plot,pdp_isolate,pdp_interact"
      ]
    },
    {
      "cell_type": "code",
      "source": [
        "from google.colab import drive\n",
        "drive.mount('/content/drive')"
      ],
      "metadata": {
        "colab": {
          "base_uri": "https://localhost:8080/"
        },
        "id": "7UG36bZVccKb",
        "outputId": "a4a8f843-86a6-4a73-87a5-7650bd23502b"
      },
      "execution_count": 3,
      "outputs": [
        {
          "output_type": "stream",
          "name": "stdout",
          "text": [
            "Mounted at /content/drive\n"
          ]
        }
      ]
    },
    {
      "cell_type": "markdown",
      "source": [
        "## 1) 데이터 선정 이유 및 문제 정의\n",
        "\n",
        "문제 정의 및 선정이유\n",
        "\n",
        "중고차시장은 점점 커지며 대기업들까지도 진출하고있다.\n",
        "\n",
        "하지만 소비자들은 중고차 시세에 대해 잘 알지못하는 편이다.\n",
        "\n",
        "또한 중고차의 어떤 부분을 포기해야 저렴한 중고차를 구매 할 수 있지는 알기 위함과 중고차 시세 대해 알수 있다면 합리적인 가격으로 구매가능하며 보다 불편함없이 내가원하는 중고차를 구매할 수 있기 때문에 이데이터셋을 선택하였습니다.\n",
        "\n",
        "\n",
        "## 데이터는 캐글의 영국 중고차데이터세트(경쟁형식)을 활용하였습니다.\n",
        "\n",
        "컬럼설명\n",
        "\n",
        "\n",
        "brand : 브랜드\n",
        "\n",
        "model : 자동차 모델\n",
        "\n",
        "year : 년식\n",
        "\n",
        "\n",
        "transmission : 변속기\n",
        "\n",
        "\n",
        "mileage : 주행거리\n",
        "\n",
        "\n",
        "fuelType : 연료종류\n",
        "\n",
        "\n",
        "tax : 세금\n",
        "\n",
        "\n",
        "mpg : 연비\n",
        "\n",
        "\n",
        "engineSize : 엔진사이즈\n",
        "\n",
        "\n",
        "price:가격\n",
        "\n",
        "\n",
        "\n",
        "출처 : https://www.kaggle.com/datasets/kukuroo3/used-car-price-dataset-competition-format"
      ],
      "metadata": {
        "id": "ruGmXYACGsEk"
      }
    },
    {
      "cell_type": "code",
      "source": [
        "x_te = pd.read_csv('/content/drive/MyDrive/archive (14)/X_test.csv',encoding='cp949')\n",
        "x_tr = pd.read_csv('/content/drive/MyDrive/archive (14)/X_train.csv',encoding='cp949')\n",
        "y_tr = pd.read_csv('/content/drive/MyDrive/archive (14)/y_train.csv',encoding='cp949')\n",
        "y_te = pd.read_csv('/content/drive/MyDrive/archive (14)/y_test.csv',encoding='cp949')\n",
        "tr = pd.merge(x_tr,y_tr,how='inner',on='carID')\n",
        "ts = pd.merge(x_te,y_te,how='inner',on='carID')\n",
        "df = pd.concat([tr,ts]).reset_index(drop=True)"
      ],
      "metadata": {
        "id": "k6Jpfl6SwTYJ"
      },
      "execution_count": 44,
      "outputs": []
    },
    {
      "cell_type": "markdown",
      "source": [
        "# 데이터 전처리 및 EDA"
      ],
      "metadata": {
        "id": "U3QwlcoTGNu2"
      }
    },
    {
      "cell_type": "code",
      "source": [
        "df_1 = df.copy()"
      ],
      "metadata": {
        "id": "Z4wAbmwdQaN4"
      },
      "execution_count": 45,
      "outputs": []
    },
    {
      "cell_type": "code",
      "source": [
        "df.head()"
      ],
      "metadata": {
        "colab": {
          "base_uri": "https://localhost:8080/",
          "height": 206
        },
        "id": "6iRWqjseNhEE",
        "outputId": "3b593d22-f5a4-44fc-a497-12b4cff70ee2"
      },
      "execution_count": 46,
      "outputs": [
        {
          "output_type": "execute_result",
          "data": {
            "text/plain": [
              "   carID     brand      model  year transmission  mileage fuelType    tax  \\\n",
              "0  13207    hyundi   Santa Fe  2019    Semi-Auto     4223   Diesel  145.0   \n",
              "1  17314  vauxhall        GTC  2015       Manual    47870   Diesel  125.0   \n",
              "2  12342      audi        RS4  2019    Automatic     5151   Petrol  145.0   \n",
              "3  13426        vw   Scirocco  2016    Automatic    20423   Diesel   30.0   \n",
              "4  16004     skoda      Scala  2020    Semi-Auto     3569   Petrol  145.0   \n",
              "\n",
              "    mpg  engineSize  price  \n",
              "0  39.8         2.2  31995  \n",
              "1  60.1         2.0   7700  \n",
              "2  29.1         2.9  58990  \n",
              "3  57.6         2.0  12999  \n",
              "4  47.1         1.0  16990  "
            ],
            "text/html": [
              "\n",
              "  <div id=\"df-01c59388-4511-463d-bd38-bad02472af33\">\n",
              "    <div class=\"colab-df-container\">\n",
              "      <div>\n",
              "<style scoped>\n",
              "    .dataframe tbody tr th:only-of-type {\n",
              "        vertical-align: middle;\n",
              "    }\n",
              "\n",
              "    .dataframe tbody tr th {\n",
              "        vertical-align: top;\n",
              "    }\n",
              "\n",
              "    .dataframe thead th {\n",
              "        text-align: right;\n",
              "    }\n",
              "</style>\n",
              "<table border=\"1\" class=\"dataframe\">\n",
              "  <thead>\n",
              "    <tr style=\"text-align: right;\">\n",
              "      <th></th>\n",
              "      <th>carID</th>\n",
              "      <th>brand</th>\n",
              "      <th>model</th>\n",
              "      <th>year</th>\n",
              "      <th>transmission</th>\n",
              "      <th>mileage</th>\n",
              "      <th>fuelType</th>\n",
              "      <th>tax</th>\n",
              "      <th>mpg</th>\n",
              "      <th>engineSize</th>\n",
              "      <th>price</th>\n",
              "    </tr>\n",
              "  </thead>\n",
              "  <tbody>\n",
              "    <tr>\n",
              "      <th>0</th>\n",
              "      <td>13207</td>\n",
              "      <td>hyundi</td>\n",
              "      <td>Santa Fe</td>\n",
              "      <td>2019</td>\n",
              "      <td>Semi-Auto</td>\n",
              "      <td>4223</td>\n",
              "      <td>Diesel</td>\n",
              "      <td>145.0</td>\n",
              "      <td>39.8</td>\n",
              "      <td>2.2</td>\n",
              "      <td>31995</td>\n",
              "    </tr>\n",
              "    <tr>\n",
              "      <th>1</th>\n",
              "      <td>17314</td>\n",
              "      <td>vauxhall</td>\n",
              "      <td>GTC</td>\n",
              "      <td>2015</td>\n",
              "      <td>Manual</td>\n",
              "      <td>47870</td>\n",
              "      <td>Diesel</td>\n",
              "      <td>125.0</td>\n",
              "      <td>60.1</td>\n",
              "      <td>2.0</td>\n",
              "      <td>7700</td>\n",
              "    </tr>\n",
              "    <tr>\n",
              "      <th>2</th>\n",
              "      <td>12342</td>\n",
              "      <td>audi</td>\n",
              "      <td>RS4</td>\n",
              "      <td>2019</td>\n",
              "      <td>Automatic</td>\n",
              "      <td>5151</td>\n",
              "      <td>Petrol</td>\n",
              "      <td>145.0</td>\n",
              "      <td>29.1</td>\n",
              "      <td>2.9</td>\n",
              "      <td>58990</td>\n",
              "    </tr>\n",
              "    <tr>\n",
              "      <th>3</th>\n",
              "      <td>13426</td>\n",
              "      <td>vw</td>\n",
              "      <td>Scirocco</td>\n",
              "      <td>2016</td>\n",
              "      <td>Automatic</td>\n",
              "      <td>20423</td>\n",
              "      <td>Diesel</td>\n",
              "      <td>30.0</td>\n",
              "      <td>57.6</td>\n",
              "      <td>2.0</td>\n",
              "      <td>12999</td>\n",
              "    </tr>\n",
              "    <tr>\n",
              "      <th>4</th>\n",
              "      <td>16004</td>\n",
              "      <td>skoda</td>\n",
              "      <td>Scala</td>\n",
              "      <td>2020</td>\n",
              "      <td>Semi-Auto</td>\n",
              "      <td>3569</td>\n",
              "      <td>Petrol</td>\n",
              "      <td>145.0</td>\n",
              "      <td>47.1</td>\n",
              "      <td>1.0</td>\n",
              "      <td>16990</td>\n",
              "    </tr>\n",
              "  </tbody>\n",
              "</table>\n",
              "</div>\n",
              "      <button class=\"colab-df-convert\" onclick=\"convertToInteractive('df-01c59388-4511-463d-bd38-bad02472af33')\"\n",
              "              title=\"Convert this dataframe to an interactive table.\"\n",
              "              style=\"display:none;\">\n",
              "        \n",
              "  <svg xmlns=\"http://www.w3.org/2000/svg\" height=\"24px\"viewBox=\"0 0 24 24\"\n",
              "       width=\"24px\">\n",
              "    <path d=\"M0 0h24v24H0V0z\" fill=\"none\"/>\n",
              "    <path d=\"M18.56 5.44l.94 2.06.94-2.06 2.06-.94-2.06-.94-.94-2.06-.94 2.06-2.06.94zm-11 1L8.5 8.5l.94-2.06 2.06-.94-2.06-.94L8.5 2.5l-.94 2.06-2.06.94zm10 10l.94 2.06.94-2.06 2.06-.94-2.06-.94-.94-2.06-.94 2.06-2.06.94z\"/><path d=\"M17.41 7.96l-1.37-1.37c-.4-.4-.92-.59-1.43-.59-.52 0-1.04.2-1.43.59L10.3 9.45l-7.72 7.72c-.78.78-.78 2.05 0 2.83L4 21.41c.39.39.9.59 1.41.59.51 0 1.02-.2 1.41-.59l7.78-7.78 2.81-2.81c.8-.78.8-2.07 0-2.86zM5.41 20L4 18.59l7.72-7.72 1.47 1.35L5.41 20z\"/>\n",
              "  </svg>\n",
              "      </button>\n",
              "      \n",
              "  <style>\n",
              "    .colab-df-container {\n",
              "      display:flex;\n",
              "      flex-wrap:wrap;\n",
              "      gap: 12px;\n",
              "    }\n",
              "\n",
              "    .colab-df-convert {\n",
              "      background-color: #E8F0FE;\n",
              "      border: none;\n",
              "      border-radius: 50%;\n",
              "      cursor: pointer;\n",
              "      display: none;\n",
              "      fill: #1967D2;\n",
              "      height: 32px;\n",
              "      padding: 0 0 0 0;\n",
              "      width: 32px;\n",
              "    }\n",
              "\n",
              "    .colab-df-convert:hover {\n",
              "      background-color: #E2EBFA;\n",
              "      box-shadow: 0px 1px 2px rgba(60, 64, 67, 0.3), 0px 1px 3px 1px rgba(60, 64, 67, 0.15);\n",
              "      fill: #174EA6;\n",
              "    }\n",
              "\n",
              "    [theme=dark] .colab-df-convert {\n",
              "      background-color: #3B4455;\n",
              "      fill: #D2E3FC;\n",
              "    }\n",
              "\n",
              "    [theme=dark] .colab-df-convert:hover {\n",
              "      background-color: #434B5C;\n",
              "      box-shadow: 0px 1px 3px 1px rgba(0, 0, 0, 0.15);\n",
              "      filter: drop-shadow(0px 1px 2px rgba(0, 0, 0, 0.3));\n",
              "      fill: #FFFFFF;\n",
              "    }\n",
              "  </style>\n",
              "\n",
              "      <script>\n",
              "        const buttonEl =\n",
              "          document.querySelector('#df-01c59388-4511-463d-bd38-bad02472af33 button.colab-df-convert');\n",
              "        buttonEl.style.display =\n",
              "          google.colab.kernel.accessAllowed ? 'block' : 'none';\n",
              "\n",
              "        async function convertToInteractive(key) {\n",
              "          const element = document.querySelector('#df-01c59388-4511-463d-bd38-bad02472af33');\n",
              "          const dataTable =\n",
              "            await google.colab.kernel.invokeFunction('convertToInteractive',\n",
              "                                                     [key], {});\n",
              "          if (!dataTable) return;\n",
              "\n",
              "          const docLinkHtml = 'Like what you see? Visit the ' +\n",
              "            '<a target=\"_blank\" href=https://colab.research.google.com/notebooks/data_table.ipynb>data table notebook</a>'\n",
              "            + ' to learn more about interactive tables.';\n",
              "          element.innerHTML = '';\n",
              "          dataTable['output_type'] = 'display_data';\n",
              "          await google.colab.output.renderOutput(dataTable, element);\n",
              "          const docLink = document.createElement('div');\n",
              "          docLink.innerHTML = docLinkHtml;\n",
              "          element.appendChild(docLink);\n",
              "        }\n",
              "      </script>\n",
              "    </div>\n",
              "  </div>\n",
              "  "
            ]
          },
          "metadata": {},
          "execution_count": 46
        }
      ]
    },
    {
      "cell_type": "markdown",
      "source": [
        "우선 필요없는 컬럼인 carid칼럼을 삭제시켜줍니다."
      ],
      "metadata": {
        "id": "IzuZZ3pnN_6E"
      }
    },
    {
      "cell_type": "code",
      "source": [
        "df.info()"
      ],
      "metadata": {
        "colab": {
          "base_uri": "https://localhost:8080/"
        },
        "id": "UlP3w2mXWGn4",
        "outputId": "d4ab2ccd-e665-4633-85c3-c864c3f025c6"
      },
      "execution_count": 47,
      "outputs": [
        {
          "output_type": "stream",
          "name": "stdout",
          "text": [
            "<class 'pandas.core.frame.DataFrame'>\n",
            "RangeIndex: 7632 entries, 0 to 7631\n",
            "Data columns (total 11 columns):\n",
            " #   Column        Non-Null Count  Dtype  \n",
            "---  ------        --------------  -----  \n",
            " 0   carID         7632 non-null   int64  \n",
            " 1   brand         7632 non-null   object \n",
            " 2   model         7632 non-null   object \n",
            " 3   year          7632 non-null   int64  \n",
            " 4   transmission  7632 non-null   object \n",
            " 5   mileage       7632 non-null   int64  \n",
            " 6   fuelType      7632 non-null   object \n",
            " 7   tax           7632 non-null   float64\n",
            " 8   mpg           7632 non-null   float64\n",
            " 9   engineSize    7632 non-null   float64\n",
            " 10  price         7632 non-null   int64  \n",
            "dtypes: float64(3), int64(4), object(4)\n",
            "memory usage: 656.0+ KB\n"
          ]
        }
      ]
    },
    {
      "cell_type": "code",
      "source": [
        "df.isnull().sum()"
      ],
      "metadata": {
        "colab": {
          "base_uri": "https://localhost:8080/"
        },
        "id": "ZHxbMxm3WIvl",
        "outputId": "b46bb970-784d-4fbc-f4bf-e90f9a5e0e3a"
      },
      "execution_count": 48,
      "outputs": [
        {
          "output_type": "execute_result",
          "data": {
            "text/plain": [
              "carID           0\n",
              "brand           0\n",
              "model           0\n",
              "year            0\n",
              "transmission    0\n",
              "mileage         0\n",
              "fuelType        0\n",
              "tax             0\n",
              "mpg             0\n",
              "engineSize      0\n",
              "price           0\n",
              "dtype: int64"
            ]
          },
          "metadata": {},
          "execution_count": 48
        }
      ]
    },
    {
      "cell_type": "code",
      "source": [
        "df.drop(columns=['carID'],axis=1,inplace=True)"
      ],
      "metadata": {
        "id": "c334WX1UviDV"
      },
      "execution_count": 49,
      "outputs": []
    },
    {
      "cell_type": "code",
      "source": [
        "df['brand'].unique()"
      ],
      "metadata": {
        "colab": {
          "base_uri": "https://localhost:8080/"
        },
        "id": "S3kJ0MxIOGbF",
        "outputId": "d72686b2-9ab2-4711-bdb6-4dc59ee3c754"
      },
      "execution_count": 10,
      "outputs": [
        {
          "output_type": "execute_result",
          "data": {
            "text/plain": [
              "array(['hyundi', 'vauxhall', 'audi', 'vw', 'skoda', 'merc', 'toyota',\n",
              "       'bmw', 'ford'], dtype=object)"
            ]
          },
          "metadata": {},
          "execution_count": 10
        }
      ]
    },
    {
      "cell_type": "code",
      "source": [
        "df['model'].unique()"
      ],
      "metadata": {
        "colab": {
          "base_uri": "https://localhost:8080/"
        },
        "id": "l-tjPFuqOU2X",
        "outputId": "d6b4ddbd-fbd0-48e1-d0c3-8235119d6e1e"
      },
      "execution_count": 11,
      "outputs": [
        {
          "output_type": "execute_result",
          "data": {
            "text/plain": [
              "array([' Santa Fe', ' GTC', ' RS4', ' Scirocco', ' Scala', ' V Class',\n",
              "       ' Prius', ' M4', ' Camry', ' KA', ' Vivaro', ' CLS Class',\n",
              "       ' Caravelle', ' Arteon', ' Shuttle', ' I40', ' IX20', ' 6 Series',\n",
              "       ' GL Class', ' S Class', ' S3', ' Yeti', ' Galaxy', ' Puma',\n",
              "       ' Edge', ' A8', ' SLK', ' Kamiq', ' RS6', ' CLA Class',\n",
              "       ' Land Cruiser', ' M Class', ' Q8', ' i3', ' Verso', ' Mustang',\n",
              "       ' IX35', ' Amarok', ' Avensis', ' Grand Tourneo Connect',\n",
              "       ' Antara', ' Tourneo Connect', ' Beetle', ' X4', ' CC', ' GT86',\n",
              "       ' X-CLASS', ' I800', ' i8', ' Caddy Maxi Life', ' Combo Life',\n",
              "       ' Rapid', ' SQ7', ' Grand C-MAX', ' Tourneo Custom', ' California',\n",
              "       ' Agila', ' A7', ' Zafira Tourer', ' G Class', ' Tiguan Allspace',\n",
              "       ' X6', ' M2', ' X7', ' 7 Series', ' Z4', ' RS5', ' Hilux',\n",
              "       ' GLS Class', ' GLB Class', ' M5', ' RS3', ' Caddy Life', ' SQ5',\n",
              "       ' Supra', ' 8 Series', ' Fusion', ' M6', ' M3', ' Jetta', ' S4',\n",
              "       ' R8', ' PROACE VERSO', ' Caddy', ' Getz', ' Eos', ' CLK', ' IQ',\n",
              "       ' Z3', ' Roomster'], dtype=object)"
            ]
          },
          "metadata": {},
          "execution_count": 11
        }
      ]
    },
    {
      "cell_type": "markdown",
      "source": [
        "### 데이터 시각화"
      ],
      "metadata": {
        "id": "wU4ft30qhoHh"
      }
    },
    {
      "cell_type": "markdown",
      "source": [
        "제조사별 평균단가"
      ],
      "metadata": {
        "id": "ouOIz0FAevrV"
      }
    },
    {
      "cell_type": "code",
      "source": [
        "brand = df.groupby('brand')['price'].mean().to_frame().sort_values(by='price')\n",
        "fig = plt.figure(figsize=(15, 8))\n",
        "sns.barplot(x=brand.index,y='price',data=brand)\n",
        "plt.axhline(y = brand['price'].mean(), color = 'gray', linestyle = '--', linewidth = 2)"
      ],
      "metadata": {
        "colab": {
          "base_uri": "https://localhost:8080/",
          "height": 518
        },
        "id": "otAttpddOnT6",
        "outputId": "5a84a487-0c15-4f14-8a25-25a744bc9e54"
      },
      "execution_count": 12,
      "outputs": [
        {
          "output_type": "execute_result",
          "data": {
            "text/plain": [
              "<matplotlib.lines.Line2D at 0x7f00a8476150>"
            ]
          },
          "metadata": {},
          "execution_count": 12
        },
        {
          "output_type": "display_data",
          "data": {
            "text/plain": [
              "<Figure size 1080x576 with 1 Axes>"
            ],
            "image/png": "[encoded data removed]"
          },
          "metadata": {}
        }
      ]
    },
    {
      "cell_type": "markdown",
      "source": [
        "연식별 평균단가"
      ],
      "metadata": {
        "id": "5EUkuX7MicQy"
      }
    },
    {
      "cell_type": "code",
      "source": [
        "year = df.groupby('year')['price'].mean().to_frame().sort_values(by='price')\n",
        "fig = plt.figure(figsize=(15, 8))\n",
        "sns.barplot(x=year.index,y='price',data=year)\n",
        "plt.axhline(y = year['price'].mean(), color = 'gray', linestyle = '--', linewidth = 2)"
      ],
      "metadata": {
        "colab": {
          "base_uri": "https://localhost:8080/",
          "height": 519
        },
        "id": "HjEKRT9yOnRb",
        "outputId": "098166d5-75da-4fea-b816-e6366315e72d"
      },
      "execution_count": 13,
      "outputs": [
        {
          "output_type": "execute_result",
          "data": {
            "text/plain": [
              "<matplotlib.lines.Line2D at 0x7f00a51c8790>"
            ]
          },
          "metadata": {},
          "execution_count": 13
        },
        {
          "output_type": "display_data",
          "data": {
            "text/plain": [
              "<Figure size 1080x576 with 1 Axes>"
            ],
            "image/png": "[encoded data removed]"
          },
          "metadata": {}
        }
      ]
    },
    {
      "cell_type": "code",
      "source": [
        "df.loc[df['year']==1970]"
      ],
      "metadata": {
        "colab": {
          "base_uri": "https://localhost:8080/",
          "height": 81
        },
        "id": "g4ZFDj9WOnPC",
        "outputId": "fa7cb0bb-43f2-4981-a271-a53a994eca7d"
      },
      "execution_count": 14,
      "outputs": [
        {
          "output_type": "execute_result",
          "data": {
            "text/plain": [
              "     brand     model  year transmission  mileage fuelType    tax   mpg  \\\n",
              "6782  merc   M Class  1970    Automatic    14000   Diesel  305.0  39.2   \n",
              "\n",
              "      engineSize  price  \n",
              "6782         0.0  24999  "
            ],
            "text/html": [
              "\n",
              "  <div id=\"df-b714b66f-9e10-4b0e-8bb2-8a449e7a3d35\">\n",
              "    <div class=\"colab-df-container\">\n",
              "      <div>\n",
              "<style scoped>\n",
              "    .dataframe tbody tr th:only-of-type {\n",
              "        vertical-align: middle;\n",
              "    }\n",
              "\n",
              "    .dataframe tbody tr th {\n",
              "        vertical-align: top;\n",
              "    }\n",
              "\n",
              "    .dataframe thead th {\n",
              "        text-align: right;\n",
              "    }\n",
              "</style>\n",
              "<table border=\"1\" class=\"dataframe\">\n",
              "  <thead>\n",
              "    <tr style=\"text-align: right;\">\n",
              "      <th></th>\n",
              "      <th>brand</th>\n",
              "      <th>model</th>\n",
              "      <th>year</th>\n",
              "      <th>transmission</th>\n",
              "      <th>mileage</th>\n",
              "      <th>fuelType</th>\n",
              "      <th>tax</th>\n",
              "      <th>mpg</th>\n",
              "      <th>engineSize</th>\n",
              "      <th>price</th>\n",
              "    </tr>\n",
              "  </thead>\n",
              "  <tbody>\n",
              "    <tr>\n",
              "      <th>6782</th>\n",
              "      <td>merc</td>\n",
              "      <td>M Class</td>\n",
              "      <td>1970</td>\n",
              "      <td>Automatic</td>\n",
              "      <td>14000</td>\n",
              "      <td>Diesel</td>\n",
              "      <td>305.0</td>\n",
              "      <td>39.2</td>\n",
              "      <td>0.0</td>\n",
              "      <td>24999</td>\n",
              "    </tr>\n",
              "  </tbody>\n",
              "</table>\n",
              "</div>\n",
              "      <button class=\"colab-df-convert\" onclick=\"convertToInteractive('df-b714b66f-9e10-4b0e-8bb2-8a449e7a3d35')\"\n",
              "              title=\"Convert this dataframe to an interactive table.\"\n",
              "              style=\"display:none;\">\n",
              "        \n",
              "  <svg xmlns=\"http://www.w3.org/2000/svg\" height=\"24px\"viewBox=\"0 0 24 24\"\n",
              "       width=\"24px\">\n",
              "    <path d=\"M0 0h24v24H0V0z\" fill=\"none\"/>\n",
              "    <path d=\"M18.56 5.44l.94 2.06.94-2.06 2.06-.94-2.06-.94-.94-2.06-.94 2.06-2.06.94zm-11 1L8.5 8.5l.94-2.06 2.06-.94-2.06-.94L8.5 2.5l-.94 2.06-2.06.94zm10 10l.94 2.06.94-2.06 2.06-.94-2.06-.94-.94-2.06-.94 2.06-2.06.94z\"/><path d=\"M17.41 7.96l-1.37-1.37c-.4-.4-.92-.59-1.43-.59-.52 0-1.04.2-1.43.59L10.3 9.45l-7.72 7.72c-.78.78-.78 2.05 0 2.83L4 21.41c.39.39.9.59 1.41.59.51 0 1.02-.2 1.41-.59l7.78-7.78 2.81-2.81c.8-.78.8-2.07 0-2.86zM5.41 20L4 18.59l7.72-7.72 1.47 1.35L5.41 20z\"/>\n",
              "  </svg>\n",
              "      </button>\n",
              "      \n",
              "  <style>\n",
              "    .colab-df-container {\n",
              "      display:flex;\n",
              "      flex-wrap:wrap;\n",
              "      gap: 12px;\n",
              "    }\n",
              "\n",
              "    .colab-df-convert {\n",
              "      background-color: #E8F0FE;\n",
              "      border: none;\n",
              "      border-radius: 50%;\n",
              "      cursor: pointer;\n",
              "      display: none;\n",
              "      fill: #1967D2;\n",
              "      height: 32px;\n",
              "      padding: 0 0 0 0;\n",
              "      width: 32px;\n",
              "    }\n",
              "\n",
              "    .colab-df-convert:hover {\n",
              "      background-color: #E2EBFA;\n",
              "      box-shadow: 0px 1px 2px rgba(60, 64, 67, 0.3), 0px 1px 3px 1px rgba(60, 64, 67, 0.15);\n",
              "      fill: #174EA6;\n",
              "    }\n",
              "\n",
              "    [theme=dark] .colab-df-convert {\n",
              "      background-color: #3B4455;\n",
              "      fill: #D2E3FC;\n",
              "    }\n",
              "\n",
              "    [theme=dark] .colab-df-convert:hover {\n",
              "      background-color: #434B5C;\n",
              "      box-shadow: 0px 1px 3px 1px rgba(0, 0, 0, 0.15);\n",
              "      filter: drop-shadow(0px 1px 2px rgba(0, 0, 0, 0.3));\n",
              "      fill: #FFFFFF;\n",
              "    }\n",
              "  </style>\n",
              "\n",
              "      <script>\n",
              "        const buttonEl =\n",
              "          document.querySelector('#df-b714b66f-9e10-4b0e-8bb2-8a449e7a3d35 button.colab-df-convert');\n",
              "        buttonEl.style.display =\n",
              "          google.colab.kernel.accessAllowed ? 'block' : 'none';\n",
              "\n",
              "        async function convertToInteractive(key) {\n",
              "          const element = document.querySelector('#df-b714b66f-9e10-4b0e-8bb2-8a449e7a3d35');\n",
              "          const dataTable =\n",
              "            await google.colab.kernel.invokeFunction('convertToInteractive',\n",
              "                                                     [key], {});\n",
              "          if (!dataTable) return;\n",
              "\n",
              "          const docLinkHtml = 'Like what you see? Visit the ' +\n",
              "            '<a target=\"_blank\" href=https://colab.research.google.com/notebooks/data_table.ipynb>data table notebook</a>'\n",
              "            + ' to learn more about interactive tables.';\n",
              "          element.innerHTML = '';\n",
              "          dataTable['output_type'] = 'display_data';\n",
              "          await google.colab.output.renderOutput(dataTable, element);\n",
              "          const docLink = document.createElement('div');\n",
              "          docLink.innerHTML = docLinkHtml;\n",
              "          element.appendChild(docLink);\n",
              "        }\n",
              "      </script>\n",
              "    </div>\n",
              "  </div>\n",
              "  "
            ]
          },
          "metadata": {},
          "execution_count": 14
        }
      ]
    },
    {
      "cell_type": "code",
      "source": [
        "df.loc[df['year']==1998]"
      ],
      "metadata": {
        "colab": {
          "base_uri": "https://localhost:8080/",
          "height": 206
        },
        "id": "Oe5bSDjDOnMl",
        "outputId": "be7ec22a-46f1-4c7f-ffe7-7d1952e31528"
      },
      "execution_count": 15,
      "outputs": [
        {
          "output_type": "execute_result",
          "data": {
            "text/plain": [
              "       brand          model  year transmission  mileage fuelType    tax   mpg  \\\n",
              "3014    merc        S Class  1998    Automatic    43534   Petrol  265.0  23.3   \n",
              "4578    merc            SLK  1998    Automatic   113557   Petrol  265.0  32.1   \n",
              "6154  toyota   Land Cruiser  1998       Manual   100000   Diesel  265.0  23.9   \n",
              "6984    merc            SLK  1998    Automatic    99300   Petrol  265.0  32.1   \n",
              "7045     bmw             Z3  1998       Manual    56500   Petrol  270.0  35.3   \n",
              "\n",
              "      engineSize  price  \n",
              "3014         6.0  19990  \n",
              "4578         2.3   1990  \n",
              "6154         4.2  19990  \n",
              "6984         2.3   1990  \n",
              "7045         1.9   3950  "
            ],
            "text/html": [
              "\n",
              "  <div id=\"df-700675b1-6fd9-4ef7-a884-2695630899f2\">\n",
              "    <div class=\"colab-df-container\">\n",
              "      <div>\n",
              "<style scoped>\n",
              "    .dataframe tbody tr th:only-of-type {\n",
              "        vertical-align: middle;\n",
              "    }\n",
              "\n",
              "    .dataframe tbody tr th {\n",
              "        vertical-align: top;\n",
              "    }\n",
              "\n",
              "    .dataframe thead th {\n",
              "        text-align: right;\n",
              "    }\n",
              "</style>\n",
              "<table border=\"1\" class=\"dataframe\">\n",
              "  <thead>\n",
              "    <tr style=\"text-align: right;\">\n",
              "      <th></th>\n",
              "      <th>brand</th>\n",
              "      <th>model</th>\n",
              "      <th>year</th>\n",
              "      <th>transmission</th>\n",
              "      <th>mileage</th>\n",
              "      <th>fuelType</th>\n",
              "      <th>tax</th>\n",
              "      <th>mpg</th>\n",
              "      <th>engineSize</th>\n",
              "      <th>price</th>\n",
              "    </tr>\n",
              "  </thead>\n",
              "  <tbody>\n",
              "    <tr>\n",
              "      <th>3014</th>\n",
              "      <td>merc</td>\n",
              "      <td>S Class</td>\n",
              "      <td>1998</td>\n",
              "      <td>Automatic</td>\n",
              "      <td>43534</td>\n",
              "      <td>Petrol</td>\n",
              "      <td>265.0</td>\n",
              "      <td>23.3</td>\n",
              "      <td>6.0</td>\n",
              "      <td>19990</td>\n",
              "    </tr>\n",
              "    <tr>\n",
              "      <th>4578</th>\n",
              "      <td>merc</td>\n",
              "      <td>SLK</td>\n",
              "      <td>1998</td>\n",
              "      <td>Automatic</td>\n",
              "      <td>113557</td>\n",
              "      <td>Petrol</td>\n",
              "      <td>265.0</td>\n",
              "      <td>32.1</td>\n",
              "      <td>2.3</td>\n",
              "      <td>1990</td>\n",
              "    </tr>\n",
              "    <tr>\n",
              "      <th>6154</th>\n",
              "      <td>toyota</td>\n",
              "      <td>Land Cruiser</td>\n",
              "      <td>1998</td>\n",
              "      <td>Manual</td>\n",
              "      <td>100000</td>\n",
              "      <td>Diesel</td>\n",
              "      <td>265.0</td>\n",
              "      <td>23.9</td>\n",
              "      <td>4.2</td>\n",
              "      <td>19990</td>\n",
              "    </tr>\n",
              "    <tr>\n",
              "      <th>6984</th>\n",
              "      <td>merc</td>\n",
              "      <td>SLK</td>\n",
              "      <td>1998</td>\n",
              "      <td>Automatic</td>\n",
              "      <td>99300</td>\n",
              "      <td>Petrol</td>\n",
              "      <td>265.0</td>\n",
              "      <td>32.1</td>\n",
              "      <td>2.3</td>\n",
              "      <td>1990</td>\n",
              "    </tr>\n",
              "    <tr>\n",
              "      <th>7045</th>\n",
              "      <td>bmw</td>\n",
              "      <td>Z3</td>\n",
              "      <td>1998</td>\n",
              "      <td>Manual</td>\n",
              "      <td>56500</td>\n",
              "      <td>Petrol</td>\n",
              "      <td>270.0</td>\n",
              "      <td>35.3</td>\n",
              "      <td>1.9</td>\n",
              "      <td>3950</td>\n",
              "    </tr>\n",
              "  </tbody>\n",
              "</table>\n",
              "</div>\n",
              "      <button class=\"colab-df-convert\" onclick=\"convertToInteractive('df-700675b1-6fd9-4ef7-a884-2695630899f2')\"\n",
              "              title=\"Convert this dataframe to an interactive table.\"\n",
              "              style=\"display:none;\">\n",
              "        \n",
              "  <svg xmlns=\"http://www.w3.org/2000/svg\" height=\"24px\"viewBox=\"0 0 24 24\"\n",
              "       width=\"24px\">\n",
              "    <path d=\"M0 0h24v24H0V0z\" fill=\"none\"/>\n",
              "    <path d=\"M18.56 5.44l.94 2.06.94-2.06 2.06-.94-2.06-.94-.94-2.06-.94 2.06-2.06.94zm-11 1L8.5 8.5l.94-2.06 2.06-.94-2.06-.94L8.5 2.5l-.94 2.06-2.06.94zm10 10l.94 2.06.94-2.06 2.06-.94-2.06-.94-.94-2.06-.94 2.06-2.06.94z\"/><path d=\"M17.41 7.96l-1.37-1.37c-.4-.4-.92-.59-1.43-.59-.52 0-1.04.2-1.43.59L10.3 9.45l-7.72 7.72c-.78.78-.78 2.05 0 2.83L4 21.41c.39.39.9.59 1.41.59.51 0 1.02-.2 1.41-.59l7.78-7.78 2.81-2.81c.8-.78.8-2.07 0-2.86zM5.41 20L4 18.59l7.72-7.72 1.47 1.35L5.41 20z\"/>\n",
              "  </svg>\n",
              "      </button>\n",
              "      \n",
              "  <style>\n",
              "    .colab-df-container {\n",
              "      display:flex;\n",
              "      flex-wrap:wrap;\n",
              "      gap: 12px;\n",
              "    }\n",
              "\n",
              "    .colab-df-convert {\n",
              "      background-color: #E8F0FE;\n",
              "      border: none;\n",
              "      border-radius: 50%;\n",
              "      cursor: pointer;\n",
              "      display: none;\n",
              "      fill: #1967D2;\n",
              "      height: 32px;\n",
              "      padding: 0 0 0 0;\n",
              "      width: 32px;\n",
              "    }\n",
              "\n",
              "    .colab-df-convert:hover {\n",
              "      background-color: #E2EBFA;\n",
              "      box-shadow: 0px 1px 2px rgba(60, 64, 67, 0.3), 0px 1px 3px 1px rgba(60, 64, 67, 0.15);\n",
              "      fill: #174EA6;\n",
              "    }\n",
              "\n",
              "    [theme=dark] .colab-df-convert {\n",
              "      background-color: #3B4455;\n",
              "      fill: #D2E3FC;\n",
              "    }\n",
              "\n",
              "    [theme=dark] .colab-df-convert:hover {\n",
              "      background-color: #434B5C;\n",
              "      box-shadow: 0px 1px 3px 1px rgba(0, 0, 0, 0.15);\n",
              "      filter: drop-shadow(0px 1px 2px rgba(0, 0, 0, 0.3));\n",
              "      fill: #FFFFFF;\n",
              "    }\n",
              "  </style>\n",
              "\n",
              "      <script>\n",
              "        const buttonEl =\n",
              "          document.querySelector('#df-700675b1-6fd9-4ef7-a884-2695630899f2 button.colab-df-convert');\n",
              "        buttonEl.style.display =\n",
              "          google.colab.kernel.accessAllowed ? 'block' : 'none';\n",
              "\n",
              "        async function convertToInteractive(key) {\n",
              "          const element = document.querySelector('#df-700675b1-6fd9-4ef7-a884-2695630899f2');\n",
              "          const dataTable =\n",
              "            await google.colab.kernel.invokeFunction('convertToInteractive',\n",
              "                                                     [key], {});\n",
              "          if (!dataTable) return;\n",
              "\n",
              "          const docLinkHtml = 'Like what you see? Visit the ' +\n",
              "            '<a target=\"_blank\" href=https://colab.research.google.com/notebooks/data_table.ipynb>data table notebook</a>'\n",
              "            + ' to learn more about interactive tables.';\n",
              "          element.innerHTML = '';\n",
              "          dataTable['output_type'] = 'display_data';\n",
              "          await google.colab.output.renderOutput(dataTable, element);\n",
              "          const docLink = document.createElement('div');\n",
              "          docLink.innerHTML = docLinkHtml;\n",
              "          element.appendChild(docLink);\n",
              "        }\n",
              "      </script>\n",
              "    </div>\n",
              "  </div>\n",
              "  "
            ]
          },
          "metadata": {},
          "execution_count": 15
        }
      ]
    },
    {
      "cell_type": "markdown",
      "source": [
        "변속유형별 평균단가"
      ],
      "metadata": {
        "id": "2kBv5UQ9jqff"
      }
    },
    {
      "cell_type": "code",
      "source": [
        "tran = df.groupby('transmission')['price'].mean().to_frame().sort_values(by='price')\n",
        "fig = plt.figure(figsize=(15, 8))\n",
        "sns.barplot(x=tran.index,y='price',data=tran)\n",
        "plt.axhline(y = tran['price'].mean(), color = 'gray', linestyle = '--', linewidth = 2)"
      ],
      "metadata": {
        "colab": {
          "base_uri": "https://localhost:8080/",
          "height": 521
        },
        "id": "aPqjFt1FOnKS",
        "outputId": "cd633997-8fb8-453d-c462-e5f3d1aa1f36"
      },
      "execution_count": 16,
      "outputs": [
        {
          "output_type": "execute_result",
          "data": {
            "text/plain": [
              "<matplotlib.lines.Line2D at 0x7f00a51cbe10>"
            ]
          },
          "metadata": {},
          "execution_count": 16
        },
        {
          "output_type": "display_data",
          "data": {
            "text/plain": [
              "<Figure size 1080x576 with 1 Axes>"
            ],
            "image/png": "[encoded data removed]"
          },
          "metadata": {}
        }
      ]
    },
    {
      "cell_type": "markdown",
      "source": [
        "연료 유형별 평균단가"
      ],
      "metadata": {
        "id": "TZVdvSBQkB5_"
      }
    },
    {
      "cell_type": "code",
      "source": [
        "fuel = df.groupby('fuelType')['price'].mean().to_frame().sort_values(by='price')\n",
        "fig = plt.figure(figsize=(15, 8))\n",
        "sns.barplot(x=fuel.index,y='price',data=fuel)\n",
        "plt.axhline(y = fuel['price'].mean(), color = 'gray', linestyle = '--', linewidth = 2)"
      ],
      "metadata": {
        "colab": {
          "base_uri": "https://localhost:8080/",
          "height": 518
        },
        "id": "mk8iYzJHkEfV",
        "outputId": "fc7ec39e-0a2f-4dd4-e900-2d03ca6449a7"
      },
      "execution_count": 17,
      "outputs": [
        {
          "output_type": "execute_result",
          "data": {
            "text/plain": [
              "<matplotlib.lines.Line2D at 0x7f00a501e810>"
            ]
          },
          "metadata": {},
          "execution_count": 17
        },
        {
          "output_type": "display_data",
          "data": {
            "text/plain": [
              "<Figure size 1080x576 with 1 Axes>"
            ],
            "image/png": "[encoded data removed]"
          },
          "metadata": {}
        }
      ]
    },
    {
      "cell_type": "markdown",
      "source": [
        "수치형컬럼들의 상관관계분석 히트맵"
      ],
      "metadata": {
        "id": "CfsJUY-1k4uR"
      }
    },
    {
      "cell_type": "code",
      "source": [
        "df.corr()"
      ],
      "metadata": {
        "id": "20NpQbJ8MhGw",
        "outputId": "884aa45a-9cd9-45aa-951f-18bb245928b3",
        "colab": {
          "base_uri": "https://localhost:8080/",
          "height": 238
        }
      },
      "execution_count": 18,
      "outputs": [
        {
          "output_type": "execute_result",
          "data": {
            "text/plain": [
              "                year   mileage       tax       mpg  engineSize     price\n",
              "year        1.000000 -0.753325 -0.200159 -0.040006    0.032041  0.498388\n",
              "mileage    -0.753325  1.000000  0.124939  0.075106   -0.018777 -0.486950\n",
              "tax        -0.200159  0.124939  1.000000 -0.311065    0.456532  0.142273\n",
              "mpg        -0.040006  0.075106 -0.311065  1.000000   -0.353857 -0.178982\n",
              "engineSize  0.032041 -0.018777  0.456532 -0.353857    1.000000  0.623995\n",
              "price       0.498388 -0.486950  0.142273 -0.178982    0.623995  1.000000"
            ],
            "text/html": [
              "\n",
              "  <div id=\"df-d72c3bf4-c1f2-437b-bc7d-a7dfe93d2a9b\">\n",
              "    <div class=\"colab-df-container\">\n",
              "      <div>\n",
              "<style scoped>\n",
              "    .dataframe tbody tr th:only-of-type {\n",
              "        vertical-align: middle;\n",
              "    }\n",
              "\n",
              "    .dataframe tbody tr th {\n",
              "        vertical-align: top;\n",
              "    }\n",
              "\n",
              "    .dataframe thead th {\n",
              "        text-align: right;\n",
              "    }\n",
              "</style>\n",
              "<table border=\"1\" class=\"dataframe\">\n",
              "  <thead>\n",
              "    <tr style=\"text-align: right;\">\n",
              "      <th></th>\n",
              "      <th>year</th>\n",
              "      <th>mileage</th>\n",
              "      <th>tax</th>\n",
              "      <th>mpg</th>\n",
              "      <th>engineSize</th>\n",
              "      <th>price</th>\n",
              "    </tr>\n",
              "  </thead>\n",
              "  <tbody>\n",
              "    <tr>\n",
              "      <th>year</th>\n",
              "      <td>1.000000</td>\n",
              "      <td>-0.753325</td>\n",
              "      <td>-0.200159</td>\n",
              "      <td>-0.040006</td>\n",
              "      <td>0.032041</td>\n",
              "      <td>0.498388</td>\n",
              "    </tr>\n",
              "    <tr>\n",
              "      <th>mileage</th>\n",
              "      <td>-0.753325</td>\n",
              "      <td>1.000000</td>\n",
              "      <td>0.124939</td>\n",
              "      <td>0.075106</td>\n",
              "      <td>-0.018777</td>\n",
              "      <td>-0.486950</td>\n",
              "    </tr>\n",
              "    <tr>\n",
              "      <th>tax</th>\n",
              "      <td>-0.200159</td>\n",
              "      <td>0.124939</td>\n",
              "      <td>1.000000</td>\n",
              "      <td>-0.311065</td>\n",
              "      <td>0.456532</td>\n",
              "      <td>0.142273</td>\n",
              "    </tr>\n",
              "    <tr>\n",
              "      <th>mpg</th>\n",
              "      <td>-0.040006</td>\n",
              "      <td>0.075106</td>\n",
              "      <td>-0.311065</td>\n",
              "      <td>1.000000</td>\n",
              "      <td>-0.353857</td>\n",
              "      <td>-0.178982</td>\n",
              "    </tr>\n",
              "    <tr>\n",
              "      <th>engineSize</th>\n",
              "      <td>0.032041</td>\n",
              "      <td>-0.018777</td>\n",
              "      <td>0.456532</td>\n",
              "      <td>-0.353857</td>\n",
              "      <td>1.000000</td>\n",
              "      <td>0.623995</td>\n",
              "    </tr>\n",
              "    <tr>\n",
              "      <th>price</th>\n",
              "      <td>0.498388</td>\n",
              "      <td>-0.486950</td>\n",
              "      <td>0.142273</td>\n",
              "      <td>-0.178982</td>\n",
              "      <td>0.623995</td>\n",
              "      <td>1.000000</td>\n",
              "    </tr>\n",
              "  </tbody>\n",
              "</table>\n",
              "</div>\n",
              "      <button class=\"colab-df-convert\" onclick=\"convertToInteractive('df-d72c3bf4-c1f2-437b-bc7d-a7dfe93d2a9b')\"\n",
              "              title=\"Convert this dataframe to an interactive table.\"\n",
              "              style=\"display:none;\">\n",
              "        \n",
              "  <svg xmlns=\"http://www.w3.org/2000/svg\" height=\"24px\"viewBox=\"0 0 24 24\"\n",
              "       width=\"24px\">\n",
              "    <path d=\"M0 0h24v24H0V0z\" fill=\"none\"/>\n",
              "    <path d=\"M18.56 5.44l.94 2.06.94-2.06 2.06-.94-2.06-.94-.94-2.06-.94 2.06-2.06.94zm-11 1L8.5 8.5l.94-2.06 2.06-.94-2.06-.94L8.5 2.5l-.94 2.06-2.06.94zm10 10l.94 2.06.94-2.06 2.06-.94-2.06-.94-.94-2.06-.94 2.06-2.06.94z\"/><path d=\"M17.41 7.96l-1.37-1.37c-.4-.4-.92-.59-1.43-.59-.52 0-1.04.2-1.43.59L10.3 9.45l-7.72 7.72c-.78.78-.78 2.05 0 2.83L4 21.41c.39.39.9.59 1.41.59.51 0 1.02-.2 1.41-.59l7.78-7.78 2.81-2.81c.8-.78.8-2.07 0-2.86zM5.41 20L4 18.59l7.72-7.72 1.47 1.35L5.41 20z\"/>\n",
              "  </svg>\n",
              "      </button>\n",
              "      \n",
              "  <style>\n",
              "    .colab-df-container {\n",
              "      display:flex;\n",
              "      flex-wrap:wrap;\n",
              "      gap: 12px;\n",
              "    }\n",
              "\n",
              "    .colab-df-convert {\n",
              "      background-color: #E8F0FE;\n",
              "      border: none;\n",
              "      border-radius: 50%;\n",
              "      cursor: pointer;\n",
              "      display: none;\n",
              "      fill: #1967D2;\n",
              "      height: 32px;\n",
              "      padding: 0 0 0 0;\n",
              "      width: 32px;\n",
              "    }\n",
              "\n",
              "    .colab-df-convert:hover {\n",
              "      background-color: #E2EBFA;\n",
              "      box-shadow: 0px 1px 2px rgba(60, 64, 67, 0.3), 0px 1px 3px 1px rgba(60, 64, 67, 0.15);\n",
              "      fill: #174EA6;\n",
              "    }\n",
              "\n",
              "    [theme=dark] .colab-df-convert {\n",
              "      background-color: #3B4455;\n",
              "      fill: #D2E3FC;\n",
              "    }\n",
              "\n",
              "    [theme=dark] .colab-df-convert:hover {\n",
              "      background-color: #434B5C;\n",
              "      box-shadow: 0px 1px 3px 1px rgba(0, 0, 0, 0.15);\n",
              "      filter: drop-shadow(0px 1px 2px rgba(0, 0, 0, 0.3));\n",
              "      fill: #FFFFFF;\n",
              "    }\n",
              "  </style>\n",
              "\n",
              "      <script>\n",
              "        const buttonEl =\n",
              "          document.querySelector('#df-d72c3bf4-c1f2-437b-bc7d-a7dfe93d2a9b button.colab-df-convert');\n",
              "        buttonEl.style.display =\n",
              "          google.colab.kernel.accessAllowed ? 'block' : 'none';\n",
              "\n",
              "        async function convertToInteractive(key) {\n",
              "          const element = document.querySelector('#df-d72c3bf4-c1f2-437b-bc7d-a7dfe93d2a9b');\n",
              "          const dataTable =\n",
              "            await google.colab.kernel.invokeFunction('convertToInteractive',\n",
              "                                                     [key], {});\n",
              "          if (!dataTable) return;\n",
              "\n",
              "          const docLinkHtml = 'Like what you see? Visit the ' +\n",
              "            '<a target=\"_blank\" href=https://colab.research.google.com/notebooks/data_table.ipynb>data table notebook</a>'\n",
              "            + ' to learn more about interactive tables.';\n",
              "          element.innerHTML = '';\n",
              "          dataTable['output_type'] = 'display_data';\n",
              "          await google.colab.output.renderOutput(dataTable, element);\n",
              "          const docLink = document.createElement('div');\n",
              "          docLink.innerHTML = docLinkHtml;\n",
              "          element.appendChild(docLink);\n",
              "        }\n",
              "      </script>\n",
              "    </div>\n",
              "  </div>\n",
              "  "
            ]
          },
          "metadata": {},
          "execution_count": 18
        }
      ]
    },
    {
      "cell_type": "code",
      "source": [
        "fig, ax = plt.subplots(figsize=(12,10))\n",
        "\n",
        "sns.heatmap(df.corr(), # 위에서 전처리한 데이터프레임\n",
        "            annot = True, # 숫자 표시 여부\n",
        "            ax = ax, # 히트맵을 그릴 격자\n",
        "            linewidths = 0.4, # 선의 굵기\n",
        "            linecolor = 'white', # 선의 색깔\n",
        "            fmt = '.1f', # 소수점 포맷팅 형태\n",
        "            cmap = 'YlOrRd') # colormap 형태\n",
        "\n",
        "\n",
        "\n",
        "plt.xticks(rotation=45, size = 12)\n",
        "plt.yticks(size=12) \n",
        "plt.show()"
      ],
      "metadata": {
        "id": "TXxrEHtRNO5f",
        "outputId": "23629fec-8522-4b3c-ef58-78e1025b184e",
        "colab": {
          "base_uri": "https://localhost:8080/",
          "height": 641
        }
      },
      "execution_count": 50,
      "outputs": [
        {
          "output_type": "display_data",
          "data": {
            "text/plain": [
              "<Figure size 864x720 with 2 Axes>"
            ],
            "image/png": "[encoded data removed]"
          },
          "metadata": {}
        }
      ]
    },
    {
      "cell_type": "markdown",
      "source": [
        "## 4) 머신러닝 방식 적용"
      ],
      "metadata": {
        "id": "gzN5FNOs0_x3"
      }
    },
    {
      "cell_type": "code",
      "source": [
        "objlist = df.select_dtypes(include = \"object\").columns\n",
        "label = LabelEncoder()\n",
        "df[objlist] = df[objlist].apply(label.fit_transform)"
      ],
      "metadata": {
        "id": "b-jzGkAhLh_t"
      },
      "execution_count": 20,
      "outputs": []
    },
    {
      "cell_type": "code",
      "source": [
        "target = df['price']\n",
        "features = df.drop(columns='price')"
      ],
      "metadata": {
        "id": "cuF8vurh84Au"
      },
      "execution_count": 21,
      "outputs": []
    },
    {
      "cell_type": "code",
      "source": [
        "x_train,x_test,y_train,y_test = train_test_split(features,target,test_size=0.2,random_state=42)\n",
        "\n",
        "print(x_train.shape,x_test.shape,y_train.shape,y_test.shape)"
      ],
      "metadata": {
        "colab": {
          "base_uri": "https://localhost:8080/"
        },
        "id": "Wl3yf5L_lcks",
        "outputId": "4557aa04-db7c-45db-a062-b78c61773cef"
      },
      "execution_count": 22,
      "outputs": [
        {
          "output_type": "stream",
          "name": "stdout",
          "text": [
            "(6105, 9) (1527, 9) (6105,) (1527,)\n"
          ]
        }
      ]
    },
    {
      "cell_type": "markdown",
      "source": [
        "기준모델 생성"
      ],
      "metadata": {
        "id": "d28nWtBO7L9T"
      }
    },
    {
      "cell_type": "code",
      "source": [
        "predict = df['price'].mean()"
      ],
      "metadata": {
        "id": "Pnj1EXYgOnH7"
      },
      "execution_count": 23,
      "outputs": []
    },
    {
      "cell_type": "code",
      "source": [
        "price=pd.DataFrame(df['price'])"
      ],
      "metadata": {
        "id": "sKKK6K41OnFb"
      },
      "execution_count": 24,
      "outputs": []
    },
    {
      "cell_type": "code",
      "source": [
        "price['predict'] = predict"
      ],
      "metadata": {
        "id": "mvB7Z1McdGRI"
      },
      "execution_count": 25,
      "outputs": []
    },
    {
      "cell_type": "code",
      "source": [
        "price"
      ],
      "metadata": {
        "colab": {
          "base_uri": "https://localhost:8080/",
          "height": 0
        },
        "id": "szRofrG8cxRZ",
        "outputId": "778ef2cf-e2b2-4007-963f-0523814ac8bb"
      },
      "execution_count": 26,
      "outputs": [
        {
          "output_type": "execute_result",
          "data": {
            "text/plain": [
              "      price       predict\n",
              "0     31995  23579.922825\n",
              "1      7700  23579.922825\n",
              "2     58990  23579.922825\n",
              "3     12999  23579.922825\n",
              "4     16990  23579.922825\n",
              "...     ...           ...\n",
              "7627  28990  23579.922825\n",
              "7628  17450  23579.922825\n",
              "7629  21995  23579.922825\n",
              "7630  18700  23579.922825\n",
              "7631   2999  23579.922825\n",
              "\n",
              "[7632 rows x 2 columns]"
            ],
            "text/html": [
              "\n",
              "  <div id=\"df-bf415616-3b78-4e48-9095-1d6cd9b5827c\">\n",
              "    <div class=\"colab-df-container\">\n",
              "      <div>\n",
              "<style scoped>\n",
              "    .dataframe tbody tr th:only-of-type {\n",
              "        vertical-align: middle;\n",
              "    }\n",
              "\n",
              "    .dataframe tbody tr th {\n",
              "        vertical-align: top;\n",
              "    }\n",
              "\n",
              "    .dataframe thead th {\n",
              "        text-align: right;\n",
              "    }\n",
              "</style>\n",
              "<table border=\"1\" class=\"dataframe\">\n",
              "  <thead>\n",
              "    <tr style=\"text-align: right;\">\n",
              "      <th></th>\n",
              "      <th>price</th>\n",
              "      <th>predict</th>\n",
              "    </tr>\n",
              "  </thead>\n",
              "  <tbody>\n",
              "    <tr>\n",
              "      <th>0</th>\n",
              "      <td>31995</td>\n",
              "      <td>23579.922825</td>\n",
              "    </tr>\n",
              "    <tr>\n",
              "      <th>1</th>\n",
              "      <td>7700</td>\n",
              "      <td>23579.922825</td>\n",
              "    </tr>\n",
              "    <tr>\n",
              "      <th>2</th>\n",
              "      <td>58990</td>\n",
              "      <td>23579.922825</td>\n",
              "    </tr>\n",
              "    <tr>\n",
              "      <th>3</th>\n",
              "      <td>12999</td>\n",
              "      <td>23579.922825</td>\n",
              "    </tr>\n",
              "    <tr>\n",
              "      <th>4</th>\n",
              "      <td>16990</td>\n",
              "      <td>23579.922825</td>\n",
              "    </tr>\n",
              "    <tr>\n",
              "      <th>...</th>\n",
              "      <td>...</td>\n",
              "      <td>...</td>\n",
              "    </tr>\n",
              "    <tr>\n",
              "      <th>7627</th>\n",
              "      <td>28990</td>\n",
              "      <td>23579.922825</td>\n",
              "    </tr>\n",
              "    <tr>\n",
              "      <th>7628</th>\n",
              "      <td>17450</td>\n",
              "      <td>23579.922825</td>\n",
              "    </tr>\n",
              "    <tr>\n",
              "      <th>7629</th>\n",
              "      <td>21995</td>\n",
              "      <td>23579.922825</td>\n",
              "    </tr>\n",
              "    <tr>\n",
              "      <th>7630</th>\n",
              "      <td>18700</td>\n",
              "      <td>23579.922825</td>\n",
              "    </tr>\n",
              "    <tr>\n",
              "      <th>7631</th>\n",
              "      <td>2999</td>\n",
              "      <td>23579.922825</td>\n",
              "    </tr>\n",
              "  </tbody>\n",
              "</table>\n",
              "<p>7632 rows × 2 columns</p>\n",
              "</div>\n",
              "      <button class=\"colab-df-convert\" onclick=\"convertToInteractive('df-bf415616-3b78-4e48-9095-1d6cd9b5827c')\"\n",
              "              title=\"Convert this dataframe to an interactive table.\"\n",
              "              style=\"display:none;\">\n",
              "        \n",
              "  <svg xmlns=\"http://www.w3.org/2000/svg\" height=\"24px\"viewBox=\"0 0 24 24\"\n",
              "       width=\"24px\">\n",
              "    <path d=\"M0 0h24v24H0V0z\" fill=\"none\"/>\n",
              "    <path d=\"M18.56 5.44l.94 2.06.94-2.06 2.06-.94-2.06-.94-.94-2.06-.94 2.06-2.06.94zm-11 1L8.5 8.5l.94-2.06 2.06-.94-2.06-.94L8.5 2.5l-.94 2.06-2.06.94zm10 10l.94 2.06.94-2.06 2.06-.94-2.06-.94-.94-2.06-.94 2.06-2.06.94z\"/><path d=\"M17.41 7.96l-1.37-1.37c-.4-.4-.92-.59-1.43-.59-.52 0-1.04.2-1.43.59L10.3 9.45l-7.72 7.72c-.78.78-.78 2.05 0 2.83L4 21.41c.39.39.9.59 1.41.59.51 0 1.02-.2 1.41-.59l7.78-7.78 2.81-2.81c.8-.78.8-2.07 0-2.86zM5.41 20L4 18.59l7.72-7.72 1.47 1.35L5.41 20z\"/>\n",
              "  </svg>\n",
              "      </button>\n",
              "      \n",
              "  <style>\n",
              "    .colab-df-container {\n",
              "      display:flex;\n",
              "      flex-wrap:wrap;\n",
              "      gap: 12px;\n",
              "    }\n",
              "\n",
              "    .colab-df-convert {\n",
              "      background-color: #E8F0FE;\n",
              "      border: none;\n",
              "      border-radius: 50%;\n",
              "      cursor: pointer;\n",
              "      display: none;\n",
              "      fill: #1967D2;\n",
              "      height: 32px;\n",
              "      padding: 0 0 0 0;\n",
              "      width: 32px;\n",
              "    }\n",
              "\n",
              "    .colab-df-convert:hover {\n",
              "      background-color: #E2EBFA;\n",
              "      box-shadow: 0px 1px 2px rgba(60, 64, 67, 0.3), 0px 1px 3px 1px rgba(60, 64, 67, 0.15);\n",
              "      fill: #174EA6;\n",
              "    }\n",
              "\n",
              "    [theme=dark] .colab-df-convert {\n",
              "      background-color: #3B4455;\n",
              "      fill: #D2E3FC;\n",
              "    }\n",
              "\n",
              "    [theme=dark] .colab-df-convert:hover {\n",
              "      background-color: #434B5C;\n",
              "      box-shadow: 0px 1px 3px 1px rgba(0, 0, 0, 0.15);\n",
              "      filter: drop-shadow(0px 1px 2px rgba(0, 0, 0, 0.3));\n",
              "      fill: #FFFFFF;\n",
              "    }\n",
              "  </style>\n",
              "\n",
              "      <script>\n",
              "        const buttonEl =\n",
              "          document.querySelector('#df-bf415616-3b78-4e48-9095-1d6cd9b5827c button.colab-df-convert');\n",
              "        buttonEl.style.display =\n",
              "          google.colab.kernel.accessAllowed ? 'block' : 'none';\n",
              "\n",
              "        async function convertToInteractive(key) {\n",
              "          const element = document.querySelector('#df-bf415616-3b78-4e48-9095-1d6cd9b5827c');\n",
              "          const dataTable =\n",
              "            await google.colab.kernel.invokeFunction('convertToInteractive',\n",
              "                                                     [key], {});\n",
              "          if (!dataTable) return;\n",
              "\n",
              "          const docLinkHtml = 'Like what you see? Visit the ' +\n",
              "            '<a target=\"_blank\" href=https://colab.research.google.com/notebooks/data_table.ipynb>data table notebook</a>'\n",
              "            + ' to learn more about interactive tables.';\n",
              "          element.innerHTML = '';\n",
              "          dataTable['output_type'] = 'display_data';\n",
              "          await google.colab.output.renderOutput(dataTable, element);\n",
              "          const docLink = document.createElement('div');\n",
              "          docLink.innerHTML = docLinkHtml;\n",
              "          element.appendChild(docLink);\n",
              "        }\n",
              "      </script>\n",
              "    </div>\n",
              "  </div>\n",
              "  "
            ]
          },
          "metadata": {},
          "execution_count": 26
        }
      ]
    },
    {
      "cell_type": "code",
      "source": [
        "r2_score(price['price'], price['predict'])"
      ],
      "metadata": {
        "id": "W3uYMOVZ_uZD",
        "colab": {
          "base_uri": "https://localhost:8080/"
        },
        "outputId": "798c01da-5c9f-4c66-e13d-2115b6d36fd5"
      },
      "execution_count": 27,
      "outputs": [
        {
          "output_type": "execute_result",
          "data": {
            "text/plain": [
              "0.0"
            ]
          },
          "metadata": {},
          "execution_count": 27
        }
      ]
    },
    {
      "cell_type": "markdown",
      "source": [
        "릿지모형"
      ],
      "metadata": {
        "id": "vYBA-_eytudO"
      }
    },
    {
      "cell_type": "code",
      "source": [
        "dists = { \n",
        "    'alpha': [0.1,1,10,100],}\n",
        "\n",
        "clf = RandomizedSearchCV(\n",
        "    Ridge(), \n",
        "    param_distributions=dists, \n",
        "    n_iter=100, \n",
        "    cv=5,\n",
        "    scoring='r2',\n",
        "    verbose=1,\n",
        "    n_jobs=-1\n",
        ")\n",
        "\n",
        "clf.fit(x_train, y_train);\n",
        "print('최적 하이퍼파라미터: ', clf.best_params_)\n",
        "print('R2: ', clf.best_score_)"
      ],
      "metadata": {
        "colab": {
          "base_uri": "https://localhost:8080/"
        },
        "id": "6iB8t_5eOnCq",
        "outputId": "cb0050f3-6b74-429e-e9be-0ef9576348b2"
      },
      "execution_count": 28,
      "outputs": [
        {
          "output_type": "stream",
          "name": "stdout",
          "text": [
            "Fitting 5 folds for each of 4 candidates, totalling 20 fits\n",
            "최적 하이퍼파라미터:  {'alpha': 10}\n",
            "R2:  0.676871551817235\n"
          ]
        }
      ]
    },
    {
      "cell_type": "markdown",
      "source": [
        "라쏘"
      ],
      "metadata": {
        "id": "FRbuibUstw75"
      }
    },
    {
      "cell_type": "code",
      "source": [
        "dists = { \n",
        "    'alpha': [0.1,1,10,100], }\n",
        "\n",
        "clf_1 = RandomizedSearchCV(\n",
        "    Lasso(), \n",
        "    param_distributions=dists, \n",
        "    n_iter=100, \n",
        "    cv=5,\n",
        "    scoring='r2',\n",
        "    verbose=1,\n",
        "    n_jobs=-1\n",
        ")\n",
        "\n",
        "clf_1.fit(x_train, y_train);\n",
        "print('최적 하이퍼파라미터: ', clf_1.best_params_)\n",
        "print('R2: ', clf_1.best_score_)"
      ],
      "metadata": {
        "colab": {
          "base_uri": "https://localhost:8080/"
        },
        "id": "0AdtNJdotU3c",
        "outputId": "629285b0-e4a3-4733-d819-ba035efb2aff"
      },
      "execution_count": 29,
      "outputs": [
        {
          "output_type": "stream",
          "name": "stdout",
          "text": [
            "Fitting 5 folds for each of 4 candidates, totalling 20 fits\n",
            "최적 하이퍼파라미터:  {'alpha': 10}\n",
            "R2:  0.6768683545562992\n"
          ]
        }
      ]
    },
    {
      "cell_type": "markdown",
      "source": [
        "엘라스틱넷"
      ],
      "metadata": {
        "id": "5t4uRFf8tzLi"
      }
    },
    {
      "cell_type": "code",
      "source": [
        "dists = { \n",
        "    'alpha': [0.1,1,10,100]}\n",
        "\n",
        "clf_2 = RandomizedSearchCV(\n",
        "    ElasticNet(), \n",
        "    param_distributions=dists, \n",
        "    n_iter=100, \n",
        "    cv=5,\n",
        "    scoring='r2',\n",
        "    verbose=1,\n",
        "    n_jobs=-1\n",
        ")\n",
        "\n",
        "clf_2.fit(x_train, y_train);\n",
        "print('최적 하이퍼파라미터: ', clf_2.best_params_)\n",
        "print('R2: ', clf_2.best_score_)"
      ],
      "metadata": {
        "colab": {
          "base_uri": "https://localhost:8080/"
        },
        "id": "7awiYhK9t5w5",
        "outputId": "b207f7df-5c7b-4643-833b-242dfa7ee3b7"
      },
      "execution_count": 30,
      "outputs": [
        {
          "output_type": "stream",
          "name": "stdout",
          "text": [
            "Fitting 5 folds for each of 4 candidates, totalling 20 fits\n",
            "최적 하이퍼파라미터:  {'alpha': 0.1}\n",
            "R2:  0.673399466397983\n"
          ]
        }
      ]
    },
    {
      "cell_type": "code",
      "source": [
        "dists = {\n",
        "    'n_estimators': randint(50, 1000),\n",
        "    'max_depth': randint(1,50), \n",
        "    'min_samples_leaf' : randint(1, 50),\n",
        "    'max_features': ['sqrt','log2',None]}\n",
        "\n",
        "clf_3 = RandomizedSearchCV(\n",
        "    RandomForestRegressor(random_state=2), \n",
        "    param_distributions=dists, \n",
        "    n_iter=50, \n",
        "    cv=3, \n",
        "    scoring='r2',  \n",
        "    verbose=1,\n",
        "    n_jobs=-1\n",
        ")\n",
        "\n",
        "clf_3.fit(x_train, y_train)\n",
        "print('최적 하이퍼파라미터: ', clf_3.best_params_)\n",
        "print('R2: ', clf_3.best_score_)"
      ],
      "metadata": {
        "colab": {
          "base_uri": "https://localhost:8080/"
        },
        "id": "1fv6cX5c3xnz",
        "outputId": "566b3860-deb7-4f20-c145-be68fe61baf7"
      },
      "execution_count": 31,
      "outputs": [
        {
          "output_type": "stream",
          "name": "stdout",
          "text": [
            "Fitting 3 folds for each of 50 candidates, totalling 150 fits\n",
            "최적 하이퍼파라미터:  {'max_depth': 34, 'max_features': 'log2', 'min_samples_leaf': 1, 'n_estimators': 439}\n",
            "R2:  0.9492925830699832\n"
          ]
        }
      ]
    },
    {
      "cell_type": "code",
      "source": [
        "dists = {\n",
        "    'max_depth': randint(1,50), \n",
        "    'min_samples_leaf' : randint(1, 50),\n",
        "    'max_features': ['sqrt','log2',None]\n",
        "}\n",
        "\n",
        "clf_4 = RandomizedSearchCV(\n",
        "    DecisionTreeRegressor(), \n",
        "    param_distributions=dists, \n",
        "    n_iter=50, \n",
        "    cv=3, \n",
        "    scoring='r2',  \n",
        "    verbose=1,\n",
        "    n_jobs=-1\n",
        ")\n",
        "\n",
        "clf_4.fit(x_train, y_train)\n",
        "print('최적 하이퍼파라미터: ', clf_4.best_params_)\n",
        "print('R2: ', clf_4.best_score_)"
      ],
      "metadata": {
        "colab": {
          "base_uri": "https://localhost:8080/"
        },
        "id": "CoLhscVR5FI5",
        "outputId": "f21c8a5b-9ef2-41b8-9bfd-75f70de6f6d9"
      },
      "execution_count": 32,
      "outputs": [
        {
          "output_type": "stream",
          "name": "stdout",
          "text": [
            "Fitting 3 folds for each of 50 candidates, totalling 150 fits\n",
            "최적 하이퍼파라미터:  {'max_depth': 44, 'max_features': None, 'min_samples_leaf': 7}\n",
            "R2:  0.9030371569419423\n"
          ]
        }
      ]
    },
    {
      "cell_type": "markdown",
      "source": [
        ""
      ],
      "metadata": {
        "id": "mvAa3YDMl-gH"
      }
    },
    {
      "cell_type": "code",
      "source": [
        "print('릿지의 R2 Score :', clf.best_estimator_.score(x_test, y_test))\n",
        "print('라쏘의 R2 Score :', clf_1.best_estimator_.score(x_test, y_test))\n",
        "print('엘라스틱넷의 R2 Score :', clf_2.best_estimator_.score(x_test, y_test))\n",
        "print('랜덤포레스트의 R2 Score :', clf_3.best_estimator_.score(x_test, y_test))\n",
        "print('의사결정나무의 R2 Score :', clf_4.best_estimator_.score(x_test, y_test))\n",
        "\n",
        "model = clf_3.best_estimator_"
      ],
      "metadata": {
        "colab": {
          "base_uri": "https://localhost:8080/"
        },
        "id": "Tgbq90DLAHUz",
        "outputId": "6fd96aca-53eb-4f2f-99d9-55bb21d957e9"
      },
      "execution_count": 33,
      "outputs": [
        {
          "output_type": "stream",
          "name": "stdout",
          "text": [
            "릿지의 R2 Score : 0.6431853734995936\n",
            "라쏘의 R2 Score : 0.6430281950916372\n",
            "엘라스틱넷의 R2 Score : 0.6451459091219385\n",
            "랜덤포레스트의 R2 Score : 0.955328679933017\n",
            "의사결정나무의 R2 Score : 0.9234463984912197\n"
          ]
        }
      ]
    },
    {
      "cell_type": "markdown",
      "source": [
        "##  머신러닝 모델 해석"
      ],
      "metadata": {
        "id": "eoMiFw8wuhlK"
      }
    },
    {
      "cell_type": "code",
      "source": [
        "model.feature_names = df.drop('price', axis = 1).columns"
      ],
      "metadata": {
        "id": "fVVFfURjv4hL"
      },
      "execution_count": 34,
      "outputs": []
    },
    {
      "cell_type": "code",
      "source": [
        "feat_df= pd.DataFrame({'feature': model.feature_names,'importance':model.feature_importances_*100})"
      ],
      "metadata": {
        "id": "gopHnSme-U4N"
      },
      "execution_count": 35,
      "outputs": []
    },
    {
      "cell_type": "code",
      "source": [
        "sorted_df=feat_df.sort_values('importance', ascending=False)"
      ],
      "metadata": {
        "id": "srLz0zD-q3kO"
      },
      "execution_count": 36,
      "outputs": []
    },
    {
      "cell_type": "code",
      "source": [
        "plt.figure(figsize=(12,10))\n",
        "ax =sns.barplot(y='importance', x='feature', data=sorted_df.head(10), palette='mako')\n",
        "plt.title('Feature Importance to predict price by RandomForestRegressor')\n",
        "plt.ylabel('Feature Importance (%)')\n",
        "plt.show()"
      ],
      "metadata": {
        "id": "uLwh4jBB-cU4",
        "outputId": "c9358a37-167e-4ec6-ab9b-f61ffc7413d8",
        "colab": {
          "base_uri": "https://localhost:8080/",
          "height": 626
        }
      },
      "execution_count": 37,
      "outputs": [
        {
          "output_type": "display_data",
          "data": {
            "text/plain": [
              "<Figure size 864x720 with 1 Axes>"
            ],
            "image/png": "[encoded data removed]"
          },
          "metadata": {}
        }
      ]
    },
    {
      "cell_type": "code",
      "source": [
        "explainer = shap.TreeExplainer(\n",
        "    model, x_train, feature_names = df.drop('price', axis = 1).columns)\n",
        "shap_values = explainer.shap_values(x_train, y_train,check_additivity=False)\n",
        "shap.summary_plot(shap_values, x_train, feature_names=df.drop('price', axis = 1).columns);"
      ],
      "metadata": {
        "colab": {
          "base_uri": "https://localhost:8080/",
          "height": 395
        },
        "id": "rA3mPvjsmN_T",
        "outputId": "9f744e3f-a5a3-49b8-d59d-b9ed99f0df23"
      },
      "execution_count": 38,
      "outputs": [
        {
          "output_type": "stream",
          "name": "stderr",
          "text": [
            "100%|===================| 6102/6105 [35:24<00:01]       "
          ]
        },
        {
          "output_type": "display_data",
          "data": {
            "text/plain": [
              "<Figure size 576x367.2 with 2 Axes>"
            ],
            "image/png": "[encoded data removed]"
          },
          "metadata": {}
        }
      ]
    },
    {
      "cell_type": "code",
      "source": [
        "feature = 'engineSize'\n",
        "pdp_dist = pdp_isolate(model, dataset=x_test, model_features=x_test.columns, feature=feature)\n",
        "pdp_plot(pdp_dist, feature);"
      ],
      "metadata": {
        "id": "SCnDFoIRCCac",
        "colab": {
          "base_uri": "https://localhost:8080/",
          "height": 649
        },
        "outputId": "e8bc3a01-56a5-4d79-eb76-28bb48e14102"
      },
      "execution_count": 39,
      "outputs": [
        {
          "output_type": "stream",
          "name": "stderr",
          "text": [
            "WARNING:matplotlib.font_manager:findfont: Font family ['Arial'] not found. Falling back to DejaVu Sans.\n",
            "WARNING:matplotlib.font_manager:findfont: Font family ['Arial'] not found. Falling back to DejaVu Sans.\n",
            "WARNING:matplotlib.font_manager:findfont: Font family ['Arial'] not found. Falling back to DejaVu Sans.\n",
            "WARNING:matplotlib.font_manager:findfont: Font family ['Arial'] not found. Falling back to DejaVu Sans.\n"
          ]
        },
        {
          "output_type": "display_data",
          "data": {
            "text/plain": [
              "<Figure size 1080x684 with 2 Axes>"
            ],
            "image/png": "[encoded data removed]"
          },
          "metadata": {}
        }
      ]
    },
    {
      "cell_type": "markdown",
      "source": [
        "## 모델 예측"
      ],
      "metadata": {
        "id": "IAuOErpAJoqn"
      }
    },
    {
      "cell_type": "code",
      "source": [
        "df_1.loc[400:401]"
      ],
      "metadata": {
        "id": "kx4BnefTnZ0T",
        "colab": {
          "base_uri": "https://localhost:8080/",
          "height": 112
        },
        "outputId": "c8d77171-c7e2-415f-d718-c289ba329a48"
      },
      "execution_count": 40,
      "outputs": [
        {
          "output_type": "execute_result",
          "data": {
            "text/plain": [
              "     carID   brand    model  year transmission  mileage fuelType    tax   mpg  \\\n",
              "400  14539  hyundi      I40  2015       Manual    33036   Diesel   20.0  67.3   \n",
              "401  14534      vw   Beetle  2006       Manual   117000   Diesel  150.0  50.4   \n",
              "\n",
              "     engineSize  price  \n",
              "400         1.7   9498  \n",
              "401         1.9   3195  "
            ],
            "text/html": [
              "\n",
              "  <div id=\"df-dc4726c9-6e66-4be9-b3b5-46803dd54b04\">\n",
              "    <div class=\"colab-df-container\">\n",
              "      <div>\n",
              "<style scoped>\n",
              "    .dataframe tbody tr th:only-of-type {\n",
              "        vertical-align: middle;\n",
              "    }\n",
              "\n",
              "    .dataframe tbody tr th {\n",
              "        vertical-align: top;\n",
              "    }\n",
              "\n",
              "    .dataframe thead th {\n",
              "        text-align: right;\n",
              "    }\n",
              "</style>\n",
              "<table border=\"1\" class=\"dataframe\">\n",
              "  <thead>\n",
              "    <tr style=\"text-align: right;\">\n",
              "      <th></th>\n",
              "      <th>carID</th>\n",
              "      <th>brand</th>\n",
              "      <th>model</th>\n",
              "      <th>year</th>\n",
              "      <th>transmission</th>\n",
              "      <th>mileage</th>\n",
              "      <th>fuelType</th>\n",
              "      <th>tax</th>\n",
              "      <th>mpg</th>\n",
              "      <th>engineSize</th>\n",
              "      <th>price</th>\n",
              "    </tr>\n",
              "  </thead>\n",
              "  <tbody>\n",
              "    <tr>\n",
              "      <th>400</th>\n",
              "      <td>14539</td>\n",
              "      <td>hyundi</td>\n",
              "      <td>I40</td>\n",
              "      <td>2015</td>\n",
              "      <td>Manual</td>\n",
              "      <td>33036</td>\n",
              "      <td>Diesel</td>\n",
              "      <td>20.0</td>\n",
              "      <td>67.3</td>\n",
              "      <td>1.7</td>\n",
              "      <td>9498</td>\n",
              "    </tr>\n",
              "    <tr>\n",
              "      <th>401</th>\n",
              "      <td>14534</td>\n",
              "      <td>vw</td>\n",
              "      <td>Beetle</td>\n",
              "      <td>2006</td>\n",
              "      <td>Manual</td>\n",
              "      <td>117000</td>\n",
              "      <td>Diesel</td>\n",
              "      <td>150.0</td>\n",
              "      <td>50.4</td>\n",
              "      <td>1.9</td>\n",
              "      <td>3195</td>\n",
              "    </tr>\n",
              "  </tbody>\n",
              "</table>\n",
              "</div>\n",
              "      <button class=\"colab-df-convert\" onclick=\"convertToInteractive('df-dc4726c9-6e66-4be9-b3b5-46803dd54b04')\"\n",
              "              title=\"Convert this dataframe to an interactive table.\"\n",
              "              style=\"display:none;\">\n",
              "        \n",
              "  <svg xmlns=\"http://www.w3.org/2000/svg\" height=\"24px\"viewBox=\"0 0 24 24\"\n",
              "       width=\"24px\">\n",
              "    <path d=\"M0 0h24v24H0V0z\" fill=\"none\"/>\n",
              "    <path d=\"M18.56 5.44l.94 2.06.94-2.06 2.06-.94-2.06-.94-.94-2.06-.94 2.06-2.06.94zm-11 1L8.5 8.5l.94-2.06 2.06-.94-2.06-.94L8.5 2.5l-.94 2.06-2.06.94zm10 10l.94 2.06.94-2.06 2.06-.94-2.06-.94-.94-2.06-.94 2.06-2.06.94z\"/><path d=\"M17.41 7.96l-1.37-1.37c-.4-.4-.92-.59-1.43-.59-.52 0-1.04.2-1.43.59L10.3 9.45l-7.72 7.72c-.78.78-.78 2.05 0 2.83L4 21.41c.39.39.9.59 1.41.59.51 0 1.02-.2 1.41-.59l7.78-7.78 2.81-2.81c.8-.78.8-2.07 0-2.86zM5.41 20L4 18.59l7.72-7.72 1.47 1.35L5.41 20z\"/>\n",
              "  </svg>\n",
              "      </button>\n",
              "      \n",
              "  <style>\n",
              "    .colab-df-container {\n",
              "      display:flex;\n",
              "      flex-wrap:wrap;\n",
              "      gap: 12px;\n",
              "    }\n",
              "\n",
              "    .colab-df-convert {\n",
              "      background-color: #E8F0FE;\n",
              "      border: none;\n",
              "      border-radius: 50%;\n",
              "      cursor: pointer;\n",
              "      display: none;\n",
              "      fill: #1967D2;\n",
              "      height: 32px;\n",
              "      padding: 0 0 0 0;\n",
              "      width: 32px;\n",
              "    }\n",
              "\n",
              "    .colab-df-convert:hover {\n",
              "      background-color: #E2EBFA;\n",
              "      box-shadow: 0px 1px 2px rgba(60, 64, 67, 0.3), 0px 1px 3px 1px rgba(60, 64, 67, 0.15);\n",
              "      fill: #174EA6;\n",
              "    }\n",
              "\n",
              "    [theme=dark] .colab-df-convert {\n",
              "      background-color: #3B4455;\n",
              "      fill: #D2E3FC;\n",
              "    }\n",
              "\n",
              "    [theme=dark] .colab-df-convert:hover {\n",
              "      background-color: #434B5C;\n",
              "      box-shadow: 0px 1px 3px 1px rgba(0, 0, 0, 0.15);\n",
              "      filter: drop-shadow(0px 1px 2px rgba(0, 0, 0, 0.3));\n",
              "      fill: #FFFFFF;\n",
              "    }\n",
              "  </style>\n",
              "\n",
              "      <script>\n",
              "        const buttonEl =\n",
              "          document.querySelector('#df-dc4726c9-6e66-4be9-b3b5-46803dd54b04 button.colab-df-convert');\n",
              "        buttonEl.style.display =\n",
              "          google.colab.kernel.accessAllowed ? 'block' : 'none';\n",
              "\n",
              "        async function convertToInteractive(key) {\n",
              "          const element = document.querySelector('#df-dc4726c9-6e66-4be9-b3b5-46803dd54b04');\n",
              "          const dataTable =\n",
              "            await google.colab.kernel.invokeFunction('convertToInteractive',\n",
              "                                                     [key], {});\n",
              "          if (!dataTable) return;\n",
              "\n",
              "          const docLinkHtml = 'Like what you see? Visit the ' +\n",
              "            '<a target=\"_blank\" href=https://colab.research.google.com/notebooks/data_table.ipynb>data table notebook</a>'\n",
              "            + ' to learn more about interactive tables.';\n",
              "          element.innerHTML = '';\n",
              "          dataTable['output_type'] = 'display_data';\n",
              "          await google.colab.output.renderOutput(dataTable, element);\n",
              "          const docLink = document.createElement('div');\n",
              "          docLink.innerHTML = docLinkHtml;\n",
              "          element.appendChild(docLink);\n",
              "        }\n",
              "      </script>\n",
              "    </div>\n",
              "  </div>\n",
              "  "
            ]
          },
          "metadata": {},
          "execution_count": 40
        }
      ]
    },
    {
      "cell_type": "code",
      "source": [
        "df_1.drop(columns=['carID'],axis=1,inplace=True)\n",
        "df_1.drop(columns=['price'],axis=1,inplace=True)"
      ],
      "metadata": {
        "id": "CVq1_CoyYuwe"
      },
      "execution_count": 41,
      "outputs": []
    },
    {
      "cell_type": "code",
      "source": [
        "df_1[objlist] = df_1[objlist].apply(label.fit_transform)"
      ],
      "metadata": {
        "id": "KsUkbxGXWg9R"
      },
      "execution_count": 42,
      "outputs": []
    },
    {
      "cell_type": "code",
      "source": [
        "test = pd.DataFrame(df_1.loc[400]).T\n",
        "test.head()\n",
        "model.predict(test)"
      ],
      "metadata": {
        "id": "d2vIHWI_XU7B",
        "colab": {
          "base_uri": "https://localhost:8080/"
        },
        "outputId": "2b42e59b-2627-472d-eadf-2cdbb20a7d42"
      },
      "execution_count": 43,
      "outputs": [
        {
          "output_type": "execute_result",
          "data": {
            "text/plain": [
              "array([9218.61047836])"
            ]
          },
          "metadata": {},
          "execution_count": 43
        }
      ]
    }
  ],
  "metadata": {
    "kernelspec": {
      "display_name": "Python 3.8.13 ('project')",
      "language": "python",
      "name": "python3"
    },
    "language_info": {
      "name": "python",
      "version": "3.8.13"
    },
    "orig_nbformat": 4,
    "vscode": {
      "interpreter": {
        "hash": "44d57017c1b6173835ff1040695944a179f6a80f9366fbedbcc22755c53915b4"
      }
    },
    "colab": {
      "name": "분류모델.ipynb",
      "provenance": [],
      "include_colab_link": true
    },
    "gpuClass": "standard"
  },
  "nbformat": 4,
  "nbformat_minor": 0
}