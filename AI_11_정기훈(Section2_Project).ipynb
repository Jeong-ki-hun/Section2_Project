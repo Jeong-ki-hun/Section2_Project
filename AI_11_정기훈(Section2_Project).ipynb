{
  "cells": [
    {
      "cell_type": "markdown",
      "metadata": {
        "id": "view-in-github",
        "colab_type": "text"
      },
      "source": [
        "<a href=\"https://colab.research.google.com/github/Jeong-ki-hun/Section2_Project/blob/main/%08AI_11_%EC%A0%95%EA%B8%B0%ED%9B%88(Section2_Project).ipynb\" target=\"_parent\"><img src=\"https://colab.research.google.com/assets/colab-badge.svg\" alt=\"Open In Colab\"/></a>"
      ]
    },
    {
      "cell_type": "code",
      "source": [
        "!pip install category_encoders\n",
        "!pip install shap\n",
        "!pip install pandas_profiling"
      ],
      "metadata": {
        "colab": {
          "base_uri": "https://localhost:8080/"
        },
        "id": "ZQYWQ35vcTyb",
        "outputId": "eabb135f-dc30-48ee-bfd5-c1f1bc7fb6e7"
      },
      "execution_count": 406,
      "outputs": [
        {
          "output_type": "stream",
          "name": "stdout",
          "text": [
            "Looking in indexes: https://pypi.org/simple, https://us-python.pkg.dev/colab-wheels/public/simple/\n",
            "Requirement already satisfied: category_encoders in /usr/local/lib/python3.7/dist-packages (2.5.0)\n",
            "Requirement already satisfied: patsy>=0.5.1 in /usr/local/lib/python3.7/dist-packages (from category_encoders) (0.5.2)\n",
            "Requirement already satisfied: scipy>=1.0.0 in /usr/local/lib/python3.7/dist-packages (from category_encoders) (1.7.3)\n",
            "Requirement already satisfied: numpy>=1.14.0 in /usr/local/lib/python3.7/dist-packages (from category_encoders) (1.21.6)\n",
            "Requirement already satisfied: statsmodels>=0.9.0 in /usr/local/lib/python3.7/dist-packages (from category_encoders) (0.10.2)\n",
            "Requirement already satisfied: scikit-learn>=0.20.0 in /usr/local/lib/python3.7/dist-packages (from category_encoders) (1.0.2)\n",
            "Requirement already satisfied: pandas>=1.0.5 in /usr/local/lib/python3.7/dist-packages (from category_encoders) (1.3.5)\n",
            "Requirement already satisfied: python-dateutil>=2.7.3 in /usr/local/lib/python3.7/dist-packages (from pandas>=1.0.5->category_encoders) (2.8.2)\n",
            "Requirement already satisfied: pytz>=2017.3 in /usr/local/lib/python3.7/dist-packages (from pandas>=1.0.5->category_encoders) (2022.1)\n",
            "Requirement already satisfied: six in /usr/local/lib/python3.7/dist-packages (from patsy>=0.5.1->category_encoders) (1.15.0)\n",
            "Requirement already satisfied: joblib>=0.11 in /usr/local/lib/python3.7/dist-packages (from scikit-learn>=0.20.0->category_encoders) (1.1.0)\n",
            "Requirement already satisfied: threadpoolctl>=2.0.0 in /usr/local/lib/python3.7/dist-packages (from scikit-learn>=0.20.0->category_encoders) (3.1.0)\n",
            "Looking in indexes: https://pypi.org/simple, https://us-python.pkg.dev/colab-wheels/public/simple/\n",
            "Requirement already satisfied: shap in /usr/local/lib/python3.7/dist-packages (0.41.0)\n",
            "Requirement already satisfied: slicer==0.0.7 in /usr/local/lib/python3.7/dist-packages (from shap) (0.0.7)\n",
            "Requirement already satisfied: cloudpickle in /usr/local/lib/python3.7/dist-packages (from shap) (1.3.0)\n",
            "Requirement already satisfied: packaging>20.9 in /usr/local/lib/python3.7/dist-packages (from shap) (21.3)\n",
            "Requirement already satisfied: scikit-learn in /usr/local/lib/python3.7/dist-packages (from shap) (1.0.2)\n",
            "Requirement already satisfied: pandas in /usr/local/lib/python3.7/dist-packages (from shap) (1.3.5)\n",
            "Requirement already satisfied: scipy in /usr/local/lib/python3.7/dist-packages (from shap) (1.7.3)\n",
            "Requirement already satisfied: numba in /usr/local/lib/python3.7/dist-packages (from shap) (0.56.0)\n",
            "Requirement already satisfied: numpy in /usr/local/lib/python3.7/dist-packages (from shap) (1.21.6)\n",
            "Requirement already satisfied: tqdm>4.25.0 in /usr/local/lib/python3.7/dist-packages (from shap) (4.64.0)\n",
            "Requirement already satisfied: pyparsing!=3.0.5,>=2.0.2 in /usr/local/lib/python3.7/dist-packages (from packaging>20.9->shap) (3.0.9)\n",
            "Requirement already satisfied: llvmlite<0.40,>=0.39.0dev0 in /usr/local/lib/python3.7/dist-packages (from numba->shap) (0.39.0)\n",
            "Requirement already satisfied: importlib-metadata in /usr/local/lib/python3.7/dist-packages (from numba->shap) (4.12.0)\n",
            "Requirement already satisfied: setuptools in /usr/local/lib/python3.7/dist-packages (from numba->shap) (57.4.0)\n",
            "Requirement already satisfied: zipp>=0.5 in /usr/local/lib/python3.7/dist-packages (from importlib-metadata->numba->shap) (3.8.1)\n",
            "Requirement already satisfied: typing-extensions>=3.6.4 in /usr/local/lib/python3.7/dist-packages (from importlib-metadata->numba->shap) (4.1.1)\n",
            "Requirement already satisfied: python-dateutil>=2.7.3 in /usr/local/lib/python3.7/dist-packages (from pandas->shap) (2.8.2)\n",
            "Requirement already satisfied: pytz>=2017.3 in /usr/local/lib/python3.7/dist-packages (from pandas->shap) (2022.1)\n",
            "Requirement already satisfied: six>=1.5 in /usr/local/lib/python3.7/dist-packages (from python-dateutil>=2.7.3->pandas->shap) (1.15.0)\n",
            "Requirement already satisfied: joblib>=0.11 in /usr/local/lib/python3.7/dist-packages (from scikit-learn->shap) (1.1.0)\n",
            "Requirement already satisfied: threadpoolctl>=2.0.0 in /usr/local/lib/python3.7/dist-packages (from scikit-learn->shap) (3.1.0)\n",
            "Looking in indexes: https://pypi.org/simple, https://us-python.pkg.dev/colab-wheels/public/simple/\n",
            "Requirement already satisfied: pandas_profiling in /usr/local/lib/python3.7/dist-packages (1.4.1)\n",
            "Requirement already satisfied: six>=1.9 in /usr/local/lib/python3.7/dist-packages (from pandas_profiling) (1.15.0)\n",
            "Requirement already satisfied: matplotlib>=1.4 in /usr/local/lib/python3.7/dist-packages (from pandas_profiling) (3.2.2)\n",
            "Requirement already satisfied: jinja2>=2.8 in /usr/local/lib/python3.7/dist-packages (from pandas_profiling) (2.11.3)\n",
            "Requirement already satisfied: pandas>=0.19 in /usr/local/lib/python3.7/dist-packages (from pandas_profiling) (1.3.5)\n",
            "Requirement already satisfied: MarkupSafe>=0.23 in /usr/local/lib/python3.7/dist-packages (from jinja2>=2.8->pandas_profiling) (2.0.1)\n",
            "Requirement already satisfied: pyparsing!=2.0.4,!=2.1.2,!=2.1.6,>=2.0.1 in /usr/local/lib/python3.7/dist-packages (from matplotlib>=1.4->pandas_profiling) (3.0.9)\n",
            "Requirement already satisfied: kiwisolver>=1.0.1 in /usr/local/lib/python3.7/dist-packages (from matplotlib>=1.4->pandas_profiling) (1.4.4)\n",
            "Requirement already satisfied: python-dateutil>=2.1 in /usr/local/lib/python3.7/dist-packages (from matplotlib>=1.4->pandas_profiling) (2.8.2)\n",
            "Requirement already satisfied: numpy>=1.11 in /usr/local/lib/python3.7/dist-packages (from matplotlib>=1.4->pandas_profiling) (1.21.6)\n",
            "Requirement already satisfied: cycler>=0.10 in /usr/local/lib/python3.7/dist-packages (from matplotlib>=1.4->pandas_profiling) (0.11.0)\n",
            "Requirement already satisfied: typing-extensions in /usr/local/lib/python3.7/dist-packages (from kiwisolver>=1.0.1->matplotlib>=1.4->pandas_profiling) (4.1.1)\n",
            "Requirement already satisfied: pytz>=2017.3 in /usr/local/lib/python3.7/dist-packages (from pandas>=0.19->pandas_profiling) (2022.1)\n"
          ]
        }
      ]
    },
    {
      "cell_type": "markdown",
      "source": [
        "# 라이브러리 호출"
      ],
      "metadata": {
        "id": "evMTWrZ2GOeX"
      }
    },
    {
      "cell_type": "code",
      "execution_count": 490,
      "metadata": {
        "id": "437nQj7McNkQ"
      },
      "outputs": [],
      "source": [
        "import pandas as pd\n",
        "import numpy as np\n",
        "import seaborn as sns\n",
        "import matplotlib.pyplot as plt\n",
        "%matplotlib inline\n",
        "plt.style.use('ggplot')\n",
        "plt.rc('font', family='NanumBarunGothic') \n",
        "sns.set_style(\"whitegrid\")\n",
        "\n",
        "from sklearn.model_selection import train_test_split\n",
        "from sklearn.model_selection import GridSearchCV, RandomizedSearchCV\n",
        "from sklearn.preprocessing import StandardScaler, LabelEncoder\n",
        "from sklearn.linear_model import LogisticRegression\n",
        "from sklearn.linear_model import Ridge, Lasso\n",
        "from sklearn.ensemble import RandomForestRegressor\n",
        "from sklearn.svm import SVR\n",
        "from xgboost import XGBRegressor\n",
        "from sklearn.metrics import mean_squared_error\n",
        "from sklearn.metrics import r2_score\n",
        "from sklearn.metrics import plot_confusion_matrix\n",
        "import sklearn\n",
        "from sklearn.pipeline import make_pipeline, Pipeline\n",
        "from sklearn.model_selection import RandomizedSearchCV\n",
        "from sklearn.metrics import f1_score\n",
        "from sklearn.ensemble import RandomForestClassifier\n",
        "from sklearn.tree import DecisionTreeClassifier\n",
        "from sklearn.impute import SimpleImputer\n",
        "from category_encoders import OrdinalEncoder, OneHotEncoder\n",
        "from scipy.stats import randint, uniform\n",
        "from sklearn.metrics import accuracy_score\n",
        "from xgboost import XGBClassifier\n",
        "import shap\n",
        "from sklearn.linear_model import ElasticNetCV"
      ]
    },
    {
      "cell_type": "code",
      "source": [
        "from google.colab import drive\n",
        "drive.mount('/content/drive')"
      ],
      "metadata": {
        "colab": {
          "base_uri": "https://localhost:8080/"
        },
        "id": "7UG36bZVccKb",
        "outputId": "0ef02ae2-a19a-46d5-d0c6-69e6d869a71c"
      },
      "execution_count": 391,
      "outputs": [
        {
          "output_type": "stream",
          "name": "stdout",
          "text": [
            "Drive already mounted at /content/drive; to attempt to forcibly remount, call drive.mount(\"/content/drive\", force_remount=True).\n"
          ]
        }
      ]
    },
    {
      "cell_type": "markdown",
      "source": [
        "## 1) 데이터 선정 이유 및 문제 정의\n",
        "\n",
        "문제 정의 및 선정이유\n",
        "\n",
        "중고차시장은 점점 커지며 대기업들까지도 진출하고있다.\n",
        "\n",
        "하지만 소비자들은 중고차 시세에 대해 잘 알지못하는 편이다.\n",
        "\n",
        "만약 중고차 시세 대해 알수 있다면 합리적인 가격으로 구매가능하며 보다 불편함없이 내가원하는 중고차를 구매할 수 있기 때문에 이데이터셋을 선택하였습니다.\n",
        "\n",
        "\n",
        "## 데이터는 캐글의 영국 중고차데이터세트(경쟁형식)을 활용하였습니다.\n",
        "\n",
        "컬럼설명\n",
        "\n",
        "\n",
        "brand : 브랜드\n",
        "\n",
        "model : 자동차 모델\n",
        "\n",
        "year : 년식\n",
        "\n",
        "\n",
        "transmission : 변속기\n",
        "\n",
        "\n",
        "mileage : 주행거리\n",
        "\n",
        "\n",
        "fuelType : 연료종류\n",
        "\n",
        "\n",
        "tax : 세금\n",
        "\n",
        "\n",
        "mpg : 연비\n",
        "\n",
        "\n",
        "engineSize : 엔진사이즈\n",
        "\n",
        "\n",
        "price:가격\n",
        "\n",
        "\n",
        "\n",
        "출처 : https://www.kaggle.com/datasets/kukuroo3/used-car-price-dataset-competition-format"
      ],
      "metadata": {
        "id": "ruGmXYACGsEk"
      }
    },
    {
      "cell_type": "code",
      "source": [
        "x_te = pd.read_csv('/content/drive/MyDrive/archive (14)/X_test.csv',encoding='cp949')\n",
        "x_tr = pd.read_csv('/content/drive/MyDrive/archive (14)/X_train.csv',encoding='cp949')\n",
        "y_tr = pd.read_csv('/content/drive/MyDrive/archive (14)/y_train.csv',encoding='cp949')\n",
        "y_te = pd.read_csv('/content/drive/MyDrive/archive (14)/y_test.csv',encoding='cp949')\n",
        "tr = pd.merge(x_tr,y_tr,how='inner',on='carID')\n",
        "ts = pd.merge(x_te,y_te,how='inner',on='carID')\n",
        "df = pd.concat([tr,ts]).reset_index(drop=True)"
      ],
      "metadata": {
        "id": "k6Jpfl6SwTYJ"
      },
      "execution_count": 471,
      "outputs": []
    },
    {
      "cell_type": "code",
      "source": [
        "df"
      ],
      "metadata": {
        "colab": {
          "base_uri": "https://localhost:8080/",
          "height": 424
        },
        "id": "MPvuNy9STANX",
        "outputId": "c57ebcd6-07a9-41b3-d4ad-6899e9d68631"
      },
      "execution_count": 472,
      "outputs": [
        {
          "output_type": "execute_result",
          "data": {
            "text/plain": [
              "      carID     brand       model  year transmission  mileage fuelType    tax  \\\n",
              "0     13207    hyundi    Santa Fe  2019    Semi-Auto     4223   Diesel  145.0   \n",
              "1     17314  vauxhall         GTC  2015       Manual    47870   Diesel  125.0   \n",
              "2     12342      audi         RS4  2019    Automatic     5151   Petrol  145.0   \n",
              "3     13426        vw    Scirocco  2016    Automatic    20423   Diesel   30.0   \n",
              "4     16004     skoda       Scala  2020    Semi-Auto     3569   Petrol  145.0   \n",
              "...     ...       ...         ...   ...          ...      ...      ...    ...   \n",
              "7627  19618      audi          A7  2015    Semi-Auto    21100   Petrol  325.0   \n",
              "7628  19620      merc   CLS Class  2015    Automatic    60972   Diesel  160.0   \n",
              "7629  19626      ford        Puma  2020       Manual     4111   Petrol  145.0   \n",
              "7630  19630      merc   CLA Class  2016    Automatic    25726   Petrol  200.0   \n",
              "7631  19631  vauxhall      Antara  2007    Automatic    99500   Diesel  565.0   \n",
              "\n",
              "       mpg  engineSize  price  \n",
              "0     39.8         2.2  31995  \n",
              "1     60.1         2.0   7700  \n",
              "2     29.1         2.9  58990  \n",
              "3     57.6         2.0  12999  \n",
              "4     47.1         1.0  16990  \n",
              "...    ...         ...    ...  \n",
              "7627  29.7         4.0  28990  \n",
              "7628  52.3         3.0  17450  \n",
              "7629  50.4         1.0  21995  \n",
              "7630  41.5         2.0  18700  \n",
              "7631  32.8         2.0   2999  \n",
              "\n",
              "[7632 rows x 11 columns]"
            ],
            "text/html": [
              "\n",
              "  <div id=\"df-71933869-53aa-47d4-9a41-3990e0b376d2\">\n",
              "    <div class=\"colab-df-container\">\n",
              "      <div>\n",
              "<style scoped>\n",
              "    .dataframe tbody tr th:only-of-type {\n",
              "        vertical-align: middle;\n",
              "    }\n",
              "\n",
              "    .dataframe tbody tr th {\n",
              "        vertical-align: top;\n",
              "    }\n",
              "\n",
              "    .dataframe thead th {\n",
              "        text-align: right;\n",
              "    }\n",
              "</style>\n",
              "<table border=\"1\" class=\"dataframe\">\n",
              "  <thead>\n",
              "    <tr style=\"text-align: right;\">\n",
              "      <th></th>\n",
              "      <th>carID</th>\n",
              "      <th>brand</th>\n",
              "      <th>model</th>\n",
              "      <th>year</th>\n",
              "      <th>transmission</th>\n",
              "      <th>mileage</th>\n",
              "      <th>fuelType</th>\n",
              "      <th>tax</th>\n",
              "      <th>mpg</th>\n",
              "      <th>engineSize</th>\n",
              "      <th>price</th>\n",
              "    </tr>\n",
              "  </thead>\n",
              "  <tbody>\n",
              "    <tr>\n",
              "      <th>0</th>\n",
              "      <td>13207</td>\n",
              "      <td>hyundi</td>\n",
              "      <td>Santa Fe</td>\n",
              "      <td>2019</td>\n",
              "      <td>Semi-Auto</td>\n",
              "      <td>4223</td>\n",
              "      <td>Diesel</td>\n",
              "      <td>145.0</td>\n",
              "      <td>39.8</td>\n",
              "      <td>2.2</td>\n",
              "      <td>31995</td>\n",
              "    </tr>\n",
              "    <tr>\n",
              "      <th>1</th>\n",
              "      <td>17314</td>\n",
              "      <td>vauxhall</td>\n",
              "      <td>GTC</td>\n",
              "      <td>2015</td>\n",
              "      <td>Manual</td>\n",
              "      <td>47870</td>\n",
              "      <td>Diesel</td>\n",
              "      <td>125.0</td>\n",
              "      <td>60.1</td>\n",
              "      <td>2.0</td>\n",
              "      <td>7700</td>\n",
              "    </tr>\n",
              "    <tr>\n",
              "      <th>2</th>\n",
              "      <td>12342</td>\n",
              "      <td>audi</td>\n",
              "      <td>RS4</td>\n",
              "      <td>2019</td>\n",
              "      <td>Automatic</td>\n",
              "      <td>5151</td>\n",
              "      <td>Petrol</td>\n",
              "      <td>145.0</td>\n",
              "      <td>29.1</td>\n",
              "      <td>2.9</td>\n",
              "      <td>58990</td>\n",
              "    </tr>\n",
              "    <tr>\n",
              "      <th>3</th>\n",
              "      <td>13426</td>\n",
              "      <td>vw</td>\n",
              "      <td>Scirocco</td>\n",
              "      <td>2016</td>\n",
              "      <td>Automatic</td>\n",
              "      <td>20423</td>\n",
              "      <td>Diesel</td>\n",
              "      <td>30.0</td>\n",
              "      <td>57.6</td>\n",
              "      <td>2.0</td>\n",
              "      <td>12999</td>\n",
              "    </tr>\n",
              "    <tr>\n",
              "      <th>4</th>\n",
              "      <td>16004</td>\n",
              "      <td>skoda</td>\n",
              "      <td>Scala</td>\n",
              "      <td>2020</td>\n",
              "      <td>Semi-Auto</td>\n",
              "      <td>3569</td>\n",
              "      <td>Petrol</td>\n",
              "      <td>145.0</td>\n",
              "      <td>47.1</td>\n",
              "      <td>1.0</td>\n",
              "      <td>16990</td>\n",
              "    </tr>\n",
              "    <tr>\n",
              "      <th>...</th>\n",
              "      <td>...</td>\n",
              "      <td>...</td>\n",
              "      <td>...</td>\n",
              "      <td>...</td>\n",
              "      <td>...</td>\n",
              "      <td>...</td>\n",
              "      <td>...</td>\n",
              "      <td>...</td>\n",
              "      <td>...</td>\n",
              "      <td>...</td>\n",
              "      <td>...</td>\n",
              "    </tr>\n",
              "    <tr>\n",
              "      <th>7627</th>\n",
              "      <td>19618</td>\n",
              "      <td>audi</td>\n",
              "      <td>A7</td>\n",
              "      <td>2015</td>\n",
              "      <td>Semi-Auto</td>\n",
              "      <td>21100</td>\n",
              "      <td>Petrol</td>\n",
              "      <td>325.0</td>\n",
              "      <td>29.7</td>\n",
              "      <td>4.0</td>\n",
              "      <td>28990</td>\n",
              "    </tr>\n",
              "    <tr>\n",
              "      <th>7628</th>\n",
              "      <td>19620</td>\n",
              "      <td>merc</td>\n",
              "      <td>CLS Class</td>\n",
              "      <td>2015</td>\n",
              "      <td>Automatic</td>\n",
              "      <td>60972</td>\n",
              "      <td>Diesel</td>\n",
              "      <td>160.0</td>\n",
              "      <td>52.3</td>\n",
              "      <td>3.0</td>\n",
              "      <td>17450</td>\n",
              "    </tr>\n",
              "    <tr>\n",
              "      <th>7629</th>\n",
              "      <td>19626</td>\n",
              "      <td>ford</td>\n",
              "      <td>Puma</td>\n",
              "      <td>2020</td>\n",
              "      <td>Manual</td>\n",
              "      <td>4111</td>\n",
              "      <td>Petrol</td>\n",
              "      <td>145.0</td>\n",
              "      <td>50.4</td>\n",
              "      <td>1.0</td>\n",
              "      <td>21995</td>\n",
              "    </tr>\n",
              "    <tr>\n",
              "      <th>7630</th>\n",
              "      <td>19630</td>\n",
              "      <td>merc</td>\n",
              "      <td>CLA Class</td>\n",
              "      <td>2016</td>\n",
              "      <td>Automatic</td>\n",
              "      <td>25726</td>\n",
              "      <td>Petrol</td>\n",
              "      <td>200.0</td>\n",
              "      <td>41.5</td>\n",
              "      <td>2.0</td>\n",
              "      <td>18700</td>\n",
              "    </tr>\n",
              "    <tr>\n",
              "      <th>7631</th>\n",
              "      <td>19631</td>\n",
              "      <td>vauxhall</td>\n",
              "      <td>Antara</td>\n",
              "      <td>2007</td>\n",
              "      <td>Automatic</td>\n",
              "      <td>99500</td>\n",
              "      <td>Diesel</td>\n",
              "      <td>565.0</td>\n",
              "      <td>32.8</td>\n",
              "      <td>2.0</td>\n",
              "      <td>2999</td>\n",
              "    </tr>\n",
              "  </tbody>\n",
              "</table>\n",
              "<p>7632 rows × 11 columns</p>\n",
              "</div>\n",
              "      <button class=\"colab-df-convert\" onclick=\"convertToInteractive('df-71933869-53aa-47d4-9a41-3990e0b376d2')\"\n",
              "              title=\"Convert this dataframe to an interactive table.\"\n",
              "              style=\"display:none;\">\n",
              "        \n",
              "  <svg xmlns=\"http://www.w3.org/2000/svg\" height=\"24px\"viewBox=\"0 0 24 24\"\n",
              "       width=\"24px\">\n",
              "    <path d=\"M0 0h24v24H0V0z\" fill=\"none\"/>\n",
              "    <path d=\"M18.56 5.44l.94 2.06.94-2.06 2.06-.94-2.06-.94-.94-2.06-.94 2.06-2.06.94zm-11 1L8.5 8.5l.94-2.06 2.06-.94-2.06-.94L8.5 2.5l-.94 2.06-2.06.94zm10 10l.94 2.06.94-2.06 2.06-.94-2.06-.94-.94-2.06-.94 2.06-2.06.94z\"/><path d=\"M17.41 7.96l-1.37-1.37c-.4-.4-.92-.59-1.43-.59-.52 0-1.04.2-1.43.59L10.3 9.45l-7.72 7.72c-.78.78-.78 2.05 0 2.83L4 21.41c.39.39.9.59 1.41.59.51 0 1.02-.2 1.41-.59l7.78-7.78 2.81-2.81c.8-.78.8-2.07 0-2.86zM5.41 20L4 18.59l7.72-7.72 1.47 1.35L5.41 20z\"/>\n",
              "  </svg>\n",
              "      </button>\n",
              "      \n",
              "  <style>\n",
              "    .colab-df-container {\n",
              "      display:flex;\n",
              "      flex-wrap:wrap;\n",
              "      gap: 12px;\n",
              "    }\n",
              "\n",
              "    .colab-df-convert {\n",
              "      background-color: #E8F0FE;\n",
              "      border: none;\n",
              "      border-radius: 50%;\n",
              "      cursor: pointer;\n",
              "      display: none;\n",
              "      fill: #1967D2;\n",
              "      height: 32px;\n",
              "      padding: 0 0 0 0;\n",
              "      width: 32px;\n",
              "    }\n",
              "\n",
              "    .colab-df-convert:hover {\n",
              "      background-color: #E2EBFA;\n",
              "      box-shadow: 0px 1px 2px rgba(60, 64, 67, 0.3), 0px 1px 3px 1px rgba(60, 64, 67, 0.15);\n",
              "      fill: #174EA6;\n",
              "    }\n",
              "\n",
              "    [theme=dark] .colab-df-convert {\n",
              "      background-color: #3B4455;\n",
              "      fill: #D2E3FC;\n",
              "    }\n",
              "\n",
              "    [theme=dark] .colab-df-convert:hover {\n",
              "      background-color: #434B5C;\n",
              "      box-shadow: 0px 1px 3px 1px rgba(0, 0, 0, 0.15);\n",
              "      filter: drop-shadow(0px 1px 2px rgba(0, 0, 0, 0.3));\n",
              "      fill: #FFFFFF;\n",
              "    }\n",
              "  </style>\n",
              "\n",
              "      <script>\n",
              "        const buttonEl =\n",
              "          document.querySelector('#df-71933869-53aa-47d4-9a41-3990e0b376d2 button.colab-df-convert');\n",
              "        buttonEl.style.display =\n",
              "          google.colab.kernel.accessAllowed ? 'block' : 'none';\n",
              "\n",
              "        async function convertToInteractive(key) {\n",
              "          const element = document.querySelector('#df-71933869-53aa-47d4-9a41-3990e0b376d2');\n",
              "          const dataTable =\n",
              "            await google.colab.kernel.invokeFunction('convertToInteractive',\n",
              "                                                     [key], {});\n",
              "          if (!dataTable) return;\n",
              "\n",
              "          const docLinkHtml = 'Like what you see? Visit the ' +\n",
              "            '<a target=\"_blank\" href=https://colab.research.google.com/notebooks/data_table.ipynb>data table notebook</a>'\n",
              "            + ' to learn more about interactive tables.';\n",
              "          element.innerHTML = '';\n",
              "          dataTable['output_type'] = 'display_data';\n",
              "          await google.colab.output.renderOutput(dataTable, element);\n",
              "          const docLink = document.createElement('div');\n",
              "          docLink.innerHTML = docLinkHtml;\n",
              "          element.appendChild(docLink);\n",
              "        }\n",
              "      </script>\n",
              "    </div>\n",
              "  </div>\n",
              "  "
            ]
          },
          "metadata": {},
          "execution_count": 472
        }
      ]
    },
    {
      "cell_type": "markdown",
      "source": [
        "데이터를 평가지표, 베이스라인모델 선택\n",
        "\n",
        "회귀문제이기 때문에 타켓의 평균값을 사용하여 처리"
      ],
      "metadata": {
        "id": "McdzmF38L9IN"
      }
    },
    {
      "cell_type": "markdown",
      "source": [
        "# 데이터 전처리 및 EDA"
      ],
      "metadata": {
        "id": "U3QwlcoTGNu2"
      }
    },
    {
      "cell_type": "code",
      "source": [
        "df.head()"
      ],
      "metadata": {
        "colab": {
          "base_uri": "https://localhost:8080/",
          "height": 206
        },
        "id": "6iRWqjseNhEE",
        "outputId": "74dbddc3-fbe5-4818-9b25-df19411d9e3b"
      },
      "execution_count": 473,
      "outputs": [
        {
          "output_type": "execute_result",
          "data": {
            "text/plain": [
              "   carID     brand      model  year transmission  mileage fuelType    tax  \\\n",
              "0  13207    hyundi   Santa Fe  2019    Semi-Auto     4223   Diesel  145.0   \n",
              "1  17314  vauxhall        GTC  2015       Manual    47870   Diesel  125.0   \n",
              "2  12342      audi        RS4  2019    Automatic     5151   Petrol  145.0   \n",
              "3  13426        vw   Scirocco  2016    Automatic    20423   Diesel   30.0   \n",
              "4  16004     skoda      Scala  2020    Semi-Auto     3569   Petrol  145.0   \n",
              "\n",
              "    mpg  engineSize  price  \n",
              "0  39.8         2.2  31995  \n",
              "1  60.1         2.0   7700  \n",
              "2  29.1         2.9  58990  \n",
              "3  57.6         2.0  12999  \n",
              "4  47.1         1.0  16990  "
            ],
            "text/html": [
              "\n",
              "  <div id=\"df-eb5587d4-95bb-4242-b7f2-8a5da8da4cf2\">\n",
              "    <div class=\"colab-df-container\">\n",
              "      <div>\n",
              "<style scoped>\n",
              "    .dataframe tbody tr th:only-of-type {\n",
              "        vertical-align: middle;\n",
              "    }\n",
              "\n",
              "    .dataframe tbody tr th {\n",
              "        vertical-align: top;\n",
              "    }\n",
              "\n",
              "    .dataframe thead th {\n",
              "        text-align: right;\n",
              "    }\n",
              "</style>\n",
              "<table border=\"1\" class=\"dataframe\">\n",
              "  <thead>\n",
              "    <tr style=\"text-align: right;\">\n",
              "      <th></th>\n",
              "      <th>carID</th>\n",
              "      <th>brand</th>\n",
              "      <th>model</th>\n",
              "      <th>year</th>\n",
              "      <th>transmission</th>\n",
              "      <th>mileage</th>\n",
              "      <th>fuelType</th>\n",
              "      <th>tax</th>\n",
              "      <th>mpg</th>\n",
              "      <th>engineSize</th>\n",
              "      <th>price</th>\n",
              "    </tr>\n",
              "  </thead>\n",
              "  <tbody>\n",
              "    <tr>\n",
              "      <th>0</th>\n",
              "      <td>13207</td>\n",
              "      <td>hyundi</td>\n",
              "      <td>Santa Fe</td>\n",
              "      <td>2019</td>\n",
              "      <td>Semi-Auto</td>\n",
              "      <td>4223</td>\n",
              "      <td>Diesel</td>\n",
              "      <td>145.0</td>\n",
              "      <td>39.8</td>\n",
              "      <td>2.2</td>\n",
              "      <td>31995</td>\n",
              "    </tr>\n",
              "    <tr>\n",
              "      <th>1</th>\n",
              "      <td>17314</td>\n",
              "      <td>vauxhall</td>\n",
              "      <td>GTC</td>\n",
              "      <td>2015</td>\n",
              "      <td>Manual</td>\n",
              "      <td>47870</td>\n",
              "      <td>Diesel</td>\n",
              "      <td>125.0</td>\n",
              "      <td>60.1</td>\n",
              "      <td>2.0</td>\n",
              "      <td>7700</td>\n",
              "    </tr>\n",
              "    <tr>\n",
              "      <th>2</th>\n",
              "      <td>12342</td>\n",
              "      <td>audi</td>\n",
              "      <td>RS4</td>\n",
              "      <td>2019</td>\n",
              "      <td>Automatic</td>\n",
              "      <td>5151</td>\n",
              "      <td>Petrol</td>\n",
              "      <td>145.0</td>\n",
              "      <td>29.1</td>\n",
              "      <td>2.9</td>\n",
              "      <td>58990</td>\n",
              "    </tr>\n",
              "    <tr>\n",
              "      <th>3</th>\n",
              "      <td>13426</td>\n",
              "      <td>vw</td>\n",
              "      <td>Scirocco</td>\n",
              "      <td>2016</td>\n",
              "      <td>Automatic</td>\n",
              "      <td>20423</td>\n",
              "      <td>Diesel</td>\n",
              "      <td>30.0</td>\n",
              "      <td>57.6</td>\n",
              "      <td>2.0</td>\n",
              "      <td>12999</td>\n",
              "    </tr>\n",
              "    <tr>\n",
              "      <th>4</th>\n",
              "      <td>16004</td>\n",
              "      <td>skoda</td>\n",
              "      <td>Scala</td>\n",
              "      <td>2020</td>\n",
              "      <td>Semi-Auto</td>\n",
              "      <td>3569</td>\n",
              "      <td>Petrol</td>\n",
              "      <td>145.0</td>\n",
              "      <td>47.1</td>\n",
              "      <td>1.0</td>\n",
              "      <td>16990</td>\n",
              "    </tr>\n",
              "  </tbody>\n",
              "</table>\n",
              "</div>\n",
              "      <button class=\"colab-df-convert\" onclick=\"convertToInteractive('df-eb5587d4-95bb-4242-b7f2-8a5da8da4cf2')\"\n",
              "              title=\"Convert this dataframe to an interactive table.\"\n",
              "              style=\"display:none;\">\n",
              "        \n",
              "  <svg xmlns=\"http://www.w3.org/2000/svg\" height=\"24px\"viewBox=\"0 0 24 24\"\n",
              "       width=\"24px\">\n",
              "    <path d=\"M0 0h24v24H0V0z\" fill=\"none\"/>\n",
              "    <path d=\"M18.56 5.44l.94 2.06.94-2.06 2.06-.94-2.06-.94-.94-2.06-.94 2.06-2.06.94zm-11 1L8.5 8.5l.94-2.06 2.06-.94-2.06-.94L8.5 2.5l-.94 2.06-2.06.94zm10 10l.94 2.06.94-2.06 2.06-.94-2.06-.94-.94-2.06-.94 2.06-2.06.94z\"/><path d=\"M17.41 7.96l-1.37-1.37c-.4-.4-.92-.59-1.43-.59-.52 0-1.04.2-1.43.59L10.3 9.45l-7.72 7.72c-.78.78-.78 2.05 0 2.83L4 21.41c.39.39.9.59 1.41.59.51 0 1.02-.2 1.41-.59l7.78-7.78 2.81-2.81c.8-.78.8-2.07 0-2.86zM5.41 20L4 18.59l7.72-7.72 1.47 1.35L5.41 20z\"/>\n",
              "  </svg>\n",
              "      </button>\n",
              "      \n",
              "  <style>\n",
              "    .colab-df-container {\n",
              "      display:flex;\n",
              "      flex-wrap:wrap;\n",
              "      gap: 12px;\n",
              "    }\n",
              "\n",
              "    .colab-df-convert {\n",
              "      background-color: #E8F0FE;\n",
              "      border: none;\n",
              "      border-radius: 50%;\n",
              "      cursor: pointer;\n",
              "      display: none;\n",
              "      fill: #1967D2;\n",
              "      height: 32px;\n",
              "      padding: 0 0 0 0;\n",
              "      width: 32px;\n",
              "    }\n",
              "\n",
              "    .colab-df-convert:hover {\n",
              "      background-color: #E2EBFA;\n",
              "      box-shadow: 0px 1px 2px rgba(60, 64, 67, 0.3), 0px 1px 3px 1px rgba(60, 64, 67, 0.15);\n",
              "      fill: #174EA6;\n",
              "    }\n",
              "\n",
              "    [theme=dark] .colab-df-convert {\n",
              "      background-color: #3B4455;\n",
              "      fill: #D2E3FC;\n",
              "    }\n",
              "\n",
              "    [theme=dark] .colab-df-convert:hover {\n",
              "      background-color: #434B5C;\n",
              "      box-shadow: 0px 1px 3px 1px rgba(0, 0, 0, 0.15);\n",
              "      filter: drop-shadow(0px 1px 2px rgba(0, 0, 0, 0.3));\n",
              "      fill: #FFFFFF;\n",
              "    }\n",
              "  </style>\n",
              "\n",
              "      <script>\n",
              "        const buttonEl =\n",
              "          document.querySelector('#df-eb5587d4-95bb-4242-b7f2-8a5da8da4cf2 button.colab-df-convert');\n",
              "        buttonEl.style.display =\n",
              "          google.colab.kernel.accessAllowed ? 'block' : 'none';\n",
              "\n",
              "        async function convertToInteractive(key) {\n",
              "          const element = document.querySelector('#df-eb5587d4-95bb-4242-b7f2-8a5da8da4cf2');\n",
              "          const dataTable =\n",
              "            await google.colab.kernel.invokeFunction('convertToInteractive',\n",
              "                                                     [key], {});\n",
              "          if (!dataTable) return;\n",
              "\n",
              "          const docLinkHtml = 'Like what you see? Visit the ' +\n",
              "            '<a target=\"_blank\" href=https://colab.research.google.com/notebooks/data_table.ipynb>data table notebook</a>'\n",
              "            + ' to learn more about interactive tables.';\n",
              "          element.innerHTML = '';\n",
              "          dataTable['output_type'] = 'display_data';\n",
              "          await google.colab.output.renderOutput(dataTable, element);\n",
              "          const docLink = document.createElement('div');\n",
              "          docLink.innerHTML = docLinkHtml;\n",
              "          element.appendChild(docLink);\n",
              "        }\n",
              "      </script>\n",
              "    </div>\n",
              "  </div>\n",
              "  "
            ]
          },
          "metadata": {},
          "execution_count": 473
        }
      ]
    },
    {
      "cell_type": "markdown",
      "source": [
        "우선 필요없는 컬럼인 carid칼럼을 삭제시켜줍니다."
      ],
      "metadata": {
        "id": "IzuZZ3pnN_6E"
      }
    },
    {
      "cell_type": "code",
      "source": [
        "df.info()"
      ],
      "metadata": {
        "colab": {
          "base_uri": "https://localhost:8080/"
        },
        "id": "UlP3w2mXWGn4",
        "outputId": "83206240-9856-4497-bd35-9a95a6b5a7bf"
      },
      "execution_count": 474,
      "outputs": [
        {
          "output_type": "stream",
          "name": "stdout",
          "text": [
            "<class 'pandas.core.frame.DataFrame'>\n",
            "RangeIndex: 7632 entries, 0 to 7631\n",
            "Data columns (total 11 columns):\n",
            " #   Column        Non-Null Count  Dtype  \n",
            "---  ------        --------------  -----  \n",
            " 0   carID         7632 non-null   int64  \n",
            " 1   brand         7632 non-null   object \n",
            " 2   model         7632 non-null   object \n",
            " 3   year          7632 non-null   int64  \n",
            " 4   transmission  7632 non-null   object \n",
            " 5   mileage       7632 non-null   int64  \n",
            " 6   fuelType      7632 non-null   object \n",
            " 7   tax           7632 non-null   float64\n",
            " 8   mpg           7632 non-null   float64\n",
            " 9   engineSize    7632 non-null   float64\n",
            " 10  price         7632 non-null   int64  \n",
            "dtypes: float64(3), int64(4), object(4)\n",
            "memory usage: 656.0+ KB\n"
          ]
        }
      ]
    },
    {
      "cell_type": "code",
      "source": [
        "df.isnull().sum()"
      ],
      "metadata": {
        "colab": {
          "base_uri": "https://localhost:8080/"
        },
        "id": "ZHxbMxm3WIvl",
        "outputId": "9d4bcf94-9d73-4197-be08-dfdf6101719c"
      },
      "execution_count": 475,
      "outputs": [
        {
          "output_type": "execute_result",
          "data": {
            "text/plain": [
              "carID           0\n",
              "brand           0\n",
              "model           0\n",
              "year            0\n",
              "transmission    0\n",
              "mileage         0\n",
              "fuelType        0\n",
              "tax             0\n",
              "mpg             0\n",
              "engineSize      0\n",
              "price           0\n",
              "dtype: int64"
            ]
          },
          "metadata": {},
          "execution_count": 475
        }
      ]
    },
    {
      "cell_type": "code",
      "source": [
        "df.drop(columns=['carID'],axis=1,inplace=True)"
      ],
      "metadata": {
        "id": "c334WX1UviDV"
      },
      "execution_count": 476,
      "outputs": []
    },
    {
      "cell_type": "code",
      "source": [
        "df['brand'].unique()"
      ],
      "metadata": {
        "colab": {
          "base_uri": "https://localhost:8080/"
        },
        "id": "S3kJ0MxIOGbF",
        "outputId": "f3117957-fc68-4495-91b5-3a43f85ebaa6"
      },
      "execution_count": 477,
      "outputs": [
        {
          "output_type": "execute_result",
          "data": {
            "text/plain": [
              "array(['hyundi', 'vauxhall', 'audi', 'vw', 'skoda', 'merc', 'toyota',\n",
              "       'bmw', 'ford'], dtype=object)"
            ]
          },
          "metadata": {},
          "execution_count": 477
        }
      ]
    },
    {
      "cell_type": "code",
      "source": [
        "df['model'].unique()"
      ],
      "metadata": {
        "colab": {
          "base_uri": "https://localhost:8080/"
        },
        "id": "l-tjPFuqOU2X",
        "outputId": "d4af96ae-dd2f-48c5-f7b1-a143c5cc296b"
      },
      "execution_count": 478,
      "outputs": [
        {
          "output_type": "execute_result",
          "data": {
            "text/plain": [
              "array([' Santa Fe', ' GTC', ' RS4', ' Scirocco', ' Scala', ' V Class',\n",
              "       ' Prius', ' M4', ' Camry', ' KA', ' Vivaro', ' CLS Class',\n",
              "       ' Caravelle', ' Arteon', ' Shuttle', ' I40', ' IX20', ' 6 Series',\n",
              "       ' GL Class', ' S Class', ' S3', ' Yeti', ' Galaxy', ' Puma',\n",
              "       ' Edge', ' A8', ' SLK', ' Kamiq', ' RS6', ' CLA Class',\n",
              "       ' Land Cruiser', ' M Class', ' Q8', ' i3', ' Verso', ' Mustang',\n",
              "       ' IX35', ' Amarok', ' Avensis', ' Grand Tourneo Connect',\n",
              "       ' Antara', ' Tourneo Connect', ' Beetle', ' X4', ' CC', ' GT86',\n",
              "       ' X-CLASS', ' I800', ' i8', ' Caddy Maxi Life', ' Combo Life',\n",
              "       ' Rapid', ' SQ7', ' Grand C-MAX', ' Tourneo Custom', ' California',\n",
              "       ' Agila', ' A7', ' Zafira Tourer', ' G Class', ' Tiguan Allspace',\n",
              "       ' X6', ' M2', ' X7', ' 7 Series', ' Z4', ' RS5', ' Hilux',\n",
              "       ' GLS Class', ' GLB Class', ' M5', ' RS3', ' Caddy Life', ' SQ5',\n",
              "       ' Supra', ' 8 Series', ' Fusion', ' M6', ' M3', ' Jetta', ' S4',\n",
              "       ' R8', ' PROACE VERSO', ' Caddy', ' Getz', ' Eos', ' CLK', ' IQ',\n",
              "       ' Z3', ' Roomster'], dtype=object)"
            ]
          },
          "metadata": {},
          "execution_count": 478
        }
      ]
    },
    {
      "cell_type": "code",
      "source": [
        "df"
      ],
      "metadata": {
        "colab": {
          "base_uri": "https://localhost:8080/",
          "height": 424
        },
        "id": "jeHYLQW7eUk2",
        "outputId": "4725b8fd-8f1a-4d67-c044-1711c3995545"
      },
      "execution_count": 488,
      "outputs": [
        {
          "output_type": "execute_result",
          "data": {
            "text/plain": [
              "         brand       model  year transmission  mileage fuelType    tax   mpg  \\\n",
              "0       hyundi    Santa Fe  2019    Semi-Auto     4223   Diesel  145.0  39.8   \n",
              "1     vauxhall         GTC  2015       Manual    47870   Diesel  125.0  60.1   \n",
              "2         audi         RS4  2019    Automatic     5151   Petrol  145.0  29.1   \n",
              "3           vw    Scirocco  2016    Automatic    20423   Diesel   30.0  57.6   \n",
              "4        skoda       Scala  2020    Semi-Auto     3569   Petrol  145.0  47.1   \n",
              "...        ...         ...   ...          ...      ...      ...    ...   ...   \n",
              "7627      audi          A7  2015    Semi-Auto    21100   Petrol  325.0  29.7   \n",
              "7628      merc   CLS Class  2015    Automatic    60972   Diesel  160.0  52.3   \n",
              "7629      ford        Puma  2020       Manual     4111   Petrol  145.0  50.4   \n",
              "7630      merc   CLA Class  2016    Automatic    25726   Petrol  200.0  41.5   \n",
              "7631  vauxhall      Antara  2007    Automatic    99500   Diesel  565.0  32.8   \n",
              "\n",
              "      engineSize  price  \n",
              "0            2.2  31995  \n",
              "1            2.0   7700  \n",
              "2            2.9  58990  \n",
              "3            2.0  12999  \n",
              "4            1.0  16990  \n",
              "...          ...    ...  \n",
              "7627         4.0  28990  \n",
              "7628         3.0  17450  \n",
              "7629         1.0  21995  \n",
              "7630         2.0  18700  \n",
              "7631         2.0   2999  \n",
              "\n",
              "[7632 rows x 10 columns]"
            ],
            "text/html": [
              "\n",
              "  <div id=\"df-534b3043-11d7-4171-9db6-2e7533db8c1d\">\n",
              "    <div class=\"colab-df-container\">\n",
              "      <div>\n",
              "<style scoped>\n",
              "    .dataframe tbody tr th:only-of-type {\n",
              "        vertical-align: middle;\n",
              "    }\n",
              "\n",
              "    .dataframe tbody tr th {\n",
              "        vertical-align: top;\n",
              "    }\n",
              "\n",
              "    .dataframe thead th {\n",
              "        text-align: right;\n",
              "    }\n",
              "</style>\n",
              "<table border=\"1\" class=\"dataframe\">\n",
              "  <thead>\n",
              "    <tr style=\"text-align: right;\">\n",
              "      <th></th>\n",
              "      <th>brand</th>\n",
              "      <th>model</th>\n",
              "      <th>year</th>\n",
              "      <th>transmission</th>\n",
              "      <th>mileage</th>\n",
              "      <th>fuelType</th>\n",
              "      <th>tax</th>\n",
              "      <th>mpg</th>\n",
              "      <th>engineSize</th>\n",
              "      <th>price</th>\n",
              "    </tr>\n",
              "  </thead>\n",
              "  <tbody>\n",
              "    <tr>\n",
              "      <th>0</th>\n",
              "      <td>hyundi</td>\n",
              "      <td>Santa Fe</td>\n",
              "      <td>2019</td>\n",
              "      <td>Semi-Auto</td>\n",
              "      <td>4223</td>\n",
              "      <td>Diesel</td>\n",
              "      <td>145.0</td>\n",
              "      <td>39.8</td>\n",
              "      <td>2.2</td>\n",
              "      <td>31995</td>\n",
              "    </tr>\n",
              "    <tr>\n",
              "      <th>1</th>\n",
              "      <td>vauxhall</td>\n",
              "      <td>GTC</td>\n",
              "      <td>2015</td>\n",
              "      <td>Manual</td>\n",
              "      <td>47870</td>\n",
              "      <td>Diesel</td>\n",
              "      <td>125.0</td>\n",
              "      <td>60.1</td>\n",
              "      <td>2.0</td>\n",
              "      <td>7700</td>\n",
              "    </tr>\n",
              "    <tr>\n",
              "      <th>2</th>\n",
              "      <td>audi</td>\n",
              "      <td>RS4</td>\n",
              "      <td>2019</td>\n",
              "      <td>Automatic</td>\n",
              "      <td>5151</td>\n",
              "      <td>Petrol</td>\n",
              "      <td>145.0</td>\n",
              "      <td>29.1</td>\n",
              "      <td>2.9</td>\n",
              "      <td>58990</td>\n",
              "    </tr>\n",
              "    <tr>\n",
              "      <th>3</th>\n",
              "      <td>vw</td>\n",
              "      <td>Scirocco</td>\n",
              "      <td>2016</td>\n",
              "      <td>Automatic</td>\n",
              "      <td>20423</td>\n",
              "      <td>Diesel</td>\n",
              "      <td>30.0</td>\n",
              "      <td>57.6</td>\n",
              "      <td>2.0</td>\n",
              "      <td>12999</td>\n",
              "    </tr>\n",
              "    <tr>\n",
              "      <th>4</th>\n",
              "      <td>skoda</td>\n",
              "      <td>Scala</td>\n",
              "      <td>2020</td>\n",
              "      <td>Semi-Auto</td>\n",
              "      <td>3569</td>\n",
              "      <td>Petrol</td>\n",
              "      <td>145.0</td>\n",
              "      <td>47.1</td>\n",
              "      <td>1.0</td>\n",
              "      <td>16990</td>\n",
              "    </tr>\n",
              "    <tr>\n",
              "      <th>...</th>\n",
              "      <td>...</td>\n",
              "      <td>...</td>\n",
              "      <td>...</td>\n",
              "      <td>...</td>\n",
              "      <td>...</td>\n",
              "      <td>...</td>\n",
              "      <td>...</td>\n",
              "      <td>...</td>\n",
              "      <td>...</td>\n",
              "      <td>...</td>\n",
              "    </tr>\n",
              "    <tr>\n",
              "      <th>7627</th>\n",
              "      <td>audi</td>\n",
              "      <td>A7</td>\n",
              "      <td>2015</td>\n",
              "      <td>Semi-Auto</td>\n",
              "      <td>21100</td>\n",
              "      <td>Petrol</td>\n",
              "      <td>325.0</td>\n",
              "      <td>29.7</td>\n",
              "      <td>4.0</td>\n",
              "      <td>28990</td>\n",
              "    </tr>\n",
              "    <tr>\n",
              "      <th>7628</th>\n",
              "      <td>merc</td>\n",
              "      <td>CLS Class</td>\n",
              "      <td>2015</td>\n",
              "      <td>Automatic</td>\n",
              "      <td>60972</td>\n",
              "      <td>Diesel</td>\n",
              "      <td>160.0</td>\n",
              "      <td>52.3</td>\n",
              "      <td>3.0</td>\n",
              "      <td>17450</td>\n",
              "    </tr>\n",
              "    <tr>\n",
              "      <th>7629</th>\n",
              "      <td>ford</td>\n",
              "      <td>Puma</td>\n",
              "      <td>2020</td>\n",
              "      <td>Manual</td>\n",
              "      <td>4111</td>\n",
              "      <td>Petrol</td>\n",
              "      <td>145.0</td>\n",
              "      <td>50.4</td>\n",
              "      <td>1.0</td>\n",
              "      <td>21995</td>\n",
              "    </tr>\n",
              "    <tr>\n",
              "      <th>7630</th>\n",
              "      <td>merc</td>\n",
              "      <td>CLA Class</td>\n",
              "      <td>2016</td>\n",
              "      <td>Automatic</td>\n",
              "      <td>25726</td>\n",
              "      <td>Petrol</td>\n",
              "      <td>200.0</td>\n",
              "      <td>41.5</td>\n",
              "      <td>2.0</td>\n",
              "      <td>18700</td>\n",
              "    </tr>\n",
              "    <tr>\n",
              "      <th>7631</th>\n",
              "      <td>vauxhall</td>\n",
              "      <td>Antara</td>\n",
              "      <td>2007</td>\n",
              "      <td>Automatic</td>\n",
              "      <td>99500</td>\n",
              "      <td>Diesel</td>\n",
              "      <td>565.0</td>\n",
              "      <td>32.8</td>\n",
              "      <td>2.0</td>\n",
              "      <td>2999</td>\n",
              "    </tr>\n",
              "  </tbody>\n",
              "</table>\n",
              "<p>7632 rows × 10 columns</p>\n",
              "</div>\n",
              "      <button class=\"colab-df-convert\" onclick=\"convertToInteractive('df-534b3043-11d7-4171-9db6-2e7533db8c1d')\"\n",
              "              title=\"Convert this dataframe to an interactive table.\"\n",
              "              style=\"display:none;\">\n",
              "        \n",
              "  <svg xmlns=\"http://www.w3.org/2000/svg\" height=\"24px\"viewBox=\"0 0 24 24\"\n",
              "       width=\"24px\">\n",
              "    <path d=\"M0 0h24v24H0V0z\" fill=\"none\"/>\n",
              "    <path d=\"M18.56 5.44l.94 2.06.94-2.06 2.06-.94-2.06-.94-.94-2.06-.94 2.06-2.06.94zm-11 1L8.5 8.5l.94-2.06 2.06-.94-2.06-.94L8.5 2.5l-.94 2.06-2.06.94zm10 10l.94 2.06.94-2.06 2.06-.94-2.06-.94-.94-2.06-.94 2.06-2.06.94z\"/><path d=\"M17.41 7.96l-1.37-1.37c-.4-.4-.92-.59-1.43-.59-.52 0-1.04.2-1.43.59L10.3 9.45l-7.72 7.72c-.78.78-.78 2.05 0 2.83L4 21.41c.39.39.9.59 1.41.59.51 0 1.02-.2 1.41-.59l7.78-7.78 2.81-2.81c.8-.78.8-2.07 0-2.86zM5.41 20L4 18.59l7.72-7.72 1.47 1.35L5.41 20z\"/>\n",
              "  </svg>\n",
              "      </button>\n",
              "      \n",
              "  <style>\n",
              "    .colab-df-container {\n",
              "      display:flex;\n",
              "      flex-wrap:wrap;\n",
              "      gap: 12px;\n",
              "    }\n",
              "\n",
              "    .colab-df-convert {\n",
              "      background-color: #E8F0FE;\n",
              "      border: none;\n",
              "      border-radius: 50%;\n",
              "      cursor: pointer;\n",
              "      display: none;\n",
              "      fill: #1967D2;\n",
              "      height: 32px;\n",
              "      padding: 0 0 0 0;\n",
              "      width: 32px;\n",
              "    }\n",
              "\n",
              "    .colab-df-convert:hover {\n",
              "      background-color: #E2EBFA;\n",
              "      box-shadow: 0px 1px 2px rgba(60, 64, 67, 0.3), 0px 1px 3px 1px rgba(60, 64, 67, 0.15);\n",
              "      fill: #174EA6;\n",
              "    }\n",
              "\n",
              "    [theme=dark] .colab-df-convert {\n",
              "      background-color: #3B4455;\n",
              "      fill: #D2E3FC;\n",
              "    }\n",
              "\n",
              "    [theme=dark] .colab-df-convert:hover {\n",
              "      background-color: #434B5C;\n",
              "      box-shadow: 0px 1px 3px 1px rgba(0, 0, 0, 0.15);\n",
              "      filter: drop-shadow(0px 1px 2px rgba(0, 0, 0, 0.3));\n",
              "      fill: #FFFFFF;\n",
              "    }\n",
              "  </style>\n",
              "\n",
              "      <script>\n",
              "        const buttonEl =\n",
              "          document.querySelector('#df-534b3043-11d7-4171-9db6-2e7533db8c1d button.colab-df-convert');\n",
              "        buttonEl.style.display =\n",
              "          google.colab.kernel.accessAllowed ? 'block' : 'none';\n",
              "\n",
              "        async function convertToInteractive(key) {\n",
              "          const element = document.querySelector('#df-534b3043-11d7-4171-9db6-2e7533db8c1d');\n",
              "          const dataTable =\n",
              "            await google.colab.kernel.invokeFunction('convertToInteractive',\n",
              "                                                     [key], {});\n",
              "          if (!dataTable) return;\n",
              "\n",
              "          const docLinkHtml = 'Like what you see? Visit the ' +\n",
              "            '<a target=\"_blank\" href=https://colab.research.google.com/notebooks/data_table.ipynb>data table notebook</a>'\n",
              "            + ' to learn more about interactive tables.';\n",
              "          element.innerHTML = '';\n",
              "          dataTable['output_type'] = 'display_data';\n",
              "          await google.colab.output.renderOutput(dataTable, element);\n",
              "          const docLink = document.createElement('div');\n",
              "          docLink.innerHTML = docLinkHtml;\n",
              "          element.appendChild(docLink);\n",
              "        }\n",
              "      </script>\n",
              "    </div>\n",
              "  </div>\n",
              "  "
            ]
          },
          "metadata": {},
          "execution_count": 488
        }
      ]
    },
    {
      "cell_type": "markdown",
      "source": [
        "### 데이터 시각화"
      ],
      "metadata": {
        "id": "wU4ft30qhoHh"
      }
    },
    {
      "cell_type": "markdown",
      "source": [
        "제조사별 평균단가"
      ],
      "metadata": {
        "id": "ouOIz0FAevrV"
      }
    },
    {
      "cell_type": "code",
      "source": [
        "brand = df.groupby('brand')['price'].mean().to_frame().sort_values(by='price')\n",
        "fig = plt.figure(figsize=(15, 8))\n",
        "sns.barplot(x=brand.index,y='price',data=brand)\n",
        "plt.axhline(y = brand['price'].mean(), color = 'gray', linestyle = '--', linewidth = 2)"
      ],
      "metadata": {
        "colab": {
          "base_uri": "https://localhost:8080/",
          "height": 521
        },
        "id": "otAttpddOnT6",
        "outputId": "7fd23ddf-8b83-455c-ecff-9d1c6ad283fe"
      },
      "execution_count": 509,
      "outputs": [
        {
          "output_type": "execute_result",
          "data": {
            "text/plain": [
              "<matplotlib.lines.Line2D at 0x7f99c96b5550>"
            ]
          },
          "metadata": {},
          "execution_count": 509
        },
        {
          "output_type": "display_data",
          "data": {
            "text/plain": [
              "<Figure size 1080x576 with 1 Axes>"
            ],
            "image/png": "[encoded data removed]"
          },
          "metadata": {}
        }
      ]
    },
    {
      "cell_type": "markdown",
      "source": [
        "연식별 평균단가"
      ],
      "metadata": {
        "id": "5EUkuX7MicQy"
      }
    },
    {
      "cell_type": "code",
      "source": [
        "year = df.groupby('year')['price'].mean().to_frame().sort_values(by='price')\n",
        "fig = plt.figure(figsize=(15, 8))\n",
        "sns.barplot(x=year.index,y='price',data=year)\n",
        "plt.axhline(y = year['price'].mean(), color = 'gray', linestyle = '--', linewidth = 2)"
      ],
      "metadata": {
        "colab": {
          "base_uri": "https://localhost:8080/",
          "height": 522
        },
        "id": "HjEKRT9yOnRb",
        "outputId": "e5dbbdf3-e55f-44ea-dabc-f747f79cc781"
      },
      "execution_count": 515,
      "outputs": [
        {
          "output_type": "execute_result",
          "data": {
            "text/plain": [
              "<matplotlib.lines.Line2D at 0x7f99c9226fd0>"
            ]
          },
          "metadata": {},
          "execution_count": 515
        },
        {
          "output_type": "display_data",
          "data": {
            "text/plain": [
              "<Figure size 1080x576 with 1 Axes>"
            ],
            "image/png": "[encoded data removed]"
          },
          "metadata": {}
        }
      ]
    },
    {
      "cell_type": "code",
      "source": [
        "df.loc[df['year']==1970]"
      ],
      "metadata": {
        "colab": {
          "base_uri": "https://localhost:8080/",
          "height": 81
        },
        "id": "g4ZFDj9WOnPC",
        "outputId": "5ffe5416-01a1-4191-8ab2-d6c25a749560"
      },
      "execution_count": 517,
      "outputs": [
        {
          "output_type": "execute_result",
          "data": {
            "text/plain": [
              "     brand     model  year transmission  mileage fuelType    tax   mpg  \\\n",
              "6782  merc   M Class  1970    Automatic    14000   Diesel  305.0  39.2   \n",
              "\n",
              "      engineSize  price  \n",
              "6782         0.0  24999  "
            ],
            "text/html": [
              "\n",
              "  <div id=\"df-bf5ca138-e466-427b-8f41-f58620d88d41\">\n",
              "    <div class=\"colab-df-container\">\n",
              "      <div>\n",
              "<style scoped>\n",
              "    .dataframe tbody tr th:only-of-type {\n",
              "        vertical-align: middle;\n",
              "    }\n",
              "\n",
              "    .dataframe tbody tr th {\n",
              "        vertical-align: top;\n",
              "    }\n",
              "\n",
              "    .dataframe thead th {\n",
              "        text-align: right;\n",
              "    }\n",
              "</style>\n",
              "<table border=\"1\" class=\"dataframe\">\n",
              "  <thead>\n",
              "    <tr style=\"text-align: right;\">\n",
              "      <th></th>\n",
              "      <th>brand</th>\n",
              "      <th>model</th>\n",
              "      <th>year</th>\n",
              "      <th>transmission</th>\n",
              "      <th>mileage</th>\n",
              "      <th>fuelType</th>\n",
              "      <th>tax</th>\n",
              "      <th>mpg</th>\n",
              "      <th>engineSize</th>\n",
              "      <th>price</th>\n",
              "    </tr>\n",
              "  </thead>\n",
              "  <tbody>\n",
              "    <tr>\n",
              "      <th>6782</th>\n",
              "      <td>merc</td>\n",
              "      <td>M Class</td>\n",
              "      <td>1970</td>\n",
              "      <td>Automatic</td>\n",
              "      <td>14000</td>\n",
              "      <td>Diesel</td>\n",
              "      <td>305.0</td>\n",
              "      <td>39.2</td>\n",
              "      <td>0.0</td>\n",
              "      <td>24999</td>\n",
              "    </tr>\n",
              "  </tbody>\n",
              "</table>\n",
              "</div>\n",
              "      <button class=\"colab-df-convert\" onclick=\"convertToInteractive('df-bf5ca138-e466-427b-8f41-f58620d88d41')\"\n",
              "              title=\"Convert this dataframe to an interactive table.\"\n",
              "              style=\"display:none;\">\n",
              "        \n",
              "  <svg xmlns=\"http://www.w3.org/2000/svg\" height=\"24px\"viewBox=\"0 0 24 24\"\n",
              "       width=\"24px\">\n",
              "    <path d=\"M0 0h24v24H0V0z\" fill=\"none\"/>\n",
              "    <path d=\"M18.56 5.44l.94 2.06.94-2.06 2.06-.94-2.06-.94-.94-2.06-.94 2.06-2.06.94zm-11 1L8.5 8.5l.94-2.06 2.06-.94-2.06-.94L8.5 2.5l-.94 2.06-2.06.94zm10 10l.94 2.06.94-2.06 2.06-.94-2.06-.94-.94-2.06-.94 2.06-2.06.94z\"/><path d=\"M17.41 7.96l-1.37-1.37c-.4-.4-.92-.59-1.43-.59-.52 0-1.04.2-1.43.59L10.3 9.45l-7.72 7.72c-.78.78-.78 2.05 0 2.83L4 21.41c.39.39.9.59 1.41.59.51 0 1.02-.2 1.41-.59l7.78-7.78 2.81-2.81c.8-.78.8-2.07 0-2.86zM5.41 20L4 18.59l7.72-7.72 1.47 1.35L5.41 20z\"/>\n",
              "  </svg>\n",
              "      </button>\n",
              "      \n",
              "  <style>\n",
              "    .colab-df-container {\n",
              "      display:flex;\n",
              "      flex-wrap:wrap;\n",
              "      gap: 12px;\n",
              "    }\n",
              "\n",
              "    .colab-df-convert {\n",
              "      background-color: #E8F0FE;\n",
              "      border: none;\n",
              "      border-radius: 50%;\n",
              "      cursor: pointer;\n",
              "      display: none;\n",
              "      fill: #1967D2;\n",
              "      height: 32px;\n",
              "      padding: 0 0 0 0;\n",
              "      width: 32px;\n",
              "    }\n",
              "\n",
              "    .colab-df-convert:hover {\n",
              "      background-color: #E2EBFA;\n",
              "      box-shadow: 0px 1px 2px rgba(60, 64, 67, 0.3), 0px 1px 3px 1px rgba(60, 64, 67, 0.15);\n",
              "      fill: #174EA6;\n",
              "    }\n",
              "\n",
              "    [theme=dark] .colab-df-convert {\n",
              "      background-color: #3B4455;\n",
              "      fill: #D2E3FC;\n",
              "    }\n",
              "\n",
              "    [theme=dark] .colab-df-convert:hover {\n",
              "      background-color: #434B5C;\n",
              "      box-shadow: 0px 1px 3px 1px rgba(0, 0, 0, 0.15);\n",
              "      filter: drop-shadow(0px 1px 2px rgba(0, 0, 0, 0.3));\n",
              "      fill: #FFFFFF;\n",
              "    }\n",
              "  </style>\n",
              "\n",
              "      <script>\n",
              "        const buttonEl =\n",
              "          document.querySelector('#df-bf5ca138-e466-427b-8f41-f58620d88d41 button.colab-df-convert');\n",
              "        buttonEl.style.display =\n",
              "          google.colab.kernel.accessAllowed ? 'block' : 'none';\n",
              "\n",
              "        async function convertToInteractive(key) {\n",
              "          const element = document.querySelector('#df-bf5ca138-e466-427b-8f41-f58620d88d41');\n",
              "          const dataTable =\n",
              "            await google.colab.kernel.invokeFunction('convertToInteractive',\n",
              "                                                     [key], {});\n",
              "          if (!dataTable) return;\n",
              "\n",
              "          const docLinkHtml = 'Like what you see? Visit the ' +\n",
              "            '<a target=\"_blank\" href=https://colab.research.google.com/notebooks/data_table.ipynb>data table notebook</a>'\n",
              "            + ' to learn more about interactive tables.';\n",
              "          element.innerHTML = '';\n",
              "          dataTable['output_type'] = 'display_data';\n",
              "          await google.colab.output.renderOutput(dataTable, element);\n",
              "          const docLink = document.createElement('div');\n",
              "          docLink.innerHTML = docLinkHtml;\n",
              "          element.appendChild(docLink);\n",
              "        }\n",
              "      </script>\n",
              "    </div>\n",
              "  </div>\n",
              "  "
            ]
          },
          "metadata": {},
          "execution_count": 517
        }
      ]
    },
    {
      "cell_type": "code",
      "source": [
        "df.loc[df['year']==1998]"
      ],
      "metadata": {
        "colab": {
          "base_uri": "https://localhost:8080/",
          "height": 206
        },
        "id": "Oe5bSDjDOnMl",
        "outputId": "77dc5313-c711-44cb-9d5a-56591e5ba18b"
      },
      "execution_count": 518,
      "outputs": [
        {
          "output_type": "execute_result",
          "data": {
            "text/plain": [
              "       brand          model  year transmission  mileage fuelType    tax   mpg  \\\n",
              "3014    merc        S Class  1998    Automatic    43534   Petrol  265.0  23.3   \n",
              "4578    merc            SLK  1998    Automatic   113557   Petrol  265.0  32.1   \n",
              "6154  toyota   Land Cruiser  1998       Manual   100000   Diesel  265.0  23.9   \n",
              "6984    merc            SLK  1998    Automatic    99300   Petrol  265.0  32.1   \n",
              "7045     bmw             Z3  1998       Manual    56500   Petrol  270.0  35.3   \n",
              "\n",
              "      engineSize  price  \n",
              "3014         6.0  19990  \n",
              "4578         2.3   1990  \n",
              "6154         4.2  19990  \n",
              "6984         2.3   1990  \n",
              "7045         1.9   3950  "
            ],
            "text/html": [
              "\n",
              "  <div id=\"df-dc004284-76ea-4aac-ad7f-e66c1d0690f8\">\n",
              "    <div class=\"colab-df-container\">\n",
              "      <div>\n",
              "<style scoped>\n",
              "    .dataframe tbody tr th:only-of-type {\n",
              "        vertical-align: middle;\n",
              "    }\n",
              "\n",
              "    .dataframe tbody tr th {\n",
              "        vertical-align: top;\n",
              "    }\n",
              "\n",
              "    .dataframe thead th {\n",
              "        text-align: right;\n",
              "    }\n",
              "</style>\n",
              "<table border=\"1\" class=\"dataframe\">\n",
              "  <thead>\n",
              "    <tr style=\"text-align: right;\">\n",
              "      <th></th>\n",
              "      <th>brand</th>\n",
              "      <th>model</th>\n",
              "      <th>year</th>\n",
              "      <th>transmission</th>\n",
              "      <th>mileage</th>\n",
              "      <th>fuelType</th>\n",
              "      <th>tax</th>\n",
              "      <th>mpg</th>\n",
              "      <th>engineSize</th>\n",
              "      <th>price</th>\n",
              "    </tr>\n",
              "  </thead>\n",
              "  <tbody>\n",
              "    <tr>\n",
              "      <th>3014</th>\n",
              "      <td>merc</td>\n",
              "      <td>S Class</td>\n",
              "      <td>1998</td>\n",
              "      <td>Automatic</td>\n",
              "      <td>43534</td>\n",
              "      <td>Petrol</td>\n",
              "      <td>265.0</td>\n",
              "      <td>23.3</td>\n",
              "      <td>6.0</td>\n",
              "      <td>19990</td>\n",
              "    </tr>\n",
              "    <tr>\n",
              "      <th>4578</th>\n",
              "      <td>merc</td>\n",
              "      <td>SLK</td>\n",
              "      <td>1998</td>\n",
              "      <td>Automatic</td>\n",
              "      <td>113557</td>\n",
              "      <td>Petrol</td>\n",
              "      <td>265.0</td>\n",
              "      <td>32.1</td>\n",
              "      <td>2.3</td>\n",
              "      <td>1990</td>\n",
              "    </tr>\n",
              "    <tr>\n",
              "      <th>6154</th>\n",
              "      <td>toyota</td>\n",
              "      <td>Land Cruiser</td>\n",
              "      <td>1998</td>\n",
              "      <td>Manual</td>\n",
              "      <td>100000</td>\n",
              "      <td>Diesel</td>\n",
              "      <td>265.0</td>\n",
              "      <td>23.9</td>\n",
              "      <td>4.2</td>\n",
              "      <td>19990</td>\n",
              "    </tr>\n",
              "    <tr>\n",
              "      <th>6984</th>\n",
              "      <td>merc</td>\n",
              "      <td>SLK</td>\n",
              "      <td>1998</td>\n",
              "      <td>Automatic</td>\n",
              "      <td>99300</td>\n",
              "      <td>Petrol</td>\n",
              "      <td>265.0</td>\n",
              "      <td>32.1</td>\n",
              "      <td>2.3</td>\n",
              "      <td>1990</td>\n",
              "    </tr>\n",
              "    <tr>\n",
              "      <th>7045</th>\n",
              "      <td>bmw</td>\n",
              "      <td>Z3</td>\n",
              "      <td>1998</td>\n",
              "      <td>Manual</td>\n",
              "      <td>56500</td>\n",
              "      <td>Petrol</td>\n",
              "      <td>270.0</td>\n",
              "      <td>35.3</td>\n",
              "      <td>1.9</td>\n",
              "      <td>3950</td>\n",
              "    </tr>\n",
              "  </tbody>\n",
              "</table>\n",
              "</div>\n",
              "      <button class=\"colab-df-convert\" onclick=\"convertToInteractive('df-dc004284-76ea-4aac-ad7f-e66c1d0690f8')\"\n",
              "              title=\"Convert this dataframe to an interactive table.\"\n",
              "              style=\"display:none;\">\n",
              "        \n",
              "  <svg xmlns=\"http://www.w3.org/2000/svg\" height=\"24px\"viewBox=\"0 0 24 24\"\n",
              "       width=\"24px\">\n",
              "    <path d=\"M0 0h24v24H0V0z\" fill=\"none\"/>\n",
              "    <path d=\"M18.56 5.44l.94 2.06.94-2.06 2.06-.94-2.06-.94-.94-2.06-.94 2.06-2.06.94zm-11 1L8.5 8.5l.94-2.06 2.06-.94-2.06-.94L8.5 2.5l-.94 2.06-2.06.94zm10 10l.94 2.06.94-2.06 2.06-.94-2.06-.94-.94-2.06-.94 2.06-2.06.94z\"/><path d=\"M17.41 7.96l-1.37-1.37c-.4-.4-.92-.59-1.43-.59-.52 0-1.04.2-1.43.59L10.3 9.45l-7.72 7.72c-.78.78-.78 2.05 0 2.83L4 21.41c.39.39.9.59 1.41.59.51 0 1.02-.2 1.41-.59l7.78-7.78 2.81-2.81c.8-.78.8-2.07 0-2.86zM5.41 20L4 18.59l7.72-7.72 1.47 1.35L5.41 20z\"/>\n",
              "  </svg>\n",
              "      </button>\n",
              "      \n",
              "  <style>\n",
              "    .colab-df-container {\n",
              "      display:flex;\n",
              "      flex-wrap:wrap;\n",
              "      gap: 12px;\n",
              "    }\n",
              "\n",
              "    .colab-df-convert {\n",
              "      background-color: #E8F0FE;\n",
              "      border: none;\n",
              "      border-radius: 50%;\n",
              "      cursor: pointer;\n",
              "      display: none;\n",
              "      fill: #1967D2;\n",
              "      height: 32px;\n",
              "      padding: 0 0 0 0;\n",
              "      width: 32px;\n",
              "    }\n",
              "\n",
              "    .colab-df-convert:hover {\n",
              "      background-color: #E2EBFA;\n",
              "      box-shadow: 0px 1px 2px rgba(60, 64, 67, 0.3), 0px 1px 3px 1px rgba(60, 64, 67, 0.15);\n",
              "      fill: #174EA6;\n",
              "    }\n",
              "\n",
              "    [theme=dark] .colab-df-convert {\n",
              "      background-color: #3B4455;\n",
              "      fill: #D2E3FC;\n",
              "    }\n",
              "\n",
              "    [theme=dark] .colab-df-convert:hover {\n",
              "      background-color: #434B5C;\n",
              "      box-shadow: 0px 1px 3px 1px rgba(0, 0, 0, 0.15);\n",
              "      filter: drop-shadow(0px 1px 2px rgba(0, 0, 0, 0.3));\n",
              "      fill: #FFFFFF;\n",
              "    }\n",
              "  </style>\n",
              "\n",
              "      <script>\n",
              "        const buttonEl =\n",
              "          document.querySelector('#df-dc004284-76ea-4aac-ad7f-e66c1d0690f8 button.colab-df-convert');\n",
              "        buttonEl.style.display =\n",
              "          google.colab.kernel.accessAllowed ? 'block' : 'none';\n",
              "\n",
              "        async function convertToInteractive(key) {\n",
              "          const element = document.querySelector('#df-dc004284-76ea-4aac-ad7f-e66c1d0690f8');\n",
              "          const dataTable =\n",
              "            await google.colab.kernel.invokeFunction('convertToInteractive',\n",
              "                                                     [key], {});\n",
              "          if (!dataTable) return;\n",
              "\n",
              "          const docLinkHtml = 'Like what you see? Visit the ' +\n",
              "            '<a target=\"_blank\" href=https://colab.research.google.com/notebooks/data_table.ipynb>data table notebook</a>'\n",
              "            + ' to learn more about interactive tables.';\n",
              "          element.innerHTML = '';\n",
              "          dataTable['output_type'] = 'display_data';\n",
              "          await google.colab.output.renderOutput(dataTable, element);\n",
              "          const docLink = document.createElement('div');\n",
              "          docLink.innerHTML = docLinkHtml;\n",
              "          element.appendChild(docLink);\n",
              "        }\n",
              "      </script>\n",
              "    </div>\n",
              "  </div>\n",
              "  "
            ]
          },
          "metadata": {},
          "execution_count": 518
        }
      ]
    },
    {
      "cell_type": "markdown",
      "source": [
        "변속유형별 평균단가"
      ],
      "metadata": {
        "id": "2kBv5UQ9jqff"
      }
    },
    {
      "cell_type": "code",
      "source": [
        "tran = df.groupby('transmission')['price'].mean().to_frame().sort_values(by='price')\n",
        "fig = plt.figure(figsize=(15, 8))\n",
        "sns.barplot(x=tran.index,y='price',data=tran)\n",
        "plt.axhline(y = tran['price'].mean(), color = 'gray', linestyle = '--', linewidth = 2)"
      ],
      "metadata": {
        "colab": {
          "base_uri": "https://localhost:8080/",
          "height": 524
        },
        "id": "aPqjFt1FOnKS",
        "outputId": "7568472b-7f0b-4e1c-b927-cee01d6aba6c"
      },
      "execution_count": 520,
      "outputs": [
        {
          "output_type": "execute_result",
          "data": {
            "text/plain": [
              "<matplotlib.lines.Line2D at 0x7f99cb15df50>"
            ]
          },
          "metadata": {},
          "execution_count": 520
        },
        {
          "output_type": "display_data",
          "data": {
            "text/plain": [
              "<Figure size 1080x576 with 1 Axes>"
            ],
            "image/png": "[encoded data removed]"
          },
          "metadata": {}
        }
      ]
    },
    {
      "cell_type": "markdown",
      "source": [
        "연료 유형별 평균단가"
      ],
      "metadata": {
        "id": "TZVdvSBQkB5_"
      }
    },
    {
      "cell_type": "code",
      "source": [
        "fuel = df.groupby('fuelType')['price'].mean().to_frame().sort_values(by='price')\n",
        "fig = plt.figure(figsize=(15, 8))\n",
        "sns.barplot(x=fuel.index,y='price',data=fuel)\n",
        "plt.axhline(y = fuel['price'].mean(), color = 'gray', linestyle = '--', linewidth = 2)"
      ],
      "metadata": {
        "colab": {
          "base_uri": "https://localhost:8080/",
          "height": 521
        },
        "id": "mk8iYzJHkEfV",
        "outputId": "29ae7a09-fe9f-4409-acef-535c91af1cc4"
      },
      "execution_count": 521,
      "outputs": [
        {
          "output_type": "execute_result",
          "data": {
            "text/plain": [
              "<matplotlib.lines.Line2D at 0x7f99cb0f83d0>"
            ]
          },
          "metadata": {},
          "execution_count": 521
        },
        {
          "output_type": "display_data",
          "data": {
            "text/plain": [
              "<Figure size 1080x576 with 1 Axes>"
            ],
            "image/png": "[encoded data removed]"
          },
          "metadata": {}
        }
      ]
    },
    {
      "cell_type": "markdown",
      "source": [
        "수치형 컬럼에대한 상관관계분석 히트맵"
      ],
      "metadata": {
        "id": "CfsJUY-1k4uR"
      }
    },
    {
      "cell_type": "code",
      "source": [
        "fig, ax = plt.subplots(figsize=(12,10))\n",
        "\n",
        "sns.heatmap(df.corr(), # 위에서 전처리한 데이터프레임\n",
        "            annot = True, # 숫자 표시 여부\n",
        "            ax = ax, # 히트맵을 그릴 격자\n",
        "            linewidths = 0.4, # 선의 굵기\n",
        "            linecolor = 'white', # 선의 색깔\n",
        "            fmt = '.1f', # 소수점 포맷팅 형태\n",
        "            cmap = 'YlOrRd') # colormap 형태\n",
        "\n",
        "\n",
        "\n",
        "plt.xticks(rotation=45, size = 12)\n",
        "plt.yticks(size=12) \n",
        "plt.show()"
      ],
      "metadata": {
        "colab": {
          "base_uri": "https://localhost:8080/",
          "height": 645
        },
        "id": "su_WCocikcO4",
        "outputId": "a551deef-3e65-4b6d-e984-8e2a76965d3e"
      },
      "execution_count": 533,
      "outputs": [
        {
          "output_type": "display_data",
          "data": {
            "text/plain": [
              "<Figure size 864x720 with 2 Axes>"
            ],
            "image/png": "[encoded data removed]"
          },
          "metadata": {}
        }
      ]
    },
    {
      "cell_type": "markdown",
      "source": [
        "## 4) 머신러닝 방식 적용 및 교차검증"
      ],
      "metadata": {
        "id": "gzN5FNOs0_x3"
      }
    },
    {
      "cell_type": "code",
      "source": [
        "target = df['price']\n",
        "features = df.drop(columns='price')"
      ],
      "metadata": {
        "id": "k0ptMfHV2a7k"
      },
      "execution_count": 547,
      "outputs": []
    },
    {
      "cell_type": "code",
      "source": [
        "x_train,x_test,y_train,y_test = train_test_split(features,target,test_size=0.2,random_state=42)\n",
        "\n",
        "print(x_train.shape,x_test.shape,y_train.shape,y_test.shape)"
      ],
      "metadata": {
        "colab": {
          "base_uri": "https://localhost:8080/"
        },
        "id": "2cJJNBhW2w_u",
        "outputId": "be9f0511-233e-4f5b-c0ac-735a4240de91"
      },
      "execution_count": 567,
      "outputs": [
        {
          "output_type": "stream",
          "name": "stdout",
          "text": [
            "(6105, 9) (1527, 9) (6105,) (1527,)\n"
          ]
        }
      ]
    },
    {
      "cell_type": "code",
      "source": [
        "orderinal=OrdinalEncoder()\n",
        "x_train_encoded=orderinal.fit_transform(x_train)\n",
        "x_test_encoded=orderinal.fit_transform(x_test)"
      ],
      "metadata": {
        "id": "LnX1sbod3t8M"
      },
      "execution_count": 568,
      "outputs": []
    },
    {
      "cell_type": "markdown",
      "source": [
        "기준모델 생성"
      ],
      "metadata": {
        "id": "d28nWtBO7L9T"
      }
    },
    {
      "cell_type": "code",
      "source": [
        "base_model = df['price'].mean()"
      ],
      "metadata": {
        "id": "Pnj1EXYgOnH7"
      },
      "execution_count": 573,
      "outputs": []
    },
    {
      "cell_type": "code",
      "source": [
        "price=pd.DataFrame(df['price'])"
      ],
      "metadata": {
        "id": "sKKK6K41OnFb"
      },
      "execution_count": 595,
      "outputs": []
    },
    {
      "cell_type": "code",
      "source": [
        "price['base_model']"
      ],
      "metadata": {
        "id": "ofKvhx3P_UHP",
        "outputId": "4609411d-7c8d-4336-e1f5-f113e5e4ab93",
        "colab": {
          "base_uri": "https://localhost:8080/"
        }
      },
      "execution_count": 590,
      "outputs": [
        {
          "output_type": "execute_result",
          "data": {
            "text/plain": [
              "0       23579.922825\n",
              "1       23579.922825\n",
              "2       23579.922825\n",
              "3       23579.922825\n",
              "4       23579.922825\n",
              "            ...     \n",
              "7627    23579.922825\n",
              "7628    23579.922825\n",
              "7629    23579.922825\n",
              "7630    23579.922825\n",
              "7631    23579.922825\n",
              "Name: base_model, Length: 7632, dtype: float64"
            ]
          },
          "metadata": {},
          "execution_count": 590
        }
      ]
    },
    {
      "cell_type": "code",
      "source": [
        "y = df['price']\n",
        "price = pd.DataFrame(y)\n",
        "mean = y.mean()\n",
        "bs_pred = pd.DataFrame([mean] * len(y), columns = ['bs_pred'])\n",
        "\n",
        "bs = pd.concat([price, bs_pred], axis = 1)\n",
        "\n",
        "bs"
      ],
      "metadata": {
        "id": "OYqb4oJsAGwk",
        "outputId": "b393acf5-a1af-4263-f2b6-e43277b526ef",
        "colab": {
          "base_uri": "https://localhost:8080/",
          "height": 424
        }
      },
      "execution_count": 598,
      "outputs": [
        {
          "output_type": "execute_result",
          "data": {
            "text/plain": [
              "      price       bs_pred\n",
              "0     31995  23579.922825\n",
              "1      7700  23579.922825\n",
              "2     58990  23579.922825\n",
              "3     12999  23579.922825\n",
              "4     16990  23579.922825\n",
              "...     ...           ...\n",
              "7627  28990  23579.922825\n",
              "7628  17450  23579.922825\n",
              "7629  21995  23579.922825\n",
              "7630  18700  23579.922825\n",
              "7631   2999  23579.922825\n",
              "\n",
              "[7632 rows x 2 columns]"
            ],
            "text/html": [
              "\n",
              "  <div id=\"df-cea88698-c55d-4f7a-9d4e-fde03837ff35\">\n",
              "    <div class=\"colab-df-container\">\n",
              "      <div>\n",
              "<style scoped>\n",
              "    .dataframe tbody tr th:only-of-type {\n",
              "        vertical-align: middle;\n",
              "    }\n",
              "\n",
              "    .dataframe tbody tr th {\n",
              "        vertical-align: top;\n",
              "    }\n",
              "\n",
              "    .dataframe thead th {\n",
              "        text-align: right;\n",
              "    }\n",
              "</style>\n",
              "<table border=\"1\" class=\"dataframe\">\n",
              "  <thead>\n",
              "    <tr style=\"text-align: right;\">\n",
              "      <th></th>\n",
              "      <th>price</th>\n",
              "      <th>bs_pred</th>\n",
              "    </tr>\n",
              "  </thead>\n",
              "  <tbody>\n",
              "    <tr>\n",
              "      <th>0</th>\n",
              "      <td>31995</td>\n",
              "      <td>23579.922825</td>\n",
              "    </tr>\n",
              "    <tr>\n",
              "      <th>1</th>\n",
              "      <td>7700</td>\n",
              "      <td>23579.922825</td>\n",
              "    </tr>\n",
              "    <tr>\n",
              "      <th>2</th>\n",
              "      <td>58990</td>\n",
              "      <td>23579.922825</td>\n",
              "    </tr>\n",
              "    <tr>\n",
              "      <th>3</th>\n",
              "      <td>12999</td>\n",
              "      <td>23579.922825</td>\n",
              "    </tr>\n",
              "    <tr>\n",
              "      <th>4</th>\n",
              "      <td>16990</td>\n",
              "      <td>23579.922825</td>\n",
              "    </tr>\n",
              "    <tr>\n",
              "      <th>...</th>\n",
              "      <td>...</td>\n",
              "      <td>...</td>\n",
              "    </tr>\n",
              "    <tr>\n",
              "      <th>7627</th>\n",
              "      <td>28990</td>\n",
              "      <td>23579.922825</td>\n",
              "    </tr>\n",
              "    <tr>\n",
              "      <th>7628</th>\n",
              "      <td>17450</td>\n",
              "      <td>23579.922825</td>\n",
              "    </tr>\n",
              "    <tr>\n",
              "      <th>7629</th>\n",
              "      <td>21995</td>\n",
              "      <td>23579.922825</td>\n",
              "    </tr>\n",
              "    <tr>\n",
              "      <th>7630</th>\n",
              "      <td>18700</td>\n",
              "      <td>23579.922825</td>\n",
              "    </tr>\n",
              "    <tr>\n",
              "      <th>7631</th>\n",
              "      <td>2999</td>\n",
              "      <td>23579.922825</td>\n",
              "    </tr>\n",
              "  </tbody>\n",
              "</table>\n",
              "<p>7632 rows × 2 columns</p>\n",
              "</div>\n",
              "      <button class=\"colab-df-convert\" onclick=\"convertToInteractive('df-cea88698-c55d-4f7a-9d4e-fde03837ff35')\"\n",
              "              title=\"Convert this dataframe to an interactive table.\"\n",
              "              style=\"display:none;\">\n",
              "        \n",
              "  <svg xmlns=\"http://www.w3.org/2000/svg\" height=\"24px\"viewBox=\"0 0 24 24\"\n",
              "       width=\"24px\">\n",
              "    <path d=\"M0 0h24v24H0V0z\" fill=\"none\"/>\n",
              "    <path d=\"M18.56 5.44l.94 2.06.94-2.06 2.06-.94-2.06-.94-.94-2.06-.94 2.06-2.06.94zm-11 1L8.5 8.5l.94-2.06 2.06-.94-2.06-.94L8.5 2.5l-.94 2.06-2.06.94zm10 10l.94 2.06.94-2.06 2.06-.94-2.06-.94-.94-2.06-.94 2.06-2.06.94z\"/><path d=\"M17.41 7.96l-1.37-1.37c-.4-.4-.92-.59-1.43-.59-.52 0-1.04.2-1.43.59L10.3 9.45l-7.72 7.72c-.78.78-.78 2.05 0 2.83L4 21.41c.39.39.9.59 1.41.59.51 0 1.02-.2 1.41-.59l7.78-7.78 2.81-2.81c.8-.78.8-2.07 0-2.86zM5.41 20L4 18.59l7.72-7.72 1.47 1.35L5.41 20z\"/>\n",
              "  </svg>\n",
              "      </button>\n",
              "      \n",
              "  <style>\n",
              "    .colab-df-container {\n",
              "      display:flex;\n",
              "      flex-wrap:wrap;\n",
              "      gap: 12px;\n",
              "    }\n",
              "\n",
              "    .colab-df-convert {\n",
              "      background-color: #E8F0FE;\n",
              "      border: none;\n",
              "      border-radius: 50%;\n",
              "      cursor: pointer;\n",
              "      display: none;\n",
              "      fill: #1967D2;\n",
              "      height: 32px;\n",
              "      padding: 0 0 0 0;\n",
              "      width: 32px;\n",
              "    }\n",
              "\n",
              "    .colab-df-convert:hover {\n",
              "      background-color: #E2EBFA;\n",
              "      box-shadow: 0px 1px 2px rgba(60, 64, 67, 0.3), 0px 1px 3px 1px rgba(60, 64, 67, 0.15);\n",
              "      fill: #174EA6;\n",
              "    }\n",
              "\n",
              "    [theme=dark] .colab-df-convert {\n",
              "      background-color: #3B4455;\n",
              "      fill: #D2E3FC;\n",
              "    }\n",
              "\n",
              "    [theme=dark] .colab-df-convert:hover {\n",
              "      background-color: #434B5C;\n",
              "      box-shadow: 0px 1px 3px 1px rgba(0, 0, 0, 0.15);\n",
              "      filter: drop-shadow(0px 1px 2px rgba(0, 0, 0, 0.3));\n",
              "      fill: #FFFFFF;\n",
              "    }\n",
              "  </style>\n",
              "\n",
              "      <script>\n",
              "        const buttonEl =\n",
              "          document.querySelector('#df-cea88698-c55d-4f7a-9d4e-fde03837ff35 button.colab-df-convert');\n",
              "        buttonEl.style.display =\n",
              "          google.colab.kernel.accessAllowed ? 'block' : 'none';\n",
              "\n",
              "        async function convertToInteractive(key) {\n",
              "          const element = document.querySelector('#df-cea88698-c55d-4f7a-9d4e-fde03837ff35');\n",
              "          const dataTable =\n",
              "            await google.colab.kernel.invokeFunction('convertToInteractive',\n",
              "                                                     [key], {});\n",
              "          if (!dataTable) return;\n",
              "\n",
              "          const docLinkHtml = 'Like what you see? Visit the ' +\n",
              "            '<a target=\"_blank\" href=https://colab.research.google.com/notebooks/data_table.ipynb>data table notebook</a>'\n",
              "            + ' to learn more about interactive tables.';\n",
              "          element.innerHTML = '';\n",
              "          dataTable['output_type'] = 'display_data';\n",
              "          await google.colab.output.renderOutput(dataTable, element);\n",
              "          const docLink = document.createElement('div');\n",
              "          docLink.innerHTML = docLinkHtml;\n",
              "          element.appendChild(docLink);\n",
              "        }\n",
              "      </script>\n",
              "    </div>\n",
              "  </div>\n",
              "  "
            ]
          },
          "metadata": {},
          "execution_count": 598
        }
      ]
    },
    {
      "cell_type": "code",
      "source": [
        "base_model=pd.DataFrame(price['base_model'])"
      ],
      "metadata": {
        "id": "W3uYMOVZ_uZD"
      },
      "execution_count": 594,
      "outputs": []
    },
    {
      "cell_type": "code",
      "source": [
        "print('기준 모델의 R2 Score', r2_score(price, bs_pred))"
      ],
      "metadata": {
        "id": "y0EqYRUx-2JS",
        "outputId": "43737191-f9e5-4769-b5c2-6a6388b2a81b",
        "colab": {
          "base_uri": "https://localhost:8080/"
        }
      },
      "execution_count": 600,
      "outputs": [
        {
          "output_type": "stream",
          "name": "stdout",
          "text": [
            "기준 모델의 R2 Score 0.0\n"
          ]
        }
      ]
    },
    {
      "cell_type": "code",
      "source": [
        "price"
      ],
      "metadata": {
        "id": "YqMPl2E6--C2",
        "outputId": "4c770c91-de3e-4ce5-d463-697b39a6ca98",
        "colab": {
          "base_uri": "https://localhost:8080/",
          "height": 424
        }
      },
      "execution_count": 583,
      "outputs": [
        {
          "output_type": "execute_result",
          "data": {
            "text/plain": [
              "      price    base_model\n",
              "0     31995  23579.922825\n",
              "1      7700  23579.922825\n",
              "2     58990  23579.922825\n",
              "3     12999  23579.922825\n",
              "4     16990  23579.922825\n",
              "...     ...           ...\n",
              "7627  28990  23579.922825\n",
              "7628  17450  23579.922825\n",
              "7629  21995  23579.922825\n",
              "7630  18700  23579.922825\n",
              "7631   2999  23579.922825\n",
              "\n",
              "[7632 rows x 2 columns]"
            ],
            "text/html": [
              "\n",
              "  <div id=\"df-4793c94b-201f-4fa5-85b5-b9b334172df2\">\n",
              "    <div class=\"colab-df-container\">\n",
              "      <div>\n",
              "<style scoped>\n",
              "    .dataframe tbody tr th:only-of-type {\n",
              "        vertical-align: middle;\n",
              "    }\n",
              "\n",
              "    .dataframe tbody tr th {\n",
              "        vertical-align: top;\n",
              "    }\n",
              "\n",
              "    .dataframe thead th {\n",
              "        text-align: right;\n",
              "    }\n",
              "</style>\n",
              "<table border=\"1\" class=\"dataframe\">\n",
              "  <thead>\n",
              "    <tr style=\"text-align: right;\">\n",
              "      <th></th>\n",
              "      <th>price</th>\n",
              "      <th>base_model</th>\n",
              "    </tr>\n",
              "  </thead>\n",
              "  <tbody>\n",
              "    <tr>\n",
              "      <th>0</th>\n",
              "      <td>31995</td>\n",
              "      <td>23579.922825</td>\n",
              "    </tr>\n",
              "    <tr>\n",
              "      <th>1</th>\n",
              "      <td>7700</td>\n",
              "      <td>23579.922825</td>\n",
              "    </tr>\n",
              "    <tr>\n",
              "      <th>2</th>\n",
              "      <td>58990</td>\n",
              "      <td>23579.922825</td>\n",
              "    </tr>\n",
              "    <tr>\n",
              "      <th>3</th>\n",
              "      <td>12999</td>\n",
              "      <td>23579.922825</td>\n",
              "    </tr>\n",
              "    <tr>\n",
              "      <th>4</th>\n",
              "      <td>16990</td>\n",
              "      <td>23579.922825</td>\n",
              "    </tr>\n",
              "    <tr>\n",
              "      <th>...</th>\n",
              "      <td>...</td>\n",
              "      <td>...</td>\n",
              "    </tr>\n",
              "    <tr>\n",
              "      <th>7627</th>\n",
              "      <td>28990</td>\n",
              "      <td>23579.922825</td>\n",
              "    </tr>\n",
              "    <tr>\n",
              "      <th>7628</th>\n",
              "      <td>17450</td>\n",
              "      <td>23579.922825</td>\n",
              "    </tr>\n",
              "    <tr>\n",
              "      <th>7629</th>\n",
              "      <td>21995</td>\n",
              "      <td>23579.922825</td>\n",
              "    </tr>\n",
              "    <tr>\n",
              "      <th>7630</th>\n",
              "      <td>18700</td>\n",
              "      <td>23579.922825</td>\n",
              "    </tr>\n",
              "    <tr>\n",
              "      <th>7631</th>\n",
              "      <td>2999</td>\n",
              "      <td>23579.922825</td>\n",
              "    </tr>\n",
              "  </tbody>\n",
              "</table>\n",
              "<p>7632 rows × 2 columns</p>\n",
              "</div>\n",
              "      <button class=\"colab-df-convert\" onclick=\"convertToInteractive('df-4793c94b-201f-4fa5-85b5-b9b334172df2')\"\n",
              "              title=\"Convert this dataframe to an interactive table.\"\n",
              "              style=\"display:none;\">\n",
              "        \n",
              "  <svg xmlns=\"http://www.w3.org/2000/svg\" height=\"24px\"viewBox=\"0 0 24 24\"\n",
              "       width=\"24px\">\n",
              "    <path d=\"M0 0h24v24H0V0z\" fill=\"none\"/>\n",
              "    <path d=\"M18.56 5.44l.94 2.06.94-2.06 2.06-.94-2.06-.94-.94-2.06-.94 2.06-2.06.94zm-11 1L8.5 8.5l.94-2.06 2.06-.94-2.06-.94L8.5 2.5l-.94 2.06-2.06.94zm10 10l.94 2.06.94-2.06 2.06-.94-2.06-.94-.94-2.06-.94 2.06-2.06.94z\"/><path d=\"M17.41 7.96l-1.37-1.37c-.4-.4-.92-.59-1.43-.59-.52 0-1.04.2-1.43.59L10.3 9.45l-7.72 7.72c-.78.78-.78 2.05 0 2.83L4 21.41c.39.39.9.59 1.41.59.51 0 1.02-.2 1.41-.59l7.78-7.78 2.81-2.81c.8-.78.8-2.07 0-2.86zM5.41 20L4 18.59l7.72-7.72 1.47 1.35L5.41 20z\"/>\n",
              "  </svg>\n",
              "      </button>\n",
              "      \n",
              "  <style>\n",
              "    .colab-df-container {\n",
              "      display:flex;\n",
              "      flex-wrap:wrap;\n",
              "      gap: 12px;\n",
              "    }\n",
              "\n",
              "    .colab-df-convert {\n",
              "      background-color: #E8F0FE;\n",
              "      border: none;\n",
              "      border-radius: 50%;\n",
              "      cursor: pointer;\n",
              "      display: none;\n",
              "      fill: #1967D2;\n",
              "      height: 32px;\n",
              "      padding: 0 0 0 0;\n",
              "      width: 32px;\n",
              "    }\n",
              "\n",
              "    .colab-df-convert:hover {\n",
              "      background-color: #E2EBFA;\n",
              "      box-shadow: 0px 1px 2px rgba(60, 64, 67, 0.3), 0px 1px 3px 1px rgba(60, 64, 67, 0.15);\n",
              "      fill: #174EA6;\n",
              "    }\n",
              "\n",
              "    [theme=dark] .colab-df-convert {\n",
              "      background-color: #3B4455;\n",
              "      fill: #D2E3FC;\n",
              "    }\n",
              "\n",
              "    [theme=dark] .colab-df-convert:hover {\n",
              "      background-color: #434B5C;\n",
              "      box-shadow: 0px 1px 3px 1px rgba(0, 0, 0, 0.15);\n",
              "      filter: drop-shadow(0px 1px 2px rgba(0, 0, 0, 0.3));\n",
              "      fill: #FFFFFF;\n",
              "    }\n",
              "  </style>\n",
              "\n",
              "      <script>\n",
              "        const buttonEl =\n",
              "          document.querySelector('#df-4793c94b-201f-4fa5-85b5-b9b334172df2 button.colab-df-convert');\n",
              "        buttonEl.style.display =\n",
              "          google.colab.kernel.accessAllowed ? 'block' : 'none';\n",
              "\n",
              "        async function convertToInteractive(key) {\n",
              "          const element = document.querySelector('#df-4793c94b-201f-4fa5-85b5-b9b334172df2');\n",
              "          const dataTable =\n",
              "            await google.colab.kernel.invokeFunction('convertToInteractive',\n",
              "                                                     [key], {});\n",
              "          if (!dataTable) return;\n",
              "\n",
              "          const docLinkHtml = 'Like what you see? Visit the ' +\n",
              "            '<a target=\"_blank\" href=https://colab.research.google.com/notebooks/data_table.ipynb>data table notebook</a>'\n",
              "            + ' to learn more about interactive tables.';\n",
              "          element.innerHTML = '';\n",
              "          dataTable['output_type'] = 'display_data';\n",
              "          await google.colab.output.renderOutput(dataTable, element);\n",
              "          const docLink = document.createElement('div');\n",
              "          docLink.innerHTML = docLinkHtml;\n",
              "          element.appendChild(docLink);\n",
              "        }\n",
              "      </script>\n",
              "    </div>\n",
              "  </div>\n",
              "  "
            ]
          },
          "metadata": {},
          "execution_count": 583
        }
      ]
    },
    {
      "cell_type": "code",
      "source": [
        "errors"
      ],
      "metadata": {
        "colab": {
          "base_uri": "https://localhost:8080/"
        },
        "id": "6iB8t_5eOnCq",
        "outputId": "e755890a-32ea-46a0-8f37-f159b54d1b7b"
      },
      "execution_count": 541,
      "outputs": [
        {
          "output_type": "execute_result",
          "data": {
            "text/plain": [
              "0       -8415.077175\n",
              "1       15879.922825\n",
              "2      -35410.077175\n",
              "3       10580.922825\n",
              "4        6589.922825\n",
              "            ...     \n",
              "7627    -5410.077175\n",
              "7628     6129.922825\n",
              "7629     1584.922825\n",
              "7630     4879.922825\n",
              "7631    20580.922825\n",
              "Name: price, Length: 7632, dtype: float64"
            ]
          },
          "metadata": {},
          "execution_count": 541
        }
      ]
    },
    {
      "cell_type": "code",
      "source": [
        "mean_absolute_error = errors.abs().mean()"
      ],
      "metadata": {
        "id": "_ejcmPi8OnAq"
      },
      "execution_count": 545,
      "outputs": []
    },
    {
      "cell_type": "code",
      "source": [
        "print(r2_score(df['price'].mean(),df['price']))"
      ],
      "metadata": {
        "colab": {
          "base_uri": "https://localhost:8080/",
          "height": 319
        },
        "id": "ysq-xowAOm7k",
        "outputId": "98b0330a-b20e-45c6-95c4-62cbfa2c090c"
      },
      "execution_count": 571,
      "outputs": [
        {
          "output_type": "error",
          "ename": "TypeError",
          "evalue": "ignored",
          "traceback": [
            "\u001b[0;31m---------------------------------------------------------------------------\u001b[0m",
            "\u001b[0;31mTypeError\u001b[0m                                 Traceback (most recent call last)",
            "\u001b[0;32m<ipython-input-571-950d27028225>\u001b[0m in \u001b[0;36m<module>\u001b[0;34m\u001b[0m\n\u001b[0;32m----> 1\u001b[0;31m \u001b[0mprint\u001b[0m\u001b[0;34m(\u001b[0m\u001b[0mr2_score\u001b[0m\u001b[0;34m(\u001b[0m\u001b[0mdf\u001b[0m\u001b[0;34m[\u001b[0m\u001b[0;34m'price'\u001b[0m\u001b[0;34m]\u001b[0m\u001b[0;34m.\u001b[0m\u001b[0mmean\u001b[0m\u001b[0;34m(\u001b[0m\u001b[0;34m)\u001b[0m\u001b[0;34m,\u001b[0m\u001b[0mdf\u001b[0m\u001b[0;34m[\u001b[0m\u001b[0;34m'price'\u001b[0m\u001b[0;34m]\u001b[0m\u001b[0;34m)\u001b[0m\u001b[0;34m)\u001b[0m\u001b[0;34m\u001b[0m\u001b[0;34m\u001b[0m\u001b[0m\n\u001b[0m",
            "\u001b[0;32m/usr/local/lib/python3.7/dist-packages/sklearn/metrics/_regression.py\u001b[0m in \u001b[0;36mr2_score\u001b[0;34m(y_true, y_pred, sample_weight, multioutput)\u001b[0m\n\u001b[1;32m    788\u001b[0m     \"\"\"\n\u001b[1;32m    789\u001b[0m     y_type, y_true, y_pred, multioutput = _check_reg_targets(\n\u001b[0;32m--> 790\u001b[0;31m         \u001b[0my_true\u001b[0m\u001b[0;34m,\u001b[0m \u001b[0my_pred\u001b[0m\u001b[0;34m,\u001b[0m \u001b[0mmultioutput\u001b[0m\u001b[0;34m\u001b[0m\u001b[0;34m\u001b[0m\u001b[0m\n\u001b[0m\u001b[1;32m    791\u001b[0m     )\n\u001b[1;32m    792\u001b[0m     \u001b[0mcheck_consistent_length\u001b[0m\u001b[0;34m(\u001b[0m\u001b[0my_true\u001b[0m\u001b[0;34m,\u001b[0m \u001b[0my_pred\u001b[0m\u001b[0;34m,\u001b[0m \u001b[0msample_weight\u001b[0m\u001b[0;34m)\u001b[0m\u001b[0;34m\u001b[0m\u001b[0;34m\u001b[0m\u001b[0m\n",
            "\u001b[0;32m/usr/local/lib/python3.7/dist-packages/sklearn/metrics/_regression.py\u001b[0m in \u001b[0;36m_check_reg_targets\u001b[0;34m(y_true, y_pred, multioutput, dtype)\u001b[0m\n\u001b[1;32m     92\u001b[0m         \u001b[0mthe\u001b[0m \u001b[0mdtype\u001b[0m \u001b[0margument\u001b[0m \u001b[0mpassed\u001b[0m \u001b[0mto\u001b[0m \u001b[0mcheck_array\u001b[0m\u001b[0;34m.\u001b[0m\u001b[0;34m\u001b[0m\u001b[0;34m\u001b[0m\u001b[0m\n\u001b[1;32m     93\u001b[0m     \"\"\"\n\u001b[0;32m---> 94\u001b[0;31m     \u001b[0mcheck_consistent_length\u001b[0m\u001b[0;34m(\u001b[0m\u001b[0my_true\u001b[0m\u001b[0;34m,\u001b[0m \u001b[0my_pred\u001b[0m\u001b[0;34m)\u001b[0m\u001b[0;34m\u001b[0m\u001b[0;34m\u001b[0m\u001b[0m\n\u001b[0m\u001b[1;32m     95\u001b[0m     \u001b[0my_true\u001b[0m \u001b[0;34m=\u001b[0m \u001b[0mcheck_array\u001b[0m\u001b[0;34m(\u001b[0m\u001b[0my_true\u001b[0m\u001b[0;34m,\u001b[0m \u001b[0mensure_2d\u001b[0m\u001b[0;34m=\u001b[0m\u001b[0;32mFalse\u001b[0m\u001b[0;34m,\u001b[0m \u001b[0mdtype\u001b[0m\u001b[0;34m=\u001b[0m\u001b[0mdtype\u001b[0m\u001b[0;34m)\u001b[0m\u001b[0;34m\u001b[0m\u001b[0;34m\u001b[0m\u001b[0m\n\u001b[1;32m     96\u001b[0m     \u001b[0my_pred\u001b[0m \u001b[0;34m=\u001b[0m \u001b[0mcheck_array\u001b[0m\u001b[0;34m(\u001b[0m\u001b[0my_pred\u001b[0m\u001b[0;34m,\u001b[0m \u001b[0mensure_2d\u001b[0m\u001b[0;34m=\u001b[0m\u001b[0;32mFalse\u001b[0m\u001b[0;34m,\u001b[0m \u001b[0mdtype\u001b[0m\u001b[0;34m=\u001b[0m\u001b[0mdtype\u001b[0m\u001b[0;34m)\u001b[0m\u001b[0;34m\u001b[0m\u001b[0;34m\u001b[0m\u001b[0m\n",
            "\u001b[0;32m/usr/local/lib/python3.7/dist-packages/sklearn/utils/validation.py\u001b[0m in \u001b[0;36mcheck_consistent_length\u001b[0;34m(*arrays)\u001b[0m\n\u001b[1;32m    327\u001b[0m     \"\"\"\n\u001b[1;32m    328\u001b[0m \u001b[0;34m\u001b[0m\u001b[0m\n\u001b[0;32m--> 329\u001b[0;31m     \u001b[0mlengths\u001b[0m \u001b[0;34m=\u001b[0m \u001b[0;34m[\u001b[0m\u001b[0m_num_samples\u001b[0m\u001b[0;34m(\u001b[0m\u001b[0mX\u001b[0m\u001b[0;34m)\u001b[0m \u001b[0;32mfor\u001b[0m \u001b[0mX\u001b[0m \u001b[0;32min\u001b[0m \u001b[0marrays\u001b[0m \u001b[0;32mif\u001b[0m \u001b[0mX\u001b[0m \u001b[0;32mis\u001b[0m \u001b[0;32mnot\u001b[0m \u001b[0;32mNone\u001b[0m\u001b[0;34m]\u001b[0m\u001b[0;34m\u001b[0m\u001b[0;34m\u001b[0m\u001b[0m\n\u001b[0m\u001b[1;32m    330\u001b[0m     \u001b[0muniques\u001b[0m \u001b[0;34m=\u001b[0m \u001b[0mnp\u001b[0m\u001b[0;34m.\u001b[0m\u001b[0munique\u001b[0m\u001b[0;34m(\u001b[0m\u001b[0mlengths\u001b[0m\u001b[0;34m)\u001b[0m\u001b[0;34m\u001b[0m\u001b[0;34m\u001b[0m\u001b[0m\n\u001b[1;32m    331\u001b[0m     \u001b[0;32mif\u001b[0m \u001b[0mlen\u001b[0m\u001b[0;34m(\u001b[0m\u001b[0muniques\u001b[0m\u001b[0;34m)\u001b[0m \u001b[0;34m>\u001b[0m \u001b[0;36m1\u001b[0m\u001b[0;34m:\u001b[0m\u001b[0;34m\u001b[0m\u001b[0;34m\u001b[0m\u001b[0m\n",
            "\u001b[0;32m/usr/local/lib/python3.7/dist-packages/sklearn/utils/validation.py\u001b[0m in \u001b[0;36m<listcomp>\u001b[0;34m(.0)\u001b[0m\n\u001b[1;32m    327\u001b[0m     \"\"\"\n\u001b[1;32m    328\u001b[0m \u001b[0;34m\u001b[0m\u001b[0m\n\u001b[0;32m--> 329\u001b[0;31m     \u001b[0mlengths\u001b[0m \u001b[0;34m=\u001b[0m \u001b[0;34m[\u001b[0m\u001b[0m_num_samples\u001b[0m\u001b[0;34m(\u001b[0m\u001b[0mX\u001b[0m\u001b[0;34m)\u001b[0m \u001b[0;32mfor\u001b[0m \u001b[0mX\u001b[0m \u001b[0;32min\u001b[0m \u001b[0marrays\u001b[0m \u001b[0;32mif\u001b[0m \u001b[0mX\u001b[0m \u001b[0;32mis\u001b[0m \u001b[0;32mnot\u001b[0m \u001b[0;32mNone\u001b[0m\u001b[0;34m]\u001b[0m\u001b[0;34m\u001b[0m\u001b[0;34m\u001b[0m\u001b[0m\n\u001b[0m\u001b[1;32m    330\u001b[0m     \u001b[0muniques\u001b[0m \u001b[0;34m=\u001b[0m \u001b[0mnp\u001b[0m\u001b[0;34m.\u001b[0m\u001b[0munique\u001b[0m\u001b[0;34m(\u001b[0m\u001b[0mlengths\u001b[0m\u001b[0;34m)\u001b[0m\u001b[0;34m\u001b[0m\u001b[0;34m\u001b[0m\u001b[0m\n\u001b[1;32m    331\u001b[0m     \u001b[0;32mif\u001b[0m \u001b[0mlen\u001b[0m\u001b[0;34m(\u001b[0m\u001b[0muniques\u001b[0m\u001b[0;34m)\u001b[0m \u001b[0;34m>\u001b[0m \u001b[0;36m1\u001b[0m\u001b[0;34m:\u001b[0m\u001b[0;34m\u001b[0m\u001b[0;34m\u001b[0m\u001b[0m\n",
            "\u001b[0;32m/usr/local/lib/python3.7/dist-packages/sklearn/utils/validation.py\u001b[0m in \u001b[0;36m_num_samples\u001b[0;34m(x)\u001b[0m\n\u001b[1;32m    268\u001b[0m         \u001b[0;32mif\u001b[0m \u001b[0mlen\u001b[0m\u001b[0;34m(\u001b[0m\u001b[0mx\u001b[0m\u001b[0;34m.\u001b[0m\u001b[0mshape\u001b[0m\u001b[0;34m)\u001b[0m \u001b[0;34m==\u001b[0m \u001b[0;36m0\u001b[0m\u001b[0;34m:\u001b[0m\u001b[0;34m\u001b[0m\u001b[0;34m\u001b[0m\u001b[0m\n\u001b[1;32m    269\u001b[0m             raise TypeError(\n\u001b[0;32m--> 270\u001b[0;31m                 \u001b[0;34m\"Singleton array %r cannot be considered a valid collection.\"\u001b[0m \u001b[0;34m%\u001b[0m \u001b[0mx\u001b[0m\u001b[0;34m\u001b[0m\u001b[0;34m\u001b[0m\u001b[0m\n\u001b[0m\u001b[1;32m    271\u001b[0m             )\n\u001b[1;32m    272\u001b[0m         \u001b[0;31m# Check that shape is returning an integer or default to len\u001b[0m\u001b[0;34m\u001b[0m\u001b[0;34m\u001b[0m\u001b[0;34m\u001b[0m\u001b[0m\n",
            "\u001b[0;31mTypeError\u001b[0m: Singleton array 23579.92282494759 cannot be considered a valid collection."
          ]
        }
      ]
    },
    {
      "cell_type": "code",
      "source": [
        ""
      ],
      "metadata": {
        "id": "Fdfv63ybOl60"
      },
      "execution_count": null,
      "outputs": []
    }
  ],
  "metadata": {
    "kernelspec": {
      "display_name": "Python 3.8.13 ('project')",
      "language": "python",
      "name": "python3"
    },
    "language_info": {
      "name": "python",
      "version": "3.8.13"
    },
    "orig_nbformat": 4,
    "vscode": {
      "interpreter": {
        "hash": "44d57017c1b6173835ff1040695944a179f6a80f9366fbedbcc22755c53915b4"
      }
    },
    "colab": {
      "name": "분류모델.ipynb",
      "provenance": [],
      "include_colab_link": true
    },
    "gpuClass": "standard"
  },
  "nbformat": 4,
  "nbformat_minor": 0
}