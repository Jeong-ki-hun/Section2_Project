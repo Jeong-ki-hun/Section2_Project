{
  "cells": [
    {
      "cell_type": "markdown",
      "metadata": {
        "id": "view-in-github",
        "colab_type": "text"
      },
      "source": [
        "<a href=\"https://colab.research.google.com/github/Jeong-ki-hun/Section2_Project/blob/main/%08AI_11_%EC%A0%95%EA%B8%B0%ED%9B%88(Section2_Project).ipynb\" target=\"_parent\"><img src=\"https://colab.research.google.com/assets/colab-badge.svg\" alt=\"Open In Colab\"/></a>"
      ]
    },
    {
      "cell_type": "code",
      "source": [
        "!pip install category_encoders\n",
        "!pip install shap\n",
        "!pip install pandas_profiling\n",
        "!pip install eli5\n",
        "!pip install pdpbox\n",
        "!pip install matplotlib.pyplot"
      ],
      "metadata": {
        "colab": {
          "base_uri": "https://localhost:8080/"
        },
        "id": "ZQYWQ35vcTyb",
        "outputId": "f5b59d1c-be79-4756-ccdc-73e91a5d3299"
      },
      "execution_count": 52,
      "outputs": [
        {
          "output_type": "stream",
          "name": "stdout",
          "text": [
            "Looking in indexes: https://pypi.org/simple, https://us-python.pkg.dev/colab-wheels/public/simple/\n",
            "Requirement already satisfied: category_encoders in /usr/local/lib/python3.7/dist-packages (2.5.0)\n",
            "Requirement already satisfied: pandas>=1.0.5 in /usr/local/lib/python3.7/dist-packages (from category_encoders) (1.3.5)\n",
            "Requirement already satisfied: scipy>=1.0.0 in /usr/local/lib/python3.7/dist-packages (from category_encoders) (1.7.3)\n",
            "Requirement already satisfied: patsy>=0.5.1 in /usr/local/lib/python3.7/dist-packages (from category_encoders) (0.5.2)\n",
            "Requirement already satisfied: scikit-learn>=0.20.0 in /usr/local/lib/python3.7/dist-packages (from category_encoders) (1.0.2)\n",
            "Requirement already satisfied: numpy>=1.14.0 in /usr/local/lib/python3.7/dist-packages (from category_encoders) (1.21.6)\n",
            "Requirement already satisfied: statsmodels>=0.9.0 in /usr/local/lib/python3.7/dist-packages (from category_encoders) (0.10.2)\n",
            "Requirement already satisfied: python-dateutil>=2.7.3 in /usr/local/lib/python3.7/dist-packages (from pandas>=1.0.5->category_encoders) (2.8.2)\n",
            "Requirement already satisfied: pytz>=2017.3 in /usr/local/lib/python3.7/dist-packages (from pandas>=1.0.5->category_encoders) (2022.2)\n",
            "Requirement already satisfied: six in /usr/local/lib/python3.7/dist-packages (from patsy>=0.5.1->category_encoders) (1.15.0)\n",
            "Requirement already satisfied: joblib>=0.11 in /usr/local/lib/python3.7/dist-packages (from scikit-learn>=0.20.0->category_encoders) (1.1.0)\n",
            "Requirement already satisfied: threadpoolctl>=2.0.0 in /usr/local/lib/python3.7/dist-packages (from scikit-learn>=0.20.0->category_encoders) (3.1.0)\n",
            "Looking in indexes: https://pypi.org/simple, https://us-python.pkg.dev/colab-wheels/public/simple/\n",
            "Requirement already satisfied: shap in /usr/local/lib/python3.7/dist-packages (0.41.0)\n",
            "Requirement already satisfied: numpy in /usr/local/lib/python3.7/dist-packages (from shap) (1.21.6)\n",
            "Requirement already satisfied: numba in /usr/local/lib/python3.7/dist-packages (from shap) (0.56.0)\n",
            "Requirement already satisfied: tqdm>4.25.0 in /usr/local/lib/python3.7/dist-packages (from shap) (4.64.0)\n",
            "Requirement already satisfied: packaging>20.9 in /usr/local/lib/python3.7/dist-packages (from shap) (21.3)\n",
            "Requirement already satisfied: scikit-learn in /usr/local/lib/python3.7/dist-packages (from shap) (1.0.2)\n",
            "Requirement already satisfied: scipy in /usr/local/lib/python3.7/dist-packages (from shap) (1.7.3)\n",
            "Requirement already satisfied: slicer==0.0.7 in /usr/local/lib/python3.7/dist-packages (from shap) (0.0.7)\n",
            "Requirement already satisfied: pandas in /usr/local/lib/python3.7/dist-packages (from shap) (1.3.5)\n",
            "Requirement already satisfied: cloudpickle in /usr/local/lib/python3.7/dist-packages (from shap) (1.3.0)\n",
            "Requirement already satisfied: pyparsing!=3.0.5,>=2.0.2 in /usr/local/lib/python3.7/dist-packages (from packaging>20.9->shap) (3.0.9)\n",
            "Requirement already satisfied: setuptools in /usr/local/lib/python3.7/dist-packages (from numba->shap) (57.4.0)\n",
            "Requirement already satisfied: importlib-metadata in /usr/local/lib/python3.7/dist-packages (from numba->shap) (4.12.0)\n",
            "Requirement already satisfied: llvmlite<0.40,>=0.39.0dev0 in /usr/local/lib/python3.7/dist-packages (from numba->shap) (0.39.0)\n",
            "Requirement already satisfied: typing-extensions>=3.6.4 in /usr/local/lib/python3.7/dist-packages (from importlib-metadata->numba->shap) (4.1.1)\n",
            "Requirement already satisfied: zipp>=0.5 in /usr/local/lib/python3.7/dist-packages (from importlib-metadata->numba->shap) (3.8.1)\n",
            "Requirement already satisfied: pytz>=2017.3 in /usr/local/lib/python3.7/dist-packages (from pandas->shap) (2022.2)\n",
            "Requirement already satisfied: python-dateutil>=2.7.3 in /usr/local/lib/python3.7/dist-packages (from pandas->shap) (2.8.2)\n",
            "Requirement already satisfied: six>=1.5 in /usr/local/lib/python3.7/dist-packages (from python-dateutil>=2.7.3->pandas->shap) (1.15.0)\n",
            "Requirement already satisfied: joblib>=0.11 in /usr/local/lib/python3.7/dist-packages (from scikit-learn->shap) (1.1.0)\n",
            "Requirement already satisfied: threadpoolctl>=2.0.0 in /usr/local/lib/python3.7/dist-packages (from scikit-learn->shap) (3.1.0)\n",
            "Looking in indexes: https://pypi.org/simple, https://us-python.pkg.dev/colab-wheels/public/simple/\n",
            "Requirement already satisfied: pandas_profiling in /usr/local/lib/python3.7/dist-packages (1.4.1)\n",
            "Requirement already satisfied: matplotlib>=1.4 in /usr/local/lib/python3.7/dist-packages (from pandas_profiling) (3.1.1)\n",
            "Requirement already satisfied: jinja2>=2.8 in /usr/local/lib/python3.7/dist-packages (from pandas_profiling) (3.1.2)\n",
            "Requirement already satisfied: pandas>=0.19 in /usr/local/lib/python3.7/dist-packages (from pandas_profiling) (1.3.5)\n",
            "Requirement already satisfied: six>=1.9 in /usr/local/lib/python3.7/dist-packages (from pandas_profiling) (1.15.0)\n",
            "Requirement already satisfied: MarkupSafe>=2.0 in /usr/local/lib/python3.7/dist-packages (from jinja2>=2.8->pandas_profiling) (2.0.1)\n",
            "Requirement already satisfied: numpy>=1.11 in /usr/local/lib/python3.7/dist-packages (from matplotlib>=1.4->pandas_profiling) (1.21.6)\n",
            "Requirement already satisfied: python-dateutil>=2.1 in /usr/local/lib/python3.7/dist-packages (from matplotlib>=1.4->pandas_profiling) (2.8.2)\n",
            "Requirement already satisfied: cycler>=0.10 in /usr/local/lib/python3.7/dist-packages (from matplotlib>=1.4->pandas_profiling) (0.11.0)\n",
            "Requirement already satisfied: pyparsing!=2.0.4,!=2.1.2,!=2.1.6,>=2.0.1 in /usr/local/lib/python3.7/dist-packages (from matplotlib>=1.4->pandas_profiling) (3.0.9)\n",
            "Requirement already satisfied: kiwisolver>=1.0.1 in /usr/local/lib/python3.7/dist-packages (from matplotlib>=1.4->pandas_profiling) (1.4.4)\n",
            "Requirement already satisfied: typing-extensions in /usr/local/lib/python3.7/dist-packages (from kiwisolver>=1.0.1->matplotlib>=1.4->pandas_profiling) (4.1.1)\n",
            "Requirement already satisfied: pytz>=2017.3 in /usr/local/lib/python3.7/dist-packages (from pandas>=0.19->pandas_profiling) (2022.2)\n",
            "Looking in indexes: https://pypi.org/simple, https://us-python.pkg.dev/colab-wheels/public/simple/\n",
            "Requirement already satisfied: eli5 in /usr/local/lib/python3.7/dist-packages (0.13.0)\n",
            "Requirement already satisfied: six in /usr/local/lib/python3.7/dist-packages (from eli5) (1.15.0)\n",
            "Requirement already satisfied: attrs>17.1.0 in /usr/local/lib/python3.7/dist-packages (from eli5) (22.1.0)\n",
            "Requirement already satisfied: numpy>=1.9.0 in /usr/local/lib/python3.7/dist-packages (from eli5) (1.21.6)\n",
            "Requirement already satisfied: jinja2>=3.0.0 in /usr/local/lib/python3.7/dist-packages (from eli5) (3.1.2)\n",
            "Requirement already satisfied: scikit-learn>=0.20 in /usr/local/lib/python3.7/dist-packages (from eli5) (1.0.2)\n",
            "Requirement already satisfied: graphviz in /usr/local/lib/python3.7/dist-packages (from eli5) (0.10.1)\n",
            "Requirement already satisfied: tabulate>=0.7.7 in /usr/local/lib/python3.7/dist-packages (from eli5) (0.8.10)\n",
            "Requirement already satisfied: scipy in /usr/local/lib/python3.7/dist-packages (from eli5) (1.7.3)\n",
            "Requirement already satisfied: MarkupSafe>=2.0 in /usr/local/lib/python3.7/dist-packages (from jinja2>=3.0.0->eli5) (2.0.1)\n",
            "Requirement already satisfied: joblib>=0.11 in /usr/local/lib/python3.7/dist-packages (from scikit-learn>=0.20->eli5) (1.1.0)\n",
            "Requirement already satisfied: threadpoolctl>=2.0.0 in /usr/local/lib/python3.7/dist-packages (from scikit-learn>=0.20->eli5) (3.1.0)\n",
            "Looking in indexes: https://pypi.org/simple, https://us-python.pkg.dev/colab-wheels/public/simple/\n",
            "Requirement already satisfied: pdpbox in /usr/local/lib/python3.7/dist-packages (0.2.1)\n",
            "Requirement already satisfied: scipy in /usr/local/lib/python3.7/dist-packages (from pdpbox) (1.7.3)\n",
            "Requirement already satisfied: matplotlib==3.1.1 in /usr/local/lib/python3.7/dist-packages (from pdpbox) (3.1.1)\n",
            "Requirement already satisfied: joblib in /usr/local/lib/python3.7/dist-packages (from pdpbox) (1.1.0)\n",
            "Requirement already satisfied: sklearn in /usr/local/lib/python3.7/dist-packages (from pdpbox) (0.0)\n",
            "Requirement already satisfied: pandas in /usr/local/lib/python3.7/dist-packages (from pdpbox) (1.3.5)\n",
            "Requirement already satisfied: psutil in /usr/local/lib/python3.7/dist-packages (from pdpbox) (5.4.8)\n",
            "Requirement already satisfied: numpy in /usr/local/lib/python3.7/dist-packages (from pdpbox) (1.21.6)\n",
            "Requirement already satisfied: cycler>=0.10 in /usr/local/lib/python3.7/dist-packages (from matplotlib==3.1.1->pdpbox) (0.11.0)\n",
            "Requirement already satisfied: kiwisolver>=1.0.1 in /usr/local/lib/python3.7/dist-packages (from matplotlib==3.1.1->pdpbox) (1.4.4)\n",
            "Requirement already satisfied: python-dateutil>=2.1 in /usr/local/lib/python3.7/dist-packages (from matplotlib==3.1.1->pdpbox) (2.8.2)\n",
            "Requirement already satisfied: pyparsing!=2.0.4,!=2.1.2,!=2.1.6,>=2.0.1 in /usr/local/lib/python3.7/dist-packages (from matplotlib==3.1.1->pdpbox) (3.0.9)\n",
            "Requirement already satisfied: typing-extensions in /usr/local/lib/python3.7/dist-packages (from kiwisolver>=1.0.1->matplotlib==3.1.1->pdpbox) (4.1.1)\n",
            "Requirement already satisfied: six>=1.5 in /usr/local/lib/python3.7/dist-packages (from python-dateutil>=2.1->matplotlib==3.1.1->pdpbox) (1.15.0)\n",
            "Requirement already satisfied: pytz>=2017.3 in /usr/local/lib/python3.7/dist-packages (from pandas->pdpbox) (2022.2)\n",
            "Requirement already satisfied: scikit-learn in /usr/local/lib/python3.7/dist-packages (from sklearn->pdpbox) (1.0.2)\n",
            "Requirement already satisfied: threadpoolctl>=2.0.0 in /usr/local/lib/python3.7/dist-packages (from scikit-learn->sklearn->pdpbox) (3.1.0)\n",
            "Looking in indexes: https://pypi.org/simple, https://us-python.pkg.dev/colab-wheels/public/simple/\n",
            "\u001b[31mERROR: Could not find a version that satisfies the requirement matplotlib.pyplot (from versions: none)\u001b[0m\n",
            "\u001b[31mERROR: No matching distribution found for matplotlib.pyplot\u001b[0m\n"
          ]
        }
      ]
    },
    {
      "cell_type": "markdown",
      "source": [
        "# 라이브러리 호출"
      ],
      "metadata": {
        "id": "evMTWrZ2GOeX"
      }
    },
    {
      "cell_type": "code",
      "execution_count": 53,
      "metadata": {
        "id": "437nQj7McNkQ"
      },
      "outputs": [],
      "source": [
        "import pandas as pd\n",
        "import numpy as np\n",
        "import seaborn as sns\n",
        "import matplotlib.pyplot as plt\n",
        "%matplotlib inline\n",
        "plt.style.use('ggplot')\n",
        "plt.rc('font', family='NanumBarunGothic') \n",
        "sns.set_style(\"whitegrid\")\n",
        "\n",
        "from sklearn.model_selection import train_test_split\n",
        "from sklearn.model_selection import RandomizedSearchCV\n",
        "from sklearn.preprocessing import LabelEncoder\n",
        "from sklearn.linear_model import Ridge, Lasso, ElasticNet\n",
        "from sklearn.ensemble import RandomForestRegressor\n",
        "from sklearn.tree import DecisionTreeRegressor\n",
        "from sklearn.metrics import r2_score\n",
        "from sklearn.model_selection import RandomizedSearchCV\n",
        "from category_encoders import OrdinalEncoder, OneHotEncoder\n",
        "from scipy.stats import randint\n",
        "import shap\n",
        "from pdpbox.pdp import pdp_interact_plot,pdp_plot,pdp_isolate,pdp_interact"
      ]
    },
    {
      "cell_type": "code",
      "source": [
        "from google.colab import drive\n",
        "drive.mount('/content/drive')"
      ],
      "metadata": {
        "colab": {
          "base_uri": "https://localhost:8080/"
        },
        "id": "7UG36bZVccKb",
        "outputId": "3904155c-df69-468d-8466-4483d9cfee16"
      },
      "execution_count": 54,
      "outputs": [
        {
          "output_type": "stream",
          "name": "stdout",
          "text": [
            "Drive already mounted at /content/drive; to attempt to forcibly remount, call drive.mount(\"/content/drive\", force_remount=True).\n"
          ]
        }
      ]
    },
    {
      "cell_type": "markdown",
      "source": [
        "## 1) 데이터 선정 이유 및 문제 정의\n",
        "\n",
        "문제 정의 및 선정이유\n",
        "\n",
        "중고차시장은 점점 커지며 대기업들까지도 진출하고있다.\n",
        "\n",
        "하지만 소비자들은 중고차 시세에 대해 잘 알지못하는 편이다.\n",
        "\n",
        "또한 중고차의 어떤 부분을 포기해야 저렴한 중고차를 구매 할 수 있지는 알기 위함과 중고차 시세 대해 알수 있다면 합리적인 가격으로 구매가능하며 보다 불편함없이 내가원하는 중고차를 구매할 수 있기 때문에 이데이터셋을 선택하였습니다.\n",
        "\n",
        "\n",
        "## 데이터는 캐글의 영국 중고차데이터세트(경쟁형식)을 활용하였습니다.\n",
        "\n",
        "컬럼설명\n",
        "\n",
        "\n",
        "brand : 브랜드\n",
        "\n",
        "model : 자동차 모델\n",
        "\n",
        "year : 년식\n",
        "\n",
        "\n",
        "transmission : 변속기\n",
        "\n",
        "\n",
        "mileage : 주행거리\n",
        "\n",
        "\n",
        "fuelType : 연료종류\n",
        "\n",
        "\n",
        "tax : 세금\n",
        "\n",
        "\n",
        "mpg : 연비\n",
        "\n",
        "\n",
        "engineSize : 엔진사이즈\n",
        "\n",
        "\n",
        "price:가격\n",
        "\n",
        "\n",
        "\n",
        "출처 : https://www.kaggle.com/datasets/kukuroo3/used-car-price-dataset-competition-format"
      ],
      "metadata": {
        "id": "ruGmXYACGsEk"
      }
    },
    {
      "cell_type": "code",
      "source": [
        "x_te = pd.read_csv('/content/drive/MyDrive/archive (14)/X_test.csv',encoding='cp949')\n",
        "x_tr = pd.read_csv('/content/drive/MyDrive/archive (14)/X_train.csv',encoding='cp949')\n",
        "y_tr = pd.read_csv('/content/drive/MyDrive/archive (14)/y_train.csv',encoding='cp949')\n",
        "y_te = pd.read_csv('/content/drive/MyDrive/archive (14)/y_test.csv',encoding='cp949')\n",
        "tr = pd.merge(x_tr,y_tr,how='inner',on='carID')\n",
        "ts = pd.merge(x_te,y_te,how='inner',on='carID')\n",
        "df = pd.concat([tr,ts]).reset_index(drop=True)"
      ],
      "metadata": {
        "id": "k6Jpfl6SwTYJ"
      },
      "execution_count": 55,
      "outputs": []
    },
    {
      "cell_type": "markdown",
      "source": [
        "## 데이터를 평가지표, 베이스라인모델 선택\n",
        "\n",
        "가격을 예측하기 위함이므로 회귀문제이다.\n",
        "그렇기 때문에 타켓인 가격(Price)의 평균값을 베이스라인 모델로 선택하였다."
      ],
      "metadata": {
        "id": "McdzmF38L9IN"
      }
    },
    {
      "cell_type": "markdown",
      "source": [
        "# 데이터 전처리 및 EDA"
      ],
      "metadata": {
        "id": "U3QwlcoTGNu2"
      }
    },
    {
      "cell_type": "code",
      "source": [
        "df_1 = df.copy()"
      ],
      "metadata": {
        "id": "Z4wAbmwdQaN4"
      },
      "execution_count": 56,
      "outputs": []
    },
    {
      "cell_type": "code",
      "source": [
        "df.head()"
      ],
      "metadata": {
        "colab": {
          "base_uri": "https://localhost:8080/",
          "height": 206
        },
        "id": "6iRWqjseNhEE",
        "outputId": "6ec80681-56d8-49d9-c2e9-b0cd851400bd"
      },
      "execution_count": 57,
      "outputs": [
        {
          "output_type": "execute_result",
          "data": {
            "text/plain": [
              "   carID     brand      model  year transmission  mileage fuelType    tax  \\\n",
              "0  13207    hyundi   Santa Fe  2019    Semi-Auto     4223   Diesel  145.0   \n",
              "1  17314  vauxhall        GTC  2015       Manual    47870   Diesel  125.0   \n",
              "2  12342      audi        RS4  2019    Automatic     5151   Petrol  145.0   \n",
              "3  13426        vw   Scirocco  2016    Automatic    20423   Diesel   30.0   \n",
              "4  16004     skoda      Scala  2020    Semi-Auto     3569   Petrol  145.0   \n",
              "\n",
              "    mpg  engineSize  price  \n",
              "0  39.8         2.2  31995  \n",
              "1  60.1         2.0   7700  \n",
              "2  29.1         2.9  58990  \n",
              "3  57.6         2.0  12999  \n",
              "4  47.1         1.0  16990  "
            ],
            "text/html": [
              "\n",
              "  <div id=\"df-7ae530d1-e0f0-4699-bcba-ded937e31e1e\">\n",
              "    <div class=\"colab-df-container\">\n",
              "      <div>\n",
              "<style scoped>\n",
              "    .dataframe tbody tr th:only-of-type {\n",
              "        vertical-align: middle;\n",
              "    }\n",
              "\n",
              "    .dataframe tbody tr th {\n",
              "        vertical-align: top;\n",
              "    }\n",
              "\n",
              "    .dataframe thead th {\n",
              "        text-align: right;\n",
              "    }\n",
              "</style>\n",
              "<table border=\"1\" class=\"dataframe\">\n",
              "  <thead>\n",
              "    <tr style=\"text-align: right;\">\n",
              "      <th></th>\n",
              "      <th>carID</th>\n",
              "      <th>brand</th>\n",
              "      <th>model</th>\n",
              "      <th>year</th>\n",
              "      <th>transmission</th>\n",
              "      <th>mileage</th>\n",
              "      <th>fuelType</th>\n",
              "      <th>tax</th>\n",
              "      <th>mpg</th>\n",
              "      <th>engineSize</th>\n",
              "      <th>price</th>\n",
              "    </tr>\n",
              "  </thead>\n",
              "  <tbody>\n",
              "    <tr>\n",
              "      <th>0</th>\n",
              "      <td>13207</td>\n",
              "      <td>hyundi</td>\n",
              "      <td>Santa Fe</td>\n",
              "      <td>2019</td>\n",
              "      <td>Semi-Auto</td>\n",
              "      <td>4223</td>\n",
              "      <td>Diesel</td>\n",
              "      <td>145.0</td>\n",
              "      <td>39.8</td>\n",
              "      <td>2.2</td>\n",
              "      <td>31995</td>\n",
              "    </tr>\n",
              "    <tr>\n",
              "      <th>1</th>\n",
              "      <td>17314</td>\n",
              "      <td>vauxhall</td>\n",
              "      <td>GTC</td>\n",
              "      <td>2015</td>\n",
              "      <td>Manual</td>\n",
              "      <td>47870</td>\n",
              "      <td>Diesel</td>\n",
              "      <td>125.0</td>\n",
              "      <td>60.1</td>\n",
              "      <td>2.0</td>\n",
              "      <td>7700</td>\n",
              "    </tr>\n",
              "    <tr>\n",
              "      <th>2</th>\n",
              "      <td>12342</td>\n",
              "      <td>audi</td>\n",
              "      <td>RS4</td>\n",
              "      <td>2019</td>\n",
              "      <td>Automatic</td>\n",
              "      <td>5151</td>\n",
              "      <td>Petrol</td>\n",
              "      <td>145.0</td>\n",
              "      <td>29.1</td>\n",
              "      <td>2.9</td>\n",
              "      <td>58990</td>\n",
              "    </tr>\n",
              "    <tr>\n",
              "      <th>3</th>\n",
              "      <td>13426</td>\n",
              "      <td>vw</td>\n",
              "      <td>Scirocco</td>\n",
              "      <td>2016</td>\n",
              "      <td>Automatic</td>\n",
              "      <td>20423</td>\n",
              "      <td>Diesel</td>\n",
              "      <td>30.0</td>\n",
              "      <td>57.6</td>\n",
              "      <td>2.0</td>\n",
              "      <td>12999</td>\n",
              "    </tr>\n",
              "    <tr>\n",
              "      <th>4</th>\n",
              "      <td>16004</td>\n",
              "      <td>skoda</td>\n",
              "      <td>Scala</td>\n",
              "      <td>2020</td>\n",
              "      <td>Semi-Auto</td>\n",
              "      <td>3569</td>\n",
              "      <td>Petrol</td>\n",
              "      <td>145.0</td>\n",
              "      <td>47.1</td>\n",
              "      <td>1.0</td>\n",
              "      <td>16990</td>\n",
              "    </tr>\n",
              "  </tbody>\n",
              "</table>\n",
              "</div>\n",
              "      <button class=\"colab-df-convert\" onclick=\"convertToInteractive('df-7ae530d1-e0f0-4699-bcba-ded937e31e1e')\"\n",
              "              title=\"Convert this dataframe to an interactive table.\"\n",
              "              style=\"display:none;\">\n",
              "        \n",
              "  <svg xmlns=\"http://www.w3.org/2000/svg\" height=\"24px\"viewBox=\"0 0 24 24\"\n",
              "       width=\"24px\">\n",
              "    <path d=\"M0 0h24v24H0V0z\" fill=\"none\"/>\n",
              "    <path d=\"M18.56 5.44l.94 2.06.94-2.06 2.06-.94-2.06-.94-.94-2.06-.94 2.06-2.06.94zm-11 1L8.5 8.5l.94-2.06 2.06-.94-2.06-.94L8.5 2.5l-.94 2.06-2.06.94zm10 10l.94 2.06.94-2.06 2.06-.94-2.06-.94-.94-2.06-.94 2.06-2.06.94z\"/><path d=\"M17.41 7.96l-1.37-1.37c-.4-.4-.92-.59-1.43-.59-.52 0-1.04.2-1.43.59L10.3 9.45l-7.72 7.72c-.78.78-.78 2.05 0 2.83L4 21.41c.39.39.9.59 1.41.59.51 0 1.02-.2 1.41-.59l7.78-7.78 2.81-2.81c.8-.78.8-2.07 0-2.86zM5.41 20L4 18.59l7.72-7.72 1.47 1.35L5.41 20z\"/>\n",
              "  </svg>\n",
              "      </button>\n",
              "      \n",
              "  <style>\n",
              "    .colab-df-container {\n",
              "      display:flex;\n",
              "      flex-wrap:wrap;\n",
              "      gap: 12px;\n",
              "    }\n",
              "\n",
              "    .colab-df-convert {\n",
              "      background-color: #E8F0FE;\n",
              "      border: none;\n",
              "      border-radius: 50%;\n",
              "      cursor: pointer;\n",
              "      display: none;\n",
              "      fill: #1967D2;\n",
              "      height: 32px;\n",
              "      padding: 0 0 0 0;\n",
              "      width: 32px;\n",
              "    }\n",
              "\n",
              "    .colab-df-convert:hover {\n",
              "      background-color: #E2EBFA;\n",
              "      box-shadow: 0px 1px 2px rgba(60, 64, 67, 0.3), 0px 1px 3px 1px rgba(60, 64, 67, 0.15);\n",
              "      fill: #174EA6;\n",
              "    }\n",
              "\n",
              "    [theme=dark] .colab-df-convert {\n",
              "      background-color: #3B4455;\n",
              "      fill: #D2E3FC;\n",
              "    }\n",
              "\n",
              "    [theme=dark] .colab-df-convert:hover {\n",
              "      background-color: #434B5C;\n",
              "      box-shadow: 0px 1px 3px 1px rgba(0, 0, 0, 0.15);\n",
              "      filter: drop-shadow(0px 1px 2px rgba(0, 0, 0, 0.3));\n",
              "      fill: #FFFFFF;\n",
              "    }\n",
              "  </style>\n",
              "\n",
              "      <script>\n",
              "        const buttonEl =\n",
              "          document.querySelector('#df-7ae530d1-e0f0-4699-bcba-ded937e31e1e button.colab-df-convert');\n",
              "        buttonEl.style.display =\n",
              "          google.colab.kernel.accessAllowed ? 'block' : 'none';\n",
              "\n",
              "        async function convertToInteractive(key) {\n",
              "          const element = document.querySelector('#df-7ae530d1-e0f0-4699-bcba-ded937e31e1e');\n",
              "          const dataTable =\n",
              "            await google.colab.kernel.invokeFunction('convertToInteractive',\n",
              "                                                     [key], {});\n",
              "          if (!dataTable) return;\n",
              "\n",
              "          const docLinkHtml = 'Like what you see? Visit the ' +\n",
              "            '<a target=\"_blank\" href=https://colab.research.google.com/notebooks/data_table.ipynb>data table notebook</a>'\n",
              "            + ' to learn more about interactive tables.';\n",
              "          element.innerHTML = '';\n",
              "          dataTable['output_type'] = 'display_data';\n",
              "          await google.colab.output.renderOutput(dataTable, element);\n",
              "          const docLink = document.createElement('div');\n",
              "          docLink.innerHTML = docLinkHtml;\n",
              "          element.appendChild(docLink);\n",
              "        }\n",
              "      </script>\n",
              "    </div>\n",
              "  </div>\n",
              "  "
            ]
          },
          "metadata": {},
          "execution_count": 57
        }
      ]
    },
    {
      "cell_type": "markdown",
      "source": [
        "우선 필요없는 컬럼인 carid칼럼을 삭제시켜줍니다."
      ],
      "metadata": {
        "id": "IzuZZ3pnN_6E"
      }
    },
    {
      "cell_type": "code",
      "source": [
        "df.info()"
      ],
      "metadata": {
        "colab": {
          "base_uri": "https://localhost:8080/"
        },
        "id": "UlP3w2mXWGn4",
        "outputId": "f95e816e-b5fd-4246-972a-86d8d05d9919"
      },
      "execution_count": 58,
      "outputs": [
        {
          "output_type": "stream",
          "name": "stdout",
          "text": [
            "<class 'pandas.core.frame.DataFrame'>\n",
            "RangeIndex: 7632 entries, 0 to 7631\n",
            "Data columns (total 11 columns):\n",
            " #   Column        Non-Null Count  Dtype  \n",
            "---  ------        --------------  -----  \n",
            " 0   carID         7632 non-null   int64  \n",
            " 1   brand         7632 non-null   object \n",
            " 2   model         7632 non-null   object \n",
            " 3   year          7632 non-null   int64  \n",
            " 4   transmission  7632 non-null   object \n",
            " 5   mileage       7632 non-null   int64  \n",
            " 6   fuelType      7632 non-null   object \n",
            " 7   tax           7632 non-null   float64\n",
            " 8   mpg           7632 non-null   float64\n",
            " 9   engineSize    7632 non-null   float64\n",
            " 10  price         7632 non-null   int64  \n",
            "dtypes: float64(3), int64(4), object(4)\n",
            "memory usage: 656.0+ KB\n"
          ]
        }
      ]
    },
    {
      "cell_type": "code",
      "source": [
        "df.isnull().sum()"
      ],
      "metadata": {
        "colab": {
          "base_uri": "https://localhost:8080/"
        },
        "id": "ZHxbMxm3WIvl",
        "outputId": "1ecc62ab-1f6f-48a1-b0d2-7616b4fbbaae"
      },
      "execution_count": 59,
      "outputs": [
        {
          "output_type": "execute_result",
          "data": {
            "text/plain": [
              "carID           0\n",
              "brand           0\n",
              "model           0\n",
              "year            0\n",
              "transmission    0\n",
              "mileage         0\n",
              "fuelType        0\n",
              "tax             0\n",
              "mpg             0\n",
              "engineSize      0\n",
              "price           0\n",
              "dtype: int64"
            ]
          },
          "metadata": {},
          "execution_count": 59
        }
      ]
    },
    {
      "cell_type": "code",
      "source": [
        "df.drop(columns=['carID'],axis=1,inplace=True)"
      ],
      "metadata": {
        "id": "c334WX1UviDV"
      },
      "execution_count": 60,
      "outputs": []
    },
    {
      "cell_type": "code",
      "source": [
        "df['brand'].unique()"
      ],
      "metadata": {
        "colab": {
          "base_uri": "https://localhost:8080/"
        },
        "id": "S3kJ0MxIOGbF",
        "outputId": "4ae6c914-e963-47e6-91f3-1169abf1f99c"
      },
      "execution_count": 61,
      "outputs": [
        {
          "output_type": "execute_result",
          "data": {
            "text/plain": [
              "array(['hyundi', 'vauxhall', 'audi', 'vw', 'skoda', 'merc', 'toyota',\n",
              "       'bmw', 'ford'], dtype=object)"
            ]
          },
          "metadata": {},
          "execution_count": 61
        }
      ]
    },
    {
      "cell_type": "code",
      "source": [
        "df['model'].unique()"
      ],
      "metadata": {
        "colab": {
          "base_uri": "https://localhost:8080/"
        },
        "id": "l-tjPFuqOU2X",
        "outputId": "5224d99f-aace-4a9d-c9b3-813a3ca9c5fa"
      },
      "execution_count": 62,
      "outputs": [
        {
          "output_type": "execute_result",
          "data": {
            "text/plain": [
              "array([' Santa Fe', ' GTC', ' RS4', ' Scirocco', ' Scala', ' V Class',\n",
              "       ' Prius', ' M4', ' Camry', ' KA', ' Vivaro', ' CLS Class',\n",
              "       ' Caravelle', ' Arteon', ' Shuttle', ' I40', ' IX20', ' 6 Series',\n",
              "       ' GL Class', ' S Class', ' S3', ' Yeti', ' Galaxy', ' Puma',\n",
              "       ' Edge', ' A8', ' SLK', ' Kamiq', ' RS6', ' CLA Class',\n",
              "       ' Land Cruiser', ' M Class', ' Q8', ' i3', ' Verso', ' Mustang',\n",
              "       ' IX35', ' Amarok', ' Avensis', ' Grand Tourneo Connect',\n",
              "       ' Antara', ' Tourneo Connect', ' Beetle', ' X4', ' CC', ' GT86',\n",
              "       ' X-CLASS', ' I800', ' i8', ' Caddy Maxi Life', ' Combo Life',\n",
              "       ' Rapid', ' SQ7', ' Grand C-MAX', ' Tourneo Custom', ' California',\n",
              "       ' Agila', ' A7', ' Zafira Tourer', ' G Class', ' Tiguan Allspace',\n",
              "       ' X6', ' M2', ' X7', ' 7 Series', ' Z4', ' RS5', ' Hilux',\n",
              "       ' GLS Class', ' GLB Class', ' M5', ' RS3', ' Caddy Life', ' SQ5',\n",
              "       ' Supra', ' 8 Series', ' Fusion', ' M6', ' M3', ' Jetta', ' S4',\n",
              "       ' R8', ' PROACE VERSO', ' Caddy', ' Getz', ' Eos', ' CLK', ' IQ',\n",
              "       ' Z3', ' Roomster'], dtype=object)"
            ]
          },
          "metadata": {},
          "execution_count": 62
        }
      ]
    },
    {
      "cell_type": "markdown",
      "source": [
        "### 데이터 시각화"
      ],
      "metadata": {
        "id": "wU4ft30qhoHh"
      }
    },
    {
      "cell_type": "markdown",
      "source": [
        "제조사별 평균단가"
      ],
      "metadata": {
        "id": "ouOIz0FAevrV"
      }
    },
    {
      "cell_type": "code",
      "source": [
        "brand = df.groupby('brand')['price'].mean().to_frame().sort_values(by='price')\n",
        "fig = plt.figure(figsize=(15, 8))\n",
        "sns.barplot(x=brand.index,y='price',data=brand)\n",
        "plt.axhline(y = brand['price'].mean(), color = 'gray', linestyle = '--', linewidth = 2)"
      ],
      "metadata": {
        "colab": {
          "base_uri": "https://localhost:8080/",
          "height": 517
        },
        "id": "otAttpddOnT6",
        "outputId": "ab5d9d3e-9960-46e1-e9ed-e9d7fefe7cd2"
      },
      "execution_count": 63,
      "outputs": [
        {
          "output_type": "execute_result",
          "data": {
            "text/plain": [
              "<matplotlib.lines.Line2D at 0x7f31529a0490>"
            ]
          },
          "metadata": {},
          "execution_count": 63
        },
        {
          "output_type": "display_data",
          "data": {
            "text/plain": [
              "<Figure size 1080x576 with 1 Axes>"
            ],
            "image/png": "[encoded data removed]"
          },
          "metadata": {}
        }
      ]
    },
    {
      "cell_type": "markdown",
      "source": [
        "연식별 평균단가"
      ],
      "metadata": {
        "id": "5EUkuX7MicQy"
      }
    },
    {
      "cell_type": "code",
      "source": [
        "year = df.groupby('year')['price'].mean().to_frame().sort_values(by='price')\n",
        "fig = plt.figure(figsize=(15, 8))\n",
        "sns.barplot(x=year.index,y='price',data=year)\n",
        "plt.axhline(y = year['price'].mean(), color = 'gray', linestyle = '--', linewidth = 2)"
      ],
      "metadata": {
        "colab": {
          "base_uri": "https://localhost:8080/",
          "height": 518
        },
        "id": "HjEKRT9yOnRb",
        "outputId": "d30d1546-26ac-4d76-bcff-d0ebe9d8c5fd"
      },
      "execution_count": 64,
      "outputs": [
        {
          "output_type": "execute_result",
          "data": {
            "text/plain": [
              "<matplotlib.lines.Line2D at 0x7f315297f150>"
            ]
          },
          "metadata": {},
          "execution_count": 64
        },
        {
          "output_type": "display_data",
          "data": {
            "text/plain": [
              "<Figure size 1080x576 with 1 Axes>"
            ],
            "image/png": "[encoded data removed]"
          },
          "metadata": {}
        }
      ]
    },
    {
      "cell_type": "code",
      "source": [
        "df.loc[df['year']==1970]"
      ],
      "metadata": {
        "colab": {
          "base_uri": "https://localhost:8080/",
          "height": 81
        },
        "id": "g4ZFDj9WOnPC",
        "outputId": "8decfc7b-c82c-454a-b998-6a91c6b992c9"
      },
      "execution_count": 65,
      "outputs": [
        {
          "output_type": "execute_result",
          "data": {
            "text/plain": [
              "     brand     model  year transmission  mileage fuelType    tax   mpg  \\\n",
              "6782  merc   M Class  1970    Automatic    14000   Diesel  305.0  39.2   \n",
              "\n",
              "      engineSize  price  \n",
              "6782         0.0  24999  "
            ],
            "text/html": [
              "\n",
              "  <div id=\"df-7a043bf3-46dc-4afe-9cd7-777d247d7461\">\n",
              "    <div class=\"colab-df-container\">\n",
              "      <div>\n",
              "<style scoped>\n",
              "    .dataframe tbody tr th:only-of-type {\n",
              "        vertical-align: middle;\n",
              "    }\n",
              "\n",
              "    .dataframe tbody tr th {\n",
              "        vertical-align: top;\n",
              "    }\n",
              "\n",
              "    .dataframe thead th {\n",
              "        text-align: right;\n",
              "    }\n",
              "</style>\n",
              "<table border=\"1\" class=\"dataframe\">\n",
              "  <thead>\n",
              "    <tr style=\"text-align: right;\">\n",
              "      <th></th>\n",
              "      <th>brand</th>\n",
              "      <th>model</th>\n",
              "      <th>year</th>\n",
              "      <th>transmission</th>\n",
              "      <th>mileage</th>\n",
              "      <th>fuelType</th>\n",
              "      <th>tax</th>\n",
              "      <th>mpg</th>\n",
              "      <th>engineSize</th>\n",
              "      <th>price</th>\n",
              "    </tr>\n",
              "  </thead>\n",
              "  <tbody>\n",
              "    <tr>\n",
              "      <th>6782</th>\n",
              "      <td>merc</td>\n",
              "      <td>M Class</td>\n",
              "      <td>1970</td>\n",
              "      <td>Automatic</td>\n",
              "      <td>14000</td>\n",
              "      <td>Diesel</td>\n",
              "      <td>305.0</td>\n",
              "      <td>39.2</td>\n",
              "      <td>0.0</td>\n",
              "      <td>24999</td>\n",
              "    </tr>\n",
              "  </tbody>\n",
              "</table>\n",
              "</div>\n",
              "      <button class=\"colab-df-convert\" onclick=\"convertToInteractive('df-7a043bf3-46dc-4afe-9cd7-777d247d7461')\"\n",
              "              title=\"Convert this dataframe to an interactive table.\"\n",
              "              style=\"display:none;\">\n",
              "        \n",
              "  <svg xmlns=\"http://www.w3.org/2000/svg\" height=\"24px\"viewBox=\"0 0 24 24\"\n",
              "       width=\"24px\">\n",
              "    <path d=\"M0 0h24v24H0V0z\" fill=\"none\"/>\n",
              "    <path d=\"M18.56 5.44l.94 2.06.94-2.06 2.06-.94-2.06-.94-.94-2.06-.94 2.06-2.06.94zm-11 1L8.5 8.5l.94-2.06 2.06-.94-2.06-.94L8.5 2.5l-.94 2.06-2.06.94zm10 10l.94 2.06.94-2.06 2.06-.94-2.06-.94-.94-2.06-.94 2.06-2.06.94z\"/><path d=\"M17.41 7.96l-1.37-1.37c-.4-.4-.92-.59-1.43-.59-.52 0-1.04.2-1.43.59L10.3 9.45l-7.72 7.72c-.78.78-.78 2.05 0 2.83L4 21.41c.39.39.9.59 1.41.59.51 0 1.02-.2 1.41-.59l7.78-7.78 2.81-2.81c.8-.78.8-2.07 0-2.86zM5.41 20L4 18.59l7.72-7.72 1.47 1.35L5.41 20z\"/>\n",
              "  </svg>\n",
              "      </button>\n",
              "      \n",
              "  <style>\n",
              "    .colab-df-container {\n",
              "      display:flex;\n",
              "      flex-wrap:wrap;\n",
              "      gap: 12px;\n",
              "    }\n",
              "\n",
              "    .colab-df-convert {\n",
              "      background-color: #E8F0FE;\n",
              "      border: none;\n",
              "      border-radius: 50%;\n",
              "      cursor: pointer;\n",
              "      display: none;\n",
              "      fill: #1967D2;\n",
              "      height: 32px;\n",
              "      padding: 0 0 0 0;\n",
              "      width: 32px;\n",
              "    }\n",
              "\n",
              "    .colab-df-convert:hover {\n",
              "      background-color: #E2EBFA;\n",
              "      box-shadow: 0px 1px 2px rgba(60, 64, 67, 0.3), 0px 1px 3px 1px rgba(60, 64, 67, 0.15);\n",
              "      fill: #174EA6;\n",
              "    }\n",
              "\n",
              "    [theme=dark] .colab-df-convert {\n",
              "      background-color: #3B4455;\n",
              "      fill: #D2E3FC;\n",
              "    }\n",
              "\n",
              "    [theme=dark] .colab-df-convert:hover {\n",
              "      background-color: #434B5C;\n",
              "      box-shadow: 0px 1px 3px 1px rgba(0, 0, 0, 0.15);\n",
              "      filter: drop-shadow(0px 1px 2px rgba(0, 0, 0, 0.3));\n",
              "      fill: #FFFFFF;\n",
              "    }\n",
              "  </style>\n",
              "\n",
              "      <script>\n",
              "        const buttonEl =\n",
              "          document.querySelector('#df-7a043bf3-46dc-4afe-9cd7-777d247d7461 button.colab-df-convert');\n",
              "        buttonEl.style.display =\n",
              "          google.colab.kernel.accessAllowed ? 'block' : 'none';\n",
              "\n",
              "        async function convertToInteractive(key) {\n",
              "          const element = document.querySelector('#df-7a043bf3-46dc-4afe-9cd7-777d247d7461');\n",
              "          const dataTable =\n",
              "            await google.colab.kernel.invokeFunction('convertToInteractive',\n",
              "                                                     [key], {});\n",
              "          if (!dataTable) return;\n",
              "\n",
              "          const docLinkHtml = 'Like what you see? Visit the ' +\n",
              "            '<a target=\"_blank\" href=https://colab.research.google.com/notebooks/data_table.ipynb>data table notebook</a>'\n",
              "            + ' to learn more about interactive tables.';\n",
              "          element.innerHTML = '';\n",
              "          dataTable['output_type'] = 'display_data';\n",
              "          await google.colab.output.renderOutput(dataTable, element);\n",
              "          const docLink = document.createElement('div');\n",
              "          docLink.innerHTML = docLinkHtml;\n",
              "          element.appendChild(docLink);\n",
              "        }\n",
              "      </script>\n",
              "    </div>\n",
              "  </div>\n",
              "  "
            ]
          },
          "metadata": {},
          "execution_count": 65
        }
      ]
    },
    {
      "cell_type": "code",
      "source": [
        "df.loc[df['year']==1998]"
      ],
      "metadata": {
        "colab": {
          "base_uri": "https://localhost:8080/",
          "height": 206
        },
        "id": "Oe5bSDjDOnMl",
        "outputId": "1527889c-629c-4c28-ea57-9c030c507e6e"
      },
      "execution_count": 66,
      "outputs": [
        {
          "output_type": "execute_result",
          "data": {
            "text/plain": [
              "       brand          model  year transmission  mileage fuelType    tax   mpg  \\\n",
              "3014    merc        S Class  1998    Automatic    43534   Petrol  265.0  23.3   \n",
              "4578    merc            SLK  1998    Automatic   113557   Petrol  265.0  32.1   \n",
              "6154  toyota   Land Cruiser  1998       Manual   100000   Diesel  265.0  23.9   \n",
              "6984    merc            SLK  1998    Automatic    99300   Petrol  265.0  32.1   \n",
              "7045     bmw             Z3  1998       Manual    56500   Petrol  270.0  35.3   \n",
              "\n",
              "      engineSize  price  \n",
              "3014         6.0  19990  \n",
              "4578         2.3   1990  \n",
              "6154         4.2  19990  \n",
              "6984         2.3   1990  \n",
              "7045         1.9   3950  "
            ],
            "text/html": [
              "\n",
              "  <div id=\"df-8c5d29df-cb06-4301-b499-6d8e871064a4\">\n",
              "    <div class=\"colab-df-container\">\n",
              "      <div>\n",
              "<style scoped>\n",
              "    .dataframe tbody tr th:only-of-type {\n",
              "        vertical-align: middle;\n",
              "    }\n",
              "\n",
              "    .dataframe tbody tr th {\n",
              "        vertical-align: top;\n",
              "    }\n",
              "\n",
              "    .dataframe thead th {\n",
              "        text-align: right;\n",
              "    }\n",
              "</style>\n",
              "<table border=\"1\" class=\"dataframe\">\n",
              "  <thead>\n",
              "    <tr style=\"text-align: right;\">\n",
              "      <th></th>\n",
              "      <th>brand</th>\n",
              "      <th>model</th>\n",
              "      <th>year</th>\n",
              "      <th>transmission</th>\n",
              "      <th>mileage</th>\n",
              "      <th>fuelType</th>\n",
              "      <th>tax</th>\n",
              "      <th>mpg</th>\n",
              "      <th>engineSize</th>\n",
              "      <th>price</th>\n",
              "    </tr>\n",
              "  </thead>\n",
              "  <tbody>\n",
              "    <tr>\n",
              "      <th>3014</th>\n",
              "      <td>merc</td>\n",
              "      <td>S Class</td>\n",
              "      <td>1998</td>\n",
              "      <td>Automatic</td>\n",
              "      <td>43534</td>\n",
              "      <td>Petrol</td>\n",
              "      <td>265.0</td>\n",
              "      <td>23.3</td>\n",
              "      <td>6.0</td>\n",
              "      <td>19990</td>\n",
              "    </tr>\n",
              "    <tr>\n",
              "      <th>4578</th>\n",
              "      <td>merc</td>\n",
              "      <td>SLK</td>\n",
              "      <td>1998</td>\n",
              "      <td>Automatic</td>\n",
              "      <td>113557</td>\n",
              "      <td>Petrol</td>\n",
              "      <td>265.0</td>\n",
              "      <td>32.1</td>\n",
              "      <td>2.3</td>\n",
              "      <td>1990</td>\n",
              "    </tr>\n",
              "    <tr>\n",
              "      <th>6154</th>\n",
              "      <td>toyota</td>\n",
              "      <td>Land Cruiser</td>\n",
              "      <td>1998</td>\n",
              "      <td>Manual</td>\n",
              "      <td>100000</td>\n",
              "      <td>Diesel</td>\n",
              "      <td>265.0</td>\n",
              "      <td>23.9</td>\n",
              "      <td>4.2</td>\n",
              "      <td>19990</td>\n",
              "    </tr>\n",
              "    <tr>\n",
              "      <th>6984</th>\n",
              "      <td>merc</td>\n",
              "      <td>SLK</td>\n",
              "      <td>1998</td>\n",
              "      <td>Automatic</td>\n",
              "      <td>99300</td>\n",
              "      <td>Petrol</td>\n",
              "      <td>265.0</td>\n",
              "      <td>32.1</td>\n",
              "      <td>2.3</td>\n",
              "      <td>1990</td>\n",
              "    </tr>\n",
              "    <tr>\n",
              "      <th>7045</th>\n",
              "      <td>bmw</td>\n",
              "      <td>Z3</td>\n",
              "      <td>1998</td>\n",
              "      <td>Manual</td>\n",
              "      <td>56500</td>\n",
              "      <td>Petrol</td>\n",
              "      <td>270.0</td>\n",
              "      <td>35.3</td>\n",
              "      <td>1.9</td>\n",
              "      <td>3950</td>\n",
              "    </tr>\n",
              "  </tbody>\n",
              "</table>\n",
              "</div>\n",
              "      <button class=\"colab-df-convert\" onclick=\"convertToInteractive('df-8c5d29df-cb06-4301-b499-6d8e871064a4')\"\n",
              "              title=\"Convert this dataframe to an interactive table.\"\n",
              "              style=\"display:none;\">\n",
              "        \n",
              "  <svg xmlns=\"http://www.w3.org/2000/svg\" height=\"24px\"viewBox=\"0 0 24 24\"\n",
              "       width=\"24px\">\n",
              "    <path d=\"M0 0h24v24H0V0z\" fill=\"none\"/>\n",
              "    <path d=\"M18.56 5.44l.94 2.06.94-2.06 2.06-.94-2.06-.94-.94-2.06-.94 2.06-2.06.94zm-11 1L8.5 8.5l.94-2.06 2.06-.94-2.06-.94L8.5 2.5l-.94 2.06-2.06.94zm10 10l.94 2.06.94-2.06 2.06-.94-2.06-.94-.94-2.06-.94 2.06-2.06.94z\"/><path d=\"M17.41 7.96l-1.37-1.37c-.4-.4-.92-.59-1.43-.59-.52 0-1.04.2-1.43.59L10.3 9.45l-7.72 7.72c-.78.78-.78 2.05 0 2.83L4 21.41c.39.39.9.59 1.41.59.51 0 1.02-.2 1.41-.59l7.78-7.78 2.81-2.81c.8-.78.8-2.07 0-2.86zM5.41 20L4 18.59l7.72-7.72 1.47 1.35L5.41 20z\"/>\n",
              "  </svg>\n",
              "      </button>\n",
              "      \n",
              "  <style>\n",
              "    .colab-df-container {\n",
              "      display:flex;\n",
              "      flex-wrap:wrap;\n",
              "      gap: 12px;\n",
              "    }\n",
              "\n",
              "    .colab-df-convert {\n",
              "      background-color: #E8F0FE;\n",
              "      border: none;\n",
              "      border-radius: 50%;\n",
              "      cursor: pointer;\n",
              "      display: none;\n",
              "      fill: #1967D2;\n",
              "      height: 32px;\n",
              "      padding: 0 0 0 0;\n",
              "      width: 32px;\n",
              "    }\n",
              "\n",
              "    .colab-df-convert:hover {\n",
              "      background-color: #E2EBFA;\n",
              "      box-shadow: 0px 1px 2px rgba(60, 64, 67, 0.3), 0px 1px 3px 1px rgba(60, 64, 67, 0.15);\n",
              "      fill: #174EA6;\n",
              "    }\n",
              "\n",
              "    [theme=dark] .colab-df-convert {\n",
              "      background-color: #3B4455;\n",
              "      fill: #D2E3FC;\n",
              "    }\n",
              "\n",
              "    [theme=dark] .colab-df-convert:hover {\n",
              "      background-color: #434B5C;\n",
              "      box-shadow: 0px 1px 3px 1px rgba(0, 0, 0, 0.15);\n",
              "      filter: drop-shadow(0px 1px 2px rgba(0, 0, 0, 0.3));\n",
              "      fill: #FFFFFF;\n",
              "    }\n",
              "  </style>\n",
              "\n",
              "      <script>\n",
              "        const buttonEl =\n",
              "          document.querySelector('#df-8c5d29df-cb06-4301-b499-6d8e871064a4 button.colab-df-convert');\n",
              "        buttonEl.style.display =\n",
              "          google.colab.kernel.accessAllowed ? 'block' : 'none';\n",
              "\n",
              "        async function convertToInteractive(key) {\n",
              "          const element = document.querySelector('#df-8c5d29df-cb06-4301-b499-6d8e871064a4');\n",
              "          const dataTable =\n",
              "            await google.colab.kernel.invokeFunction('convertToInteractive',\n",
              "                                                     [key], {});\n",
              "          if (!dataTable) return;\n",
              "\n",
              "          const docLinkHtml = 'Like what you see? Visit the ' +\n",
              "            '<a target=\"_blank\" href=https://colab.research.google.com/notebooks/data_table.ipynb>data table notebook</a>'\n",
              "            + ' to learn more about interactive tables.';\n",
              "          element.innerHTML = '';\n",
              "          dataTable['output_type'] = 'display_data';\n",
              "          await google.colab.output.renderOutput(dataTable, element);\n",
              "          const docLink = document.createElement('div');\n",
              "          docLink.innerHTML = docLinkHtml;\n",
              "          element.appendChild(docLink);\n",
              "        }\n",
              "      </script>\n",
              "    </div>\n",
              "  </div>\n",
              "  "
            ]
          },
          "metadata": {},
          "execution_count": 66
        }
      ]
    },
    {
      "cell_type": "markdown",
      "source": [
        "변속유형별 평균단가"
      ],
      "metadata": {
        "id": "2kBv5UQ9jqff"
      }
    },
    {
      "cell_type": "code",
      "source": [
        "tran = df.groupby('transmission')['price'].mean().to_frame().sort_values(by='price')\n",
        "fig = plt.figure(figsize=(15, 8))\n",
        "sns.barplot(x=tran.index,y='price',data=tran)\n",
        "plt.axhline(y = tran['price'].mean(), color = 'gray', linestyle = '--', linewidth = 2)"
      ],
      "metadata": {
        "colab": {
          "base_uri": "https://localhost:8080/",
          "height": 520
        },
        "id": "aPqjFt1FOnKS",
        "outputId": "d2fb8c9c-ff6b-4255-d0e5-b314415ec74b"
      },
      "execution_count": 67,
      "outputs": [
        {
          "output_type": "execute_result",
          "data": {
            "text/plain": [
              "<matplotlib.lines.Line2D at 0x7f315044a450>"
            ]
          },
          "metadata": {},
          "execution_count": 67
        },
        {
          "output_type": "display_data",
          "data": {
            "text/plain": [
              "<Figure size 1080x576 with 1 Axes>"
            ],
            "image/png": "[encoded data removed]"
          },
          "metadata": {}
        }
      ]
    },
    {
      "cell_type": "markdown",
      "source": [
        "연료 유형별 평균단가"
      ],
      "metadata": {
        "id": "TZVdvSBQkB5_"
      }
    },
    {
      "cell_type": "code",
      "source": [
        "fuel = df.groupby('fuelType')['price'].mean().to_frame().sort_values(by='price')\n",
        "fig = plt.figure(figsize=(15, 8))\n",
        "sns.barplot(x=fuel.index,y='price',data=fuel)\n",
        "plt.axhline(y = fuel['price'].mean(), color = 'gray', linestyle = '--', linewidth = 2)"
      ],
      "metadata": {
        "colab": {
          "base_uri": "https://localhost:8080/",
          "height": 517
        },
        "id": "mk8iYzJHkEfV",
        "outputId": "f0400066-ff6b-4847-f100-d0c8b92fc2ca"
      },
      "execution_count": 68,
      "outputs": [
        {
          "output_type": "execute_result",
          "data": {
            "text/plain": [
              "<matplotlib.lines.Line2D at 0x7f31503bfe10>"
            ]
          },
          "metadata": {},
          "execution_count": 68
        },
        {
          "output_type": "display_data",
          "data": {
            "text/plain": [
              "<Figure size 1080x576 with 1 Axes>"
            ],
            "image/png": "[encoded data removed]"
          },
          "metadata": {}
        }
      ]
    },
    {
      "cell_type": "markdown",
      "source": [
        "수치형컬럼들의 상관관계분석 히트맵"
      ],
      "metadata": {
        "id": "CfsJUY-1k4uR"
      }
    },
    {
      "cell_type": "code",
      "source": [
        "df.corr()"
      ],
      "metadata": {
        "id": "20NpQbJ8MhGw",
        "outputId": "1ec1dc95-51ce-453d-8f80-fa2d56316b59",
        "colab": {
          "base_uri": "https://localhost:8080/",
          "height": 238
        }
      },
      "execution_count": 69,
      "outputs": [
        {
          "output_type": "execute_result",
          "data": {
            "text/plain": [
              "                year   mileage       tax       mpg  engineSize     price\n",
              "year        1.000000 -0.753325 -0.200159 -0.040006    0.032041  0.498388\n",
              "mileage    -0.753325  1.000000  0.124939  0.075106   -0.018777 -0.486950\n",
              "tax        -0.200159  0.124939  1.000000 -0.311065    0.456532  0.142273\n",
              "mpg        -0.040006  0.075106 -0.311065  1.000000   -0.353857 -0.178982\n",
              "engineSize  0.032041 -0.018777  0.456532 -0.353857    1.000000  0.623995\n",
              "price       0.498388 -0.486950  0.142273 -0.178982    0.623995  1.000000"
            ],
            "text/html": [
              "\n",
              "  <div id=\"df-a47dfd9c-c3e1-4e5d-9d64-c3fe93346dfd\">\n",
              "    <div class=\"colab-df-container\">\n",
              "      <div>\n",
              "<style scoped>\n",
              "    .dataframe tbody tr th:only-of-type {\n",
              "        vertical-align: middle;\n",
              "    }\n",
              "\n",
              "    .dataframe tbody tr th {\n",
              "        vertical-align: top;\n",
              "    }\n",
              "\n",
              "    .dataframe thead th {\n",
              "        text-align: right;\n",
              "    }\n",
              "</style>\n",
              "<table border=\"1\" class=\"dataframe\">\n",
              "  <thead>\n",
              "    <tr style=\"text-align: right;\">\n",
              "      <th></th>\n",
              "      <th>year</th>\n",
              "      <th>mileage</th>\n",
              "      <th>tax</th>\n",
              "      <th>mpg</th>\n",
              "      <th>engineSize</th>\n",
              "      <th>price</th>\n",
              "    </tr>\n",
              "  </thead>\n",
              "  <tbody>\n",
              "    <tr>\n",
              "      <th>year</th>\n",
              "      <td>1.000000</td>\n",
              "      <td>-0.753325</td>\n",
              "      <td>-0.200159</td>\n",
              "      <td>-0.040006</td>\n",
              "      <td>0.032041</td>\n",
              "      <td>0.498388</td>\n",
              "    </tr>\n",
              "    <tr>\n",
              "      <th>mileage</th>\n",
              "      <td>-0.753325</td>\n",
              "      <td>1.000000</td>\n",
              "      <td>0.124939</td>\n",
              "      <td>0.075106</td>\n",
              "      <td>-0.018777</td>\n",
              "      <td>-0.486950</td>\n",
              "    </tr>\n",
              "    <tr>\n",
              "      <th>tax</th>\n",
              "      <td>-0.200159</td>\n",
              "      <td>0.124939</td>\n",
              "      <td>1.000000</td>\n",
              "      <td>-0.311065</td>\n",
              "      <td>0.456532</td>\n",
              "      <td>0.142273</td>\n",
              "    </tr>\n",
              "    <tr>\n",
              "      <th>mpg</th>\n",
              "      <td>-0.040006</td>\n",
              "      <td>0.075106</td>\n",
              "      <td>-0.311065</td>\n",
              "      <td>1.000000</td>\n",
              "      <td>-0.353857</td>\n",
              "      <td>-0.178982</td>\n",
              "    </tr>\n",
              "    <tr>\n",
              "      <th>engineSize</th>\n",
              "      <td>0.032041</td>\n",
              "      <td>-0.018777</td>\n",
              "      <td>0.456532</td>\n",
              "      <td>-0.353857</td>\n",
              "      <td>1.000000</td>\n",
              "      <td>0.623995</td>\n",
              "    </tr>\n",
              "    <tr>\n",
              "      <th>price</th>\n",
              "      <td>0.498388</td>\n",
              "      <td>-0.486950</td>\n",
              "      <td>0.142273</td>\n",
              "      <td>-0.178982</td>\n",
              "      <td>0.623995</td>\n",
              "      <td>1.000000</td>\n",
              "    </tr>\n",
              "  </tbody>\n",
              "</table>\n",
              "</div>\n",
              "      <button class=\"colab-df-convert\" onclick=\"convertToInteractive('df-a47dfd9c-c3e1-4e5d-9d64-c3fe93346dfd')\"\n",
              "              title=\"Convert this dataframe to an interactive table.\"\n",
              "              style=\"display:none;\">\n",
              "        \n",
              "  <svg xmlns=\"http://www.w3.org/2000/svg\" height=\"24px\"viewBox=\"0 0 24 24\"\n",
              "       width=\"24px\">\n",
              "    <path d=\"M0 0h24v24H0V0z\" fill=\"none\"/>\n",
              "    <path d=\"M18.56 5.44l.94 2.06.94-2.06 2.06-.94-2.06-.94-.94-2.06-.94 2.06-2.06.94zm-11 1L8.5 8.5l.94-2.06 2.06-.94-2.06-.94L8.5 2.5l-.94 2.06-2.06.94zm10 10l.94 2.06.94-2.06 2.06-.94-2.06-.94-.94-2.06-.94 2.06-2.06.94z\"/><path d=\"M17.41 7.96l-1.37-1.37c-.4-.4-.92-.59-1.43-.59-.52 0-1.04.2-1.43.59L10.3 9.45l-7.72 7.72c-.78.78-.78 2.05 0 2.83L4 21.41c.39.39.9.59 1.41.59.51 0 1.02-.2 1.41-.59l7.78-7.78 2.81-2.81c.8-.78.8-2.07 0-2.86zM5.41 20L4 18.59l7.72-7.72 1.47 1.35L5.41 20z\"/>\n",
              "  </svg>\n",
              "      </button>\n",
              "      \n",
              "  <style>\n",
              "    .colab-df-container {\n",
              "      display:flex;\n",
              "      flex-wrap:wrap;\n",
              "      gap: 12px;\n",
              "    }\n",
              "\n",
              "    .colab-df-convert {\n",
              "      background-color: #E8F0FE;\n",
              "      border: none;\n",
              "      border-radius: 50%;\n",
              "      cursor: pointer;\n",
              "      display: none;\n",
              "      fill: #1967D2;\n",
              "      height: 32px;\n",
              "      padding: 0 0 0 0;\n",
              "      width: 32px;\n",
              "    }\n",
              "\n",
              "    .colab-df-convert:hover {\n",
              "      background-color: #E2EBFA;\n",
              "      box-shadow: 0px 1px 2px rgba(60, 64, 67, 0.3), 0px 1px 3px 1px rgba(60, 64, 67, 0.15);\n",
              "      fill: #174EA6;\n",
              "    }\n",
              "\n",
              "    [theme=dark] .colab-df-convert {\n",
              "      background-color: #3B4455;\n",
              "      fill: #D2E3FC;\n",
              "    }\n",
              "\n",
              "    [theme=dark] .colab-df-convert:hover {\n",
              "      background-color: #434B5C;\n",
              "      box-shadow: 0px 1px 3px 1px rgba(0, 0, 0, 0.15);\n",
              "      filter: drop-shadow(0px 1px 2px rgba(0, 0, 0, 0.3));\n",
              "      fill: #FFFFFF;\n",
              "    }\n",
              "  </style>\n",
              "\n",
              "      <script>\n",
              "        const buttonEl =\n",
              "          document.querySelector('#df-a47dfd9c-c3e1-4e5d-9d64-c3fe93346dfd button.colab-df-convert');\n",
              "        buttonEl.style.display =\n",
              "          google.colab.kernel.accessAllowed ? 'block' : 'none';\n",
              "\n",
              "        async function convertToInteractive(key) {\n",
              "          const element = document.querySelector('#df-a47dfd9c-c3e1-4e5d-9d64-c3fe93346dfd');\n",
              "          const dataTable =\n",
              "            await google.colab.kernel.invokeFunction('convertToInteractive',\n",
              "                                                     [key], {});\n",
              "          if (!dataTable) return;\n",
              "\n",
              "          const docLinkHtml = 'Like what you see? Visit the ' +\n",
              "            '<a target=\"_blank\" href=https://colab.research.google.com/notebooks/data_table.ipynb>data table notebook</a>'\n",
              "            + ' to learn more about interactive tables.';\n",
              "          element.innerHTML = '';\n",
              "          dataTable['output_type'] = 'display_data';\n",
              "          await google.colab.output.renderOutput(dataTable, element);\n",
              "          const docLink = document.createElement('div');\n",
              "          docLink.innerHTML = docLinkHtml;\n",
              "          element.appendChild(docLink);\n",
              "        }\n",
              "      </script>\n",
              "    </div>\n",
              "  </div>\n",
              "  "
            ]
          },
          "metadata": {},
          "execution_count": 69
        }
      ]
    },
    {
      "cell_type": "code",
      "source": [
        "fig, ax = plt.subplots(figsize=(12,10))\n",
        "\n",
        "sns.heatmap(df.corr(), # 위에서 전처리한 데이터프레임\n",
        "            annot = True, # 숫자 표시 여부\n",
        "            ax = ax, # 히트맵을 그릴 격자\n",
        "            linewidths = 0.4, # 선의 굵기\n",
        "            linecolor = 'white', # 선의 색깔\n",
        "            fmt = '.1f', # 소수점 포맷팅 형태\n",
        "            cmap = 'YlOrRd') # colormap 형태\n",
        "\n",
        "plt.title('bike sharing by season and hours', size = 15)\n",
        "plt.ylabel('season', size = 13)\n",
        "plt.xlabel('hours', size = 13) \n",
        "\n",
        "plt.xticks(rotation=45, size = 12)\n",
        "plt.yticks(size=12) \n",
        "plt.show()"
      ],
      "metadata": {
        "id": "TXxrEHtRNO5f",
        "outputId": "29cd20d0-7f07-4aa2-e74d-14206ddf5ab2",
        "colab": {
          "base_uri": "https://localhost:8080/",
          "height": 672
        }
      },
      "execution_count": 70,
      "outputs": [
        {
          "output_type": "display_data",
          "data": {
            "text/plain": [
              "<Figure size 864x720 with 2 Axes>"
            ],
            "image/png": "[encoded data removed]"
          },
          "metadata": {}
        }
      ]
    },
    {
      "cell_type": "markdown",
      "source": [
        "## 4) 머신러닝 방식 적용"
      ],
      "metadata": {
        "id": "gzN5FNOs0_x3"
      }
    },
    {
      "cell_type": "code",
      "source": [
        "objlist = df.select_dtypes(include = \"object\").columns\n",
        "label = LabelEncoder()\n",
        "df[objlist] = df[objlist].apply(label.fit_transform)"
      ],
      "metadata": {
        "id": "b-jzGkAhLh_t"
      },
      "execution_count": 71,
      "outputs": []
    },
    {
      "cell_type": "code",
      "source": [
        "target = df['price']\n",
        "features = df.drop(columns='price')"
      ],
      "metadata": {
        "id": "cuF8vurh84Au"
      },
      "execution_count": 72,
      "outputs": []
    },
    {
      "cell_type": "code",
      "source": [
        "x_train,x_test,y_train,y_test = train_test_split(features,target,test_size=0.2,random_state=42)\n",
        "\n",
        "print(x_train.shape,x_test.shape,y_train.shape,y_test.shape)"
      ],
      "metadata": {
        "colab": {
          "base_uri": "https://localhost:8080/"
        },
        "id": "Wl3yf5L_lcks",
        "outputId": "9fa8c8de-cba5-4373-e263-1e123f82f017"
      },
      "execution_count": 73,
      "outputs": [
        {
          "output_type": "stream",
          "name": "stdout",
          "text": [
            "(6105, 9) (1527, 9) (6105,) (1527,)\n"
          ]
        }
      ]
    },
    {
      "cell_type": "markdown",
      "source": [
        "기준모델 생성"
      ],
      "metadata": {
        "id": "d28nWtBO7L9T"
      }
    },
    {
      "cell_type": "code",
      "source": [
        "predict = df['price'].mean()"
      ],
      "metadata": {
        "id": "Pnj1EXYgOnH7"
      },
      "execution_count": 74,
      "outputs": []
    },
    {
      "cell_type": "code",
      "source": [
        "price=pd.DataFrame(df['price'])"
      ],
      "metadata": {
        "id": "sKKK6K41OnFb"
      },
      "execution_count": 75,
      "outputs": []
    },
    {
      "cell_type": "code",
      "source": [
        "price['predict'] = predict"
      ],
      "metadata": {
        "id": "mvB7Z1McdGRI"
      },
      "execution_count": 76,
      "outputs": []
    },
    {
      "cell_type": "code",
      "source": [
        "price"
      ],
      "metadata": {
        "colab": {
          "base_uri": "https://localhost:8080/",
          "height": 424
        },
        "id": "szRofrG8cxRZ",
        "outputId": "21c70c47-3383-4cf0-d714-96a240eb9ef6"
      },
      "execution_count": 77,
      "outputs": [
        {
          "output_type": "execute_result",
          "data": {
            "text/plain": [
              "      price       predict\n",
              "0     31995  23579.922825\n",
              "1      7700  23579.922825\n",
              "2     58990  23579.922825\n",
              "3     12999  23579.922825\n",
              "4     16990  23579.922825\n",
              "...     ...           ...\n",
              "7627  28990  23579.922825\n",
              "7628  17450  23579.922825\n",
              "7629  21995  23579.922825\n",
              "7630  18700  23579.922825\n",
              "7631   2999  23579.922825\n",
              "\n",
              "[7632 rows x 2 columns]"
            ],
            "text/html": [
              "\n",
              "  <div id=\"df-f1481c3e-014b-40cb-966f-50c6fe96af5c\">\n",
              "    <div class=\"colab-df-container\">\n",
              "      <div>\n",
              "<style scoped>\n",
              "    .dataframe tbody tr th:only-of-type {\n",
              "        vertical-align: middle;\n",
              "    }\n",
              "\n",
              "    .dataframe tbody tr th {\n",
              "        vertical-align: top;\n",
              "    }\n",
              "\n",
              "    .dataframe thead th {\n",
              "        text-align: right;\n",
              "    }\n",
              "</style>\n",
              "<table border=\"1\" class=\"dataframe\">\n",
              "  <thead>\n",
              "    <tr style=\"text-align: right;\">\n",
              "      <th></th>\n",
              "      <th>price</th>\n",
              "      <th>predict</th>\n",
              "    </tr>\n",
              "  </thead>\n",
              "  <tbody>\n",
              "    <tr>\n",
              "      <th>0</th>\n",
              "      <td>31995</td>\n",
              "      <td>23579.922825</td>\n",
              "    </tr>\n",
              "    <tr>\n",
              "      <th>1</th>\n",
              "      <td>7700</td>\n",
              "      <td>23579.922825</td>\n",
              "    </tr>\n",
              "    <tr>\n",
              "      <th>2</th>\n",
              "      <td>58990</td>\n",
              "      <td>23579.922825</td>\n",
              "    </tr>\n",
              "    <tr>\n",
              "      <th>3</th>\n",
              "      <td>12999</td>\n",
              "      <td>23579.922825</td>\n",
              "    </tr>\n",
              "    <tr>\n",
              "      <th>4</th>\n",
              "      <td>16990</td>\n",
              "      <td>23579.922825</td>\n",
              "    </tr>\n",
              "    <tr>\n",
              "      <th>...</th>\n",
              "      <td>...</td>\n",
              "      <td>...</td>\n",
              "    </tr>\n",
              "    <tr>\n",
              "      <th>7627</th>\n",
              "      <td>28990</td>\n",
              "      <td>23579.922825</td>\n",
              "    </tr>\n",
              "    <tr>\n",
              "      <th>7628</th>\n",
              "      <td>17450</td>\n",
              "      <td>23579.922825</td>\n",
              "    </tr>\n",
              "    <tr>\n",
              "      <th>7629</th>\n",
              "      <td>21995</td>\n",
              "      <td>23579.922825</td>\n",
              "    </tr>\n",
              "    <tr>\n",
              "      <th>7630</th>\n",
              "      <td>18700</td>\n",
              "      <td>23579.922825</td>\n",
              "    </tr>\n",
              "    <tr>\n",
              "      <th>7631</th>\n",
              "      <td>2999</td>\n",
              "      <td>23579.922825</td>\n",
              "    </tr>\n",
              "  </tbody>\n",
              "</table>\n",
              "<p>7632 rows × 2 columns</p>\n",
              "</div>\n",
              "      <button class=\"colab-df-convert\" onclick=\"convertToInteractive('df-f1481c3e-014b-40cb-966f-50c6fe96af5c')\"\n",
              "              title=\"Convert this dataframe to an interactive table.\"\n",
              "              style=\"display:none;\">\n",
              "        \n",
              "  <svg xmlns=\"http://www.w3.org/2000/svg\" height=\"24px\"viewBox=\"0 0 24 24\"\n",
              "       width=\"24px\">\n",
              "    <path d=\"M0 0h24v24H0V0z\" fill=\"none\"/>\n",
              "    <path d=\"M18.56 5.44l.94 2.06.94-2.06 2.06-.94-2.06-.94-.94-2.06-.94 2.06-2.06.94zm-11 1L8.5 8.5l.94-2.06 2.06-.94-2.06-.94L8.5 2.5l-.94 2.06-2.06.94zm10 10l.94 2.06.94-2.06 2.06-.94-2.06-.94-.94-2.06-.94 2.06-2.06.94z\"/><path d=\"M17.41 7.96l-1.37-1.37c-.4-.4-.92-.59-1.43-.59-.52 0-1.04.2-1.43.59L10.3 9.45l-7.72 7.72c-.78.78-.78 2.05 0 2.83L4 21.41c.39.39.9.59 1.41.59.51 0 1.02-.2 1.41-.59l7.78-7.78 2.81-2.81c.8-.78.8-2.07 0-2.86zM5.41 20L4 18.59l7.72-7.72 1.47 1.35L5.41 20z\"/>\n",
              "  </svg>\n",
              "      </button>\n",
              "      \n",
              "  <style>\n",
              "    .colab-df-container {\n",
              "      display:flex;\n",
              "      flex-wrap:wrap;\n",
              "      gap: 12px;\n",
              "    }\n",
              "\n",
              "    .colab-df-convert {\n",
              "      background-color: #E8F0FE;\n",
              "      border: none;\n",
              "      border-radius: 50%;\n",
              "      cursor: pointer;\n",
              "      display: none;\n",
              "      fill: #1967D2;\n",
              "      height: 32px;\n",
              "      padding: 0 0 0 0;\n",
              "      width: 32px;\n",
              "    }\n",
              "\n",
              "    .colab-df-convert:hover {\n",
              "      background-color: #E2EBFA;\n",
              "      box-shadow: 0px 1px 2px rgba(60, 64, 67, 0.3), 0px 1px 3px 1px rgba(60, 64, 67, 0.15);\n",
              "      fill: #174EA6;\n",
              "    }\n",
              "\n",
              "    [theme=dark] .colab-df-convert {\n",
              "      background-color: #3B4455;\n",
              "      fill: #D2E3FC;\n",
              "    }\n",
              "\n",
              "    [theme=dark] .colab-df-convert:hover {\n",
              "      background-color: #434B5C;\n",
              "      box-shadow: 0px 1px 3px 1px rgba(0, 0, 0, 0.15);\n",
              "      filter: drop-shadow(0px 1px 2px rgba(0, 0, 0, 0.3));\n",
              "      fill: #FFFFFF;\n",
              "    }\n",
              "  </style>\n",
              "\n",
              "      <script>\n",
              "        const buttonEl =\n",
              "          document.querySelector('#df-f1481c3e-014b-40cb-966f-50c6fe96af5c button.colab-df-convert');\n",
              "        buttonEl.style.display =\n",
              "          google.colab.kernel.accessAllowed ? 'block' : 'none';\n",
              "\n",
              "        async function convertToInteractive(key) {\n",
              "          const element = document.querySelector('#df-f1481c3e-014b-40cb-966f-50c6fe96af5c');\n",
              "          const dataTable =\n",
              "            await google.colab.kernel.invokeFunction('convertToInteractive',\n",
              "                                                     [key], {});\n",
              "          if (!dataTable) return;\n",
              "\n",
              "          const docLinkHtml = 'Like what you see? Visit the ' +\n",
              "            '<a target=\"_blank\" href=https://colab.research.google.com/notebooks/data_table.ipynb>data table notebook</a>'\n",
              "            + ' to learn more about interactive tables.';\n",
              "          element.innerHTML = '';\n",
              "          dataTable['output_type'] = 'display_data';\n",
              "          await google.colab.output.renderOutput(dataTable, element);\n",
              "          const docLink = document.createElement('div');\n",
              "          docLink.innerHTML = docLinkHtml;\n",
              "          element.appendChild(docLink);\n",
              "        }\n",
              "      </script>\n",
              "    </div>\n",
              "  </div>\n",
              "  "
            ]
          },
          "metadata": {},
          "execution_count": 77
        }
      ]
    },
    {
      "cell_type": "code",
      "source": [
        "r2_score(price['price'], price['predict'])"
      ],
      "metadata": {
        "id": "W3uYMOVZ_uZD",
        "colab": {
          "base_uri": "https://localhost:8080/"
        },
        "outputId": "112878a1-5bb2-48b8-cf78-23797e5d57be"
      },
      "execution_count": 78,
      "outputs": [
        {
          "output_type": "execute_result",
          "data": {
            "text/plain": [
              "0.0"
            ]
          },
          "metadata": {},
          "execution_count": 78
        }
      ]
    },
    {
      "cell_type": "markdown",
      "source": [
        "릿지모형"
      ],
      "metadata": {
        "id": "vYBA-_eytudO"
      }
    },
    {
      "cell_type": "code",
      "source": [
        "dists = { \n",
        "    'alpha': [0.1,1,10,100],}\n",
        "\n",
        "clf = RandomizedSearchCV(\n",
        "    Ridge(), \n",
        "    param_distributions=dists, \n",
        "    n_iter=100, \n",
        "    cv=5,\n",
        "    scoring='r2',\n",
        "    verbose=1,\n",
        "    n_jobs=-1\n",
        ")\n",
        "\n",
        "clf.fit(x_train, y_train);\n",
        "print('최적 하이퍼파라미터: ', clf.best_params_)\n",
        "print('R2: ', clf.best_score_)"
      ],
      "metadata": {
        "colab": {
          "base_uri": "https://localhost:8080/"
        },
        "id": "6iB8t_5eOnCq",
        "outputId": "3c47c0ff-c488-4869-8d44-639d08af46ee"
      },
      "execution_count": 79,
      "outputs": [
        {
          "output_type": "stream",
          "name": "stdout",
          "text": [
            "Fitting 5 folds for each of 4 candidates, totalling 20 fits\n",
            "최적 하이퍼파라미터:  {'alpha': 10}\n",
            "R2:  0.676871551817235\n"
          ]
        }
      ]
    },
    {
      "cell_type": "markdown",
      "source": [
        "라쏘"
      ],
      "metadata": {
        "id": "FRbuibUstw75"
      }
    },
    {
      "cell_type": "code",
      "source": [
        "dists = { \n",
        "    'alpha': [0.1,1,10,100], }\n",
        "\n",
        "clf_1 = RandomizedSearchCV(\n",
        "    Lasso(), \n",
        "    param_distributions=dists, \n",
        "    n_iter=100, \n",
        "    cv=5,\n",
        "    scoring='r2',\n",
        "    verbose=1,\n",
        "    n_jobs=-1\n",
        ")\n",
        "\n",
        "clf_1.fit(x_train, y_train);\n",
        "print('최적 하이퍼파라미터: ', clf_1.best_params_)\n",
        "print('R2: ', clf_1.best_score_)"
      ],
      "metadata": {
        "colab": {
          "base_uri": "https://localhost:8080/"
        },
        "id": "0AdtNJdotU3c",
        "outputId": "6c7cb14c-8df7-4143-d00d-eda833aa3f0d"
      },
      "execution_count": 80,
      "outputs": [
        {
          "output_type": "stream",
          "name": "stdout",
          "text": [
            "Fitting 5 folds for each of 4 candidates, totalling 20 fits\n",
            "최적 하이퍼파라미터:  {'alpha': 10}\n",
            "R2:  0.6768683545562992\n"
          ]
        }
      ]
    },
    {
      "cell_type": "markdown",
      "source": [
        "엘라스틱넷"
      ],
      "metadata": {
        "id": "5t4uRFf8tzLi"
      }
    },
    {
      "cell_type": "code",
      "source": [
        "dists = { \n",
        "    'alpha': [0.1,1,10,100]}\n",
        "\n",
        "clf_2 = RandomizedSearchCV(\n",
        "    ElasticNet(), \n",
        "    param_distributions=dists, \n",
        "    n_iter=100, \n",
        "    cv=5,\n",
        "    scoring='r2',\n",
        "    verbose=1,\n",
        "    n_jobs=-1\n",
        ")\n",
        "\n",
        "clf_2.fit(x_train, y_train);\n",
        "print('최적 하이퍼파라미터: ', clf_2.best_params_)\n",
        "print('R2: ', clf_2.best_score_)"
      ],
      "metadata": {
        "colab": {
          "base_uri": "https://localhost:8080/"
        },
        "id": "7awiYhK9t5w5",
        "outputId": "c81cac98-7a2a-41af-d950-cc568aba6c57"
      },
      "execution_count": 81,
      "outputs": [
        {
          "output_type": "stream",
          "name": "stdout",
          "text": [
            "Fitting 5 folds for each of 4 candidates, totalling 20 fits\n",
            "최적 하이퍼파라미터:  {'alpha': 0.1}\n",
            "R2:  0.673399466397983\n"
          ]
        }
      ]
    },
    {
      "cell_type": "code",
      "source": [
        "dists = {\n",
        "    'n_estimators': randint(50, 1000),\n",
        "    'max_depth': randint(1,50), \n",
        "    'min_samples_leaf' : randint(1, 50),\n",
        "    'max_features': ['sqrt','log2',None]}\n",
        "\n",
        "clf_3 = RandomizedSearchCV(\n",
        "    RandomForestRegressor(random_state=2), \n",
        "    param_distributions=dists, \n",
        "    n_iter=50, \n",
        "    cv=3, \n",
        "    scoring='r2',  \n",
        "    verbose=1,\n",
        "    n_jobs=-1\n",
        ")\n",
        "\n",
        "clf_3.fit(x_train, y_train)\n",
        "print('최적 하이퍼파라미터: ', clf_3.best_params_)\n",
        "print('R2: ', clf_3.best_score_)"
      ],
      "metadata": {
        "colab": {
          "base_uri": "https://localhost:8080/"
        },
        "id": "1fv6cX5c3xnz",
        "outputId": "dcb2ae00-3f43-49ff-b719-a563123834e0"
      },
      "execution_count": 82,
      "outputs": [
        {
          "output_type": "stream",
          "name": "stdout",
          "text": [
            "Fitting 3 folds for each of 50 candidates, totalling 150 fits\n",
            "최적 하이퍼파라미터:  {'max_depth': 40, 'max_features': 'sqrt', 'min_samples_leaf': 1, 'n_estimators': 494}\n",
            "R2:  0.9493564794814046\n"
          ]
        }
      ]
    },
    {
      "cell_type": "code",
      "source": [
        "dists = {\n",
        "    'max_depth': randint(1,50), \n",
        "    'min_samples_leaf' : randint(1, 50),\n",
        "    'max_features': ['sqrt','log2',None]\n",
        "}\n",
        "\n",
        "clf_4 = RandomizedSearchCV(\n",
        "    DecisionTreeRegressor(), \n",
        "    param_distributions=dists, \n",
        "    n_iter=50, \n",
        "    cv=3, \n",
        "    scoring='r2',  \n",
        "    verbose=1,\n",
        "    n_jobs=-1\n",
        ")\n",
        "\n",
        "clf_4.fit(x_train, y_train)\n",
        "print('최적 하이퍼파라미터: ', clf_4.best_params_)\n",
        "print('R2: ', clf_4.best_score_)"
      ],
      "metadata": {
        "colab": {
          "base_uri": "https://localhost:8080/"
        },
        "id": "CoLhscVR5FI5",
        "outputId": "925e08b2-db14-4075-eb0a-8c214a0075c0"
      },
      "execution_count": 83,
      "outputs": [
        {
          "output_type": "stream",
          "name": "stdout",
          "text": [
            "Fitting 3 folds for each of 50 candidates, totalling 150 fits\n",
            "최적 하이퍼파라미터:  {'max_depth': 31, 'max_features': None, 'min_samples_leaf': 8}\n",
            "R2:  0.9003332604651906\n"
          ]
        }
      ]
    },
    {
      "cell_type": "markdown",
      "source": [
        ""
      ],
      "metadata": {
        "id": "mvAa3YDMl-gH"
      }
    },
    {
      "cell_type": "code",
      "source": [
        "print('릿지의 R2 Score :', clf.best_estimator_.score(x_test, y_test))\n",
        "print('라쏘의 R2 Score :', clf_1.best_estimator_.score(x_test, y_test))\n",
        "print('엘라스틱넷의 R2 Score :', clf_2.best_estimator_.score(x_test, y_test))\n",
        "print('랜덤포레스트의 R2 Score :', clf_3.best_estimator_.score(x_test, y_test))\n",
        "print('의사결정나무의 R2 Score :', clf_4.best_estimator_.score(x_test, y_test))\n",
        "\n",
        "model = clf_3.best_estimator_"
      ],
      "metadata": {
        "colab": {
          "base_uri": "https://localhost:8080/"
        },
        "id": "Tgbq90DLAHUz",
        "outputId": "d76326d0-97bc-488c-c17b-f95b362b2da8"
      },
      "execution_count": 84,
      "outputs": [
        {
          "output_type": "stream",
          "name": "stdout",
          "text": [
            "릿지의 R2 Score : 0.6431853734995936\n",
            "라쏘의 R2 Score : 0.6430281950916372\n",
            "엘라스틱넷의 R2 Score : 0.6451459091219385\n",
            "랜덤포레스트의 R2 Score : 0.9552798029553178\n",
            "의사결정나무의 R2 Score : 0.91467156210352\n"
          ]
        }
      ]
    },
    {
      "cell_type": "markdown",
      "source": [
        "##  머신러닝 모델 해석"
      ],
      "metadata": {
        "id": "eoMiFw8wuhlK"
      }
    },
    {
      "cell_type": "code",
      "source": [
        "model.feature_names = df.drop('price', axis = 1).columns"
      ],
      "metadata": {
        "id": "fVVFfURjv4hL"
      },
      "execution_count": 85,
      "outputs": []
    },
    {
      "cell_type": "code",
      "source": [
        "feat_df= pd.DataFrame({'feature': model.feature_names,'importance':model.feature_importances_*100})"
      ],
      "metadata": {
        "id": "gopHnSme-U4N"
      },
      "execution_count": 86,
      "outputs": []
    },
    {
      "cell_type": "code",
      "source": [
        "sorted_df=feat_df.sort_values('importance', ascending=False)"
      ],
      "metadata": {
        "id": "srLz0zD-q3kO"
      },
      "execution_count": 87,
      "outputs": []
    },
    {
      "cell_type": "code",
      "source": [
        "plt.figure(figsize=(12,10))\n",
        "ax =sns.barplot(y='importance', x='feature', data=sorted_df.head(10), palette='mako')\n",
        "plt.title('Feature Importance to predict price by RandomForestRegressor')\n",
        "plt.ylabel('Feature Importance (%)')\n",
        "plt.show()"
      ],
      "metadata": {
        "id": "uLwh4jBB-cU4",
        "outputId": "b2c7f8df-fc3a-430f-de26-7498ed803212",
        "colab": {
          "base_uri": "https://localhost:8080/",
          "height": 626
        }
      },
      "execution_count": 88,
      "outputs": [
        {
          "output_type": "display_data",
          "data": {
            "text/plain": [
              "<Figure size 864x720 with 1 Axes>"
            ],
            "image/png": "[encoded data removed]"
          },
          "metadata": {}
        }
      ]
    },
    {
      "cell_type": "code",
      "source": [
        "explainer = shap.TreeExplainer(\n",
        "    model, x_train, feature_names = df.drop('price', axis = 1).columns)\n",
        "shap_values = explainer.shap_values(x_train, y_train,check_additivity=False)\n",
        "shap.summary_plot(shap_values, x_train, feature_names=df.drop('price', axis = 1).columns);"
      ],
      "metadata": {
        "colab": {
          "base_uri": "https://localhost:8080/"
        },
        "id": "rA3mPvjsmN_T",
        "outputId": "efbf4aab-eeee-449c-b85c-079dd925b1c6"
      },
      "execution_count": null,
      "outputs": [
        {
          "output_type": "stream",
          "name": "stderr",
          "text": [
            "  4%|=                   | 237/6105 [01:50<45:23]       "
          ]
        }
      ]
    },
    {
      "cell_type": "code",
      "source": [
        "feature = 'engineSize'\n",
        "pdp_dist = pdp_isolate(model, dataset=x_test, model_features=x_test.columns, feature=feature)\n",
        "pdp_plot(pdp_dist, feature);"
      ],
      "metadata": {
        "id": "SCnDFoIRCCac"
      },
      "execution_count": null,
      "outputs": []
    },
    {
      "cell_type": "markdown",
      "source": [
        "## 모델 예측"
      ],
      "metadata": {
        "id": "IAuOErpAJoqn"
      }
    },
    {
      "cell_type": "code",
      "source": [
        "df_1.loc[400:401]"
      ],
      "metadata": {
        "id": "kx4BnefTnZ0T"
      },
      "execution_count": null,
      "outputs": []
    },
    {
      "cell_type": "code",
      "source": [
        "df_1.drop(columns=['carID'],axis=1,inplace=True)\n",
        "df_1.drop(columns=['price'],axis=1,inplace=True)"
      ],
      "metadata": {
        "id": "CVq1_CoyYuwe"
      },
      "execution_count": null,
      "outputs": []
    },
    {
      "cell_type": "code",
      "source": [
        "df_1[objlist] = df_1[objlist].apply(label.fit_transform)"
      ],
      "metadata": {
        "id": "KsUkbxGXWg9R"
      },
      "execution_count": null,
      "outputs": []
    },
    {
      "cell_type": "code",
      "source": [
        "test = pd.DataFrame(df_1.loc[400]).T\n",
        "test.head()\n",
        "model.predict(test)"
      ],
      "metadata": {
        "id": "d2vIHWI_XU7B"
      },
      "execution_count": null,
      "outputs": []
    }
  ],
  "metadata": {
    "kernelspec": {
      "display_name": "Python 3.8.13 ('project')",
      "language": "python",
      "name": "python3"
    },
    "language_info": {
      "name": "python",
      "version": "3.8.13"
    },
    "orig_nbformat": 4,
    "vscode": {
      "interpreter": {
        "hash": "44d57017c1b6173835ff1040695944a179f6a80f9366fbedbcc22755c53915b4"
      }
    },
    "colab": {
      "name": "분류모델.ipynb",
      "provenance": [],
      "include_colab_link": true
    },
    "gpuClass": "standard"
  },
  "nbformat": 4,
  "nbformat_minor": 0
}